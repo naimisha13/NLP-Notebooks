{
 "cells": [
  {
   "cell_type": "markdown",
   "metadata": {},
   "source": [
    "## Word Vectors\n",
    "\n",
    "This assignment is comprised of two parts:\n",
    "\n",
    "1. **Theory**: Solve two exercises about logistic regression and softmax regression. Prove that using sums of word vectors as phrase embeddings is problematic.\n",
    "2. **Implementation**: You will  experiment with sparse and dense vector representations of words.\n",
    "\n",
    "\n",
    "Word Vectors are often used as a fundamental component for downstream NLP tasks, e.g. question answering, text generation, translation, etc., so it is important to build some intuitions as to their strengths and weaknesses. Here, you will explore two types of word vectors:\n",
    "\n",
    "- those derived from *co-occurrence matrices*, and \n",
    "\n",
    "- those derived via *word2vec*. \n",
    "\n",
    "**Note on Terminology:** The terms \"word vectors\" and \"word embeddings\" are often used interchangeably. The term \"embedding\" refers to the fact that we are encoding aspects of a word's meaning in a lower dimensional space. As [Wikipedia](https://en.wikipedia.org/wiki/Word_embedding) states, \"*conceptually it involves a mathematical embedding from a space with one dimension per word to a continuous vector space with a much lower dimension*\".\n",
    "\n",
    "Before getting started with the implementation, install the gensim library:\n",
    "\n",
    "```sh\n",
    "conda install gensim\n",
    "```\n",
    "\n",
    "To be able to download the large word2vec embeddings file, you may need to run Jupyter Notebook with the following command line option:\n",
    "  `jupyter notebook --NotebookApp.iopub_msg_rate_limit=1.0e10`"
   ]
  },
  {
   "cell_type": "markdown",
   "metadata": {},
   "source": [
    "## Name: Naimisha Churi"
   ]
  },
  {
   "cell_type": "markdown",
   "metadata": {},
   "source": [
    "# <font color=\"blue\"> Submission Instructions</font>\n",
    "\n",
    "1. Click the Save button at the top of the Jupyter Notebook.\n",
    "2. Please make sure to have entered your name above.\n",
    "3. Select Cell -> All Output -> Clear. This will clear all the outputs from all cells (but will keep the content of ll cells). \n",
    "4. Select Cell -> Run All. This will run all the cells in order, and will take several minutes.\n",
    "5. Once you've rerun everything, select File -> Download as -> PDF via LaTeX and download a .pdf version showing the code and the output of all cells, and save it in the same folder that contains the notebook file .ipynb.\n",
    "6. Look at the PDF file and make sure all your solutions are there, displayed correctly. The PDF is the only thing we will see when grading!\n",
    "7. Submit **both** your PDF and notebook on Canvas.\n",
    "8. Verify your Canvas submission contains the correct files by downloading them after posting them on Canvas."
   ]
  },
  {
   "cell_type": "markdown",
   "metadata": {},
   "source": [
    "# Theory"
   ]
  },
  {
   "cell_type": "markdown",
   "metadata": {},
   "source": [
    "## Theory (4111 & 5111): Properties of cosine similarity\n",
    "\n",
    "1. Prove that doubling the length of a vector $\\mathbf{u}$ does not change its cosine similarity with any other vector $\\mathbf{v}$, i.e. prove that $cos(2\\mathbf{u}, \\mathbf{v}) = cos(\\mathbf{u}, \\mathbf{v})$.\n",
    "2. Could the cosine similarity be negative when using $tf.idf$ vector representations? Explain your answer.\n",
    "3. Could the cosine similarity be negative when using prediction-based, dense vector representations? Explain your answer."
   ]
  },
  {
   "cell_type": "markdown",
   "metadata": {},
   "source": [
    "YOUR ANSWERS go here ...<br>\n",
    "\n",
    "<ol>\n",
    "    <li>\n",
    "    Let $\\text{u}=〈{u}_{1},{u}_{2}...{u}_{n}〉 and \\text{v}=〈{v}_{1},{v}_{2}...{v}_{n}〉$. Then,<br><br>\n",
    "    the vector $2\\text{u} = 〈2{u}_{1},{2u}_{2}...2{u}_{n}〉$ <br><br>\n",
    "    $cos(2\\mathbf{u},\\mathbf{v}) = \\frac{2\\mathbf{u}.\\mathbf{v}}{\\mathbf{||2u||}.\\mathbf{||v||}}$<br><br>\n",
    "    $cos(2\\mathbf{u},\\mathbf{v}) = \\frac{2({u}_{1}{v}_{1},{u}_{2}{v}_{2}...{u}_{n}{v}_{n})}{2.\\mathbf{||u||}.\\mathbf{||v||}}$<br><br>\n",
    "    $cos(2\\mathbf{u},\\mathbf{v}) = \\frac{\\mathbf{u}.\\mathbf{v}}{\\mathbf{||u||}.\\mathbf{||v||}}$<br><br>\n",
    "    $cos(2\\mathbf{u},\\mathbf{v}) = cos(\\mathbf{u},\\mathbf{v})$<br><br><br>\n",
    "    </li>\n",
    "    <li>\n",
    "    The way a $tf.idf$ vector is generated, it cannot take up a negative value. Both term frequency and inverse document frequency are positive numbers. Since $tf.idf$ equals term frequency multiplied by inverse document frequency, the product cannot be less than 0. This means that the angle between the vectors will fall in the range of 0 to 90 degrees. Since the cosine value ranges from 1 to 0 for an angle in that range, the cosine similarity cannot be negative when using $tf.idf$ vector representations\n",
    "    </li>\n",
    "    <li>\n",
    "    Values in a dense vector can be negative. This may lead to a negative dot product of the vectors of which we need to calculate the cosine similarity. As the denominator of the cosine similarity is a product of two euclidian distances which cannot be negative, the cosine similarity can take up a negative value when calculated using the dense vector representations\n",
    "    </li>"
   ]
  },
  {
   "cell_type": "markdown",
   "metadata": {},
   "source": [
    "## Theory (5111): On the fitting power of Logistic Regression\n",
    "\n",
    "\n",
    "Consider a training set that contains the 4 training examples shown in the table below. Each training example $\\mathbf{x}$ has 2 features $x_1$ and $x_2$ and a label $y \\in \\{0, 1\\}$.\n",
    "$$\\begin{aligned}\n",
    "\\begin{array}{cccc}\n",
    "\\mathbf{x} & x_1 & x_2 & y \\\\\n",
    "\\hline\n",
    "\\mathbf{x}^{(1)} & 0 & 0 & 0 \\\\\n",
    "\\mathbf{x}^{(2)} & 0 & 1 & 1 \\\\\n",
    "\\mathbf{x}^{(3)} & 1 & 0 & 1 \\\\\n",
    "\\mathbf{x}^{(4)} & 1 & 1 & 0 \\\\\n",
    "\\end{array}\n",
    "\\end{aligned}$$\n",
    "Prove that no binary logistic regression model can perfectly classify this dataset. \n",
    "\n",
    "*Hint: Prove that there cannot be a vector of parameters $\\mathbf{w} = [w_1, w_2]$ and bias $b$ such that $P(t = 1|\\mathbf{x}; \\mathbf{w}, b) \\geq 0.5$ for all examples $\\mathbf{x}$ that are positive, and $P(t = 1|\\mathbf{x}; \\mathbf{w}, b) < 0.5$ for all examples $\\mathbf{x}$ that are negative.*"
   ]
  },
  {
   "cell_type": "markdown",
   "metadata": {},
   "source": [
    "YOUR SOLUTION goes here ...<br>\n",
    "\n",
    "This is a XOR problem. Since it is not a linear problem it cannot be represented using a set of coefficients which are generated by the linear regression model which is a linear model.\n",
    "<br>\n",
    "Proof:<br>\n",
    "Consider the weights generated by the linear regression model as $\\mathbf{w} = [w_1, w_2]$, and threshold be equal to t<br>\n",
    "To prove: <br>\n",
    "$ 1.w_1 + 0.w_2 >= t $ <br>\n",
    "$ 0.w_1 + 1.w_2 >= t $ <br>\n",
    "$ 0.w_1 + 0.w_2  < t $ <br>\n",
    "$ 1.w_1 + 1.w_2  < t $ <br>\n",
    "\n",
    "$ w_1 >= t $ <br>\n",
    "$ w_2 >= t $ <br>\n",
    "$ 0 < t $ <br>\n",
    "$ w_1 + w_2 < t $ which is a contradiction<br>\n",
    "\n",
    "Therefore, the points are not linearly seperable thus cannot be correctly classified by a linear model like logistic regression."
   ]
  },
  {
   "cell_type": "markdown",
   "metadata": {},
   "source": [
    "## Theory (5111): Binary vs. Multiclass Logistic Regression\n",
    "\n",
    "Show that binary Logistic Regression is a special case of multiclass Logistic (Softmax) Regression. That is to say, if $\\mathbf{w}_1$ and $\\mathbf{w}_2$ are the parameter vectors of a Softmax Regression model for the case of two classes, then there exists a parameter vector $\\mathbf{w}$ for binary Logistic Regression that results in the same classification as the Softmax Regression model.\n",
    "\n",
    "*Hint: Find $\\mathbf{w}$ as a function of $\\mathbf{w}_1$ and $\\mathbf{w}_2$.*"
   ]
  },
  {
   "cell_type": "markdown",
   "metadata": {},
   "source": [
    "YOUR SOLUTION goes here ... <br>\n",
    "\n",
    "The softmax function is given as: <br>\n",
    "$softmax(z_j) = \\frac{e^{(z_j)}}{\\sum_{i=1}^n e^{(z_i)}} $ <br>\n",
    "\n",
    "For binary Logistic Regression: <br>\n",
    "\n",
    "$softmax(z_1) = \\frac{e^{(z_1)}}{\\sum_{i=1}^n e^{(z_i)}} $ <br>\n",
    "$softmax(z_2) = \\frac{e^{(z_2)}}{\\sum_{i=1}^n e^{(z_i)}} $ <br>\n",
    "\n",
    "\n",
    "For Binary Logistic regression, substitute n = 2 in the above equations<br>\n",
    "\n",
    "$softmax(z_1) = \\frac{e^{(z_1)}}{\\sum_{i=1}^2 e^{(z_i)}} $ <br>\n",
    "$      = \\frac{e^{(z_1)}}{e^{(z_1)} + e^{(z_2)}} $\n",
    "\n",
    "We also know that, <br>\n",
    "$z_1 = w_1x + b_1$ <br>\n",
    "and <br>\n",
    "$z_2 = w_2x + b_2$ <br>\n",
    "\n",
    "$softmax(z_1) = \\frac{e^{(z_1)}}{e^{(z_1)} + e^{(z_2)}}$ and \n",
    "$softmax(z_2) = \\frac{e^{(z_2)}}{e^{(z_1)} + e^{(z_2)}}$ <br>\n",
    "\n",
    "\n",
    "considering $softmax(z_1),$ <br>\n",
    "\n",
    "\n",
    "$z_1 = w_1x + b_1$ <br>\n",
    "therefore,<br>\n",
    "$ softmax(z_1) = \\frac{e^{(w_1x + b_1)}}{e^{(w_1x + b_1)}+e^{(w_2x + b_2)}}$ <br>\n",
    "$ softmax(z_1) = \\frac{1}{1+ e^{(w_2-w_1)x + (b_2-b_1)}} $ <br>\n",
    "let $ w = w_1-w_2 $ and $ b = b_1-b_2$<br>\n",
    "then, <br>\n",
    "$ softmax(z_1) = \\frac{1}{1+ e^{-(wx + b)}} $ <br>\n",
    "\n",
    "Which is equal to the value of sigmoid functions for $ z_1$"
   ]
  },
  {
   "cell_type": "markdown",
   "metadata": {},
   "source": [
    "## Theory (Bonus points): Phrase embeddings\n",
    "\n",
    "Given a phrase consisting of a sequence of M words, $phrase = [word_1, word_2, ..., word_M]$, and given that we have already trained word embeddings $E(word)$ for all the words $word \\in V$ in the vocabulary, a simple way of creating an embedding for the phrase is by summing up the embeddings of its words:\n",
    "\\begin{equation}\n",
    "  E(phrase) = \\sum_{m = 1}^M E(word_m)\n",
    "\\end{equation}\n",
    "Considering an entire movie review to be a very long phrase, we could then train a binary logistic regression model with parameters $\\mathbf{w}$ and $b$ for sentiment classification. In that case, the larger the logit score $z(phrase) = \\mathbf{w}^T E(phrase) + b$, the higher the probability the model assigns to the positive sentiment for this $phrase$. Prove that in this approach, irrespective of the model parameters, the inequalities below cannot both hold:\n",
    "\\begin{eqnarray}\n",
    "  z(good) & > & z(not \\; good) \\\\\n",
    "  z(bad) & < & z(not \\; bad)\n",
    "\\end{eqnarray}"
   ]
  },
  {
   "cell_type": "markdown",
   "metadata": {},
   "source": [
    "YOUR SOLUTION goes here ...<br>\n",
    "\n",
    "In the binary logistic regression, the way the parameters w, and b are calculated, the features which contribute most to the postive sentiment of the classification problem are assigned a higher value than the features which contribute to the negative sentiment. Snce the $\\mathbf{w}$s for a negative class is always minimised, it will always be lesser than the positive class as thie summation will also lead to a lesser number which will lead to lesser values for a $phrase$ that is classified a s negative than a positive $phrase$<br>\n",
    "So if we classify the documents as good and not good, we get z(good) > z(not good)<br>\n",
    "and if we classify the documents as bad and not bad, we get z(bad) > z(not bad)<br>\n",
    "Therefore, the inequalities stated in the problem statement cannot both hold true"
   ]
  },
  {
   "cell_type": "markdown",
   "metadata": {},
   "source": [
    "## Theory (Bonus points): Time and memory complexity\n",
    "\n",
    "1. Describe an **efficient** procedure (pseudocode) for computing the $tf.idf$ vectors for all the words in a vocabulary $V$, given a set of documents $D$ that contain a total of $N$ word occurrences, and a context window of size $C$. Compute its time and memory complexity, as a function of the size of $V$, $D$, $N$, and $C$.\n",
    "2. What are the time and memory complexity of the skip-gram word2vec model described in class for learning dense word embeddings? Assume the vocabulary is $V$, the corpus is a sequence of words of length $N$, the context window contains $C$ words, and that for every context word we sample $K$ negative words. Assume a gradient descent update is made for each center (target) word, and that the algorithm runs $E$ passes over the entire corpus."
   ]
  },
  {
   "cell_type": "markdown",
   "metadata": {},
   "source": [
    "YOUR SOLUTION goes here ...<br>\n",
    "\n",
    "A) Pseudocode:<br>\n",
    "1. obtain all the unique tokens V form the set of documents D<br>\n",
    "2. for every window of size C<br>\n",
    "3. do for all documents tf_idf = log(D[window] + 1) * log(N/D[window])<br>\n",
    "Time complexity = O(C*D/N) <br>\n",
    "<br>\n",
    "\n",
    "B) For space complexity: <br>\n",
    "\n",
    "let n be the size of window<br>\n",
    "\n",
    "V*(N/V(n+1)) -- POSITIVE WORDS <br>\n",
    "(KV)*(N/V(n+1)) -- NEGATIVE WORDS<br>\n",
    "Therefore, Space complexity = O(N(K+1)) ... taking n as constant<br>\n",
    "<br>\n",
    "For Time complexity: <br>\n",
    "O(E(N(K+1)/V))"
   ]
  },
  {
   "cell_type": "markdown",
   "metadata": {},
   "source": [
    "# Implementation"
   ]
  },
  {
   "cell_type": "code",
   "execution_count": 1,
   "metadata": {},
   "outputs": [],
   "source": [
    "# All required import statements are here.\n",
    "from collections import defaultdict, Counter\n",
    "import math\n",
    "import operator\n",
    "import gzip\n",
    "\n",
    "import numpy as np\n",
    "import random\n",
    "import scipy as sp\n",
    "from sklearn.decomposition import TruncatedSVD\n",
    "\n",
    "import pprint\n",
    "import matplotlib.pyplot as plt\n",
    "plt.rcParams['figure.figsize'] = [10, 5]\n",
    "\n",
    "np.random.seed(0)\n",
    "random.seed(0)"
   ]
  },
  {
   "cell_type": "markdown",
   "metadata": {},
   "source": [
    "## Part 1: Count-Based Word Vectors\n",
    "\n",
    "Most word vector models start from the following idea:\n",
    "\n",
    "*You shall know a word by the company it keeps ([Firth, J. R. 1957:11](https://en.wikipedia.org/wiki/John_Rupert_Firth))*\n",
    "\n",
    "Many word vector implementations are driven by the idea that similar words, i.e., (near) synonyms, will be used in similar contexts. As a result, similar words will often be spoken or written along with a shared subset of words, i.e., contexts. By examining these contexts, we can try to develop embeddings for our words. With this intuition in mind, many \"old school\" approaches to constructing word vectors relied on word counts.\n",
    "\n",
    "This part explores distributional similiarity in a dataset of 10,000 Wikipedia articles (4.4M words), building high-dimensional, sparse representations for words from the distinct contexts they appear in.  These representations allow for analysis of the most similar words to a given query."
   ]
  },
  {
   "cell_type": "code",
   "execution_count": 2,
   "metadata": {},
   "outputs": [],
   "source": [
    "window = 4\n",
    "vocabSize = 10000"
   ]
  },
  {
   "cell_type": "markdown",
   "metadata": {},
   "source": [
    "### Question 1.1: Load corpus and create document frequency  dictionary\n",
    "\n",
    "Load the data from the Wikipedia file. Each line contains a Wikipedia document. After running this code, `wiki_data` should contain a list of all lowercased tokens in the corpus that contain only letters, whereas `dfs` should be a dictionary that maps each unique token to the number of Wikipedia documents in which the token appears (i.e. its document frequency)."
   ]
  },
  {
   "cell_type": "code",
   "execution_count": 42,
   "metadata": {},
   "outputs": [
    {
     "name": "stdout",
     "output_type": "stream",
     "text": [
      "Total number of documents: 10000\n"
     ]
    }
   ],
   "source": [
    "filename = \"../data/wiki.10K.txt\"\n",
    "\n",
    "dfs = defaultdict(int)\n",
    "\n",
    "#Defaultdict is a container like dictionaries present in the module collections. \n",
    "# Defaultdict is a sub-class of the dictionary class that returns a dictionary-like object. \n",
    "# The functionality of both dictionaries and defaultdict are almost same except for the fact that defaultdict \n",
    "# never raises a KeyError. It provides a default value for the key that does not exists.\n",
    "\n",
    "Ndocs = 0\n",
    "wiki_data = []\n",
    "with open(filename, 'r', encoding = \"utf-8\") as fwiki:\n",
    "    for line in fwiki:\n",
    "        tokens = [t for t in line.lower().split() if t.isalpha()]\n",
    "        tokens_unique = []\n",
    "        # YOUR CODE HERE\n",
    "        Ndocs += 1\n",
    "        #wiki_data.append(tokens)\n",
    "        for token in tokens:\n",
    "            #token = token.lower()\n",
    "            if token.lower():\n",
    "                wiki_data.append(token)\n",
    "            if token not in tokens_unique:\n",
    "                tokens_unique.append(token)\n",
    "        for token in tokens_unique:\n",
    "            if dfs[token] != 0:\n",
    "                dfs[token] += 1\n",
    "            else:\n",
    "                dfs[token] = 1\n",
    "\n",
    "print('Total number of documents:', Ndocs)"
   ]
  },
  {
   "cell_type": "code",
   "execution_count": 43,
   "metadata": {},
   "outputs": [
    {
     "name": "stdout",
     "output_type": "stream",
     "text": [
      "[('the', 9578), ('in', 9274), ('a', 9160), ('of', 8772), ('is', 8221), ('and', 8106), ('was', 6893), ('to', 6802), ('as', 5853), ('by', 5835), ('on', 5821), ('for', 5794), ('with', 5419), ('at', 5315), ('from', 5289), ('it', 5079), ('an', 4966), ('that', 4014), ('also', 3880), ('which', 3715)]\n"
     ]
    }
   ],
   "source": [
    "# Let's print 20 tokens with the largest document frequency.\n",
    "top = sorted(dfs.items(), key = lambda item: item[1], reverse = True)\n",
    "print(top[:20])"
   ]
  },
  {
   "cell_type": "code",
   "execution_count": 44,
   "metadata": {},
   "outputs": [],
   "source": [
    "# We'll only create word representation for the most frequent K words\n",
    "def create_vocab(data):\n",
    "    word_representations = {}\n",
    "    vocab = Counter()\n",
    "    for i, word in enumerate(data):\n",
    "        vocab[word] += 1\n",
    "\n",
    "    topK = [k for k,v in vocab.most_common(vocabSize)]\n",
    "    for k in topK:\n",
    "        word_representations[k] = defaultdict(float)\n",
    "    return word_representations"
   ]
  },
  {
   "cell_type": "code",
   "execution_count": 90,
   "metadata": {},
   "outputs": [],
   "source": [
    "# Word representation for a word = its unigram distributional context (the unigrams that show\n",
    "# up in a window before and after its occurence)\n",
    "def count_unigram_context(data, word_representations):\n",
    "    for i, word in enumerate(data):\n",
    "        if word not in word_representations:\n",
    "            continue\n",
    "        start = i - window if i - window > 0 else 0\n",
    "        end = i + window + 1 if i + window + 1 < len(data) else len(data)\n",
    "        for j in range(start, end):\n",
    "            if i != j:\n",
    "                word_representations[word][data[j]] += 1"
   ]
  },
  {
   "cell_type": "code",
   "execution_count": 46,
   "metadata": {},
   "outputs": [],
   "source": [
    "# Normalize a word representation vector that its L2 norm is 1.\n",
    "# We do this so that the cosine similarity reduces to a simple dot product\n",
    "def normalize(word_representations):\n",
    "    for word in word_representations:\n",
    "        total  =0\n",
    "        for key in word_representations[word]:\n",
    "            total += word_representations[word][key] * word_representations[word][key]\n",
    "            \n",
    "        total = math.sqrt(total)\n",
    "        for key in word_representations[word]:\n",
    "            word_representations[word][key] /= total    "
   ]
  },
  {
   "cell_type": "code",
   "execution_count": 47,
   "metadata": {},
   "outputs": [],
   "source": [
    "def dictionary_dot_product(dict1, dict2):\n",
    "    dot=0\n",
    "    for key in dict1:\n",
    "        if key in dict2:\n",
    "            dot += dict1[key] * dict2[key]\n",
    "    return dot"
   ]
  },
  {
   "cell_type": "code",
   "execution_count": 48,
   "metadata": {},
   "outputs": [],
   "source": [
    "def find_sim(word_representations, query):\n",
    "    if query not in word_representations:\n",
    "        print(\"'%s' is not in vocabulary\" % query)\n",
    "        return None\n",
    "    \n",
    "    scores = {}\n",
    "    for word in word_representations:\n",
    "        cosine = dictionary_dot_product(word_representations[query], word_representations[word])\n",
    "        scores[word] = cosine\n",
    "    return scores"
   ]
  },
  {
   "cell_type": "code",
   "execution_count": 49,
   "metadata": {},
   "outputs": [],
   "source": [
    "# Find the K words with highest cosine similarity to a query in a set of word_representations\n",
    "def find_nearest_neighbors(word_representations, query, K):\n",
    "    scores  =find_sim(word_representations, query)\n",
    "    if scores != None:\n",
    "        sorted_x = sorted(scores.items(), key = operator.itemgetter(1), reverse=True)\n",
    "        for idx, (k, v) in enumerate(sorted_x[:K]):\n",
    "            print(\"%s\\t%s\\t%.5f\" % (idx,k,v))"
   ]
  },
  {
   "cell_type": "code",
   "execution_count": 50,
   "metadata": {},
   "outputs": [],
   "source": [
    "word_representations = create_vocab(wiki_data)\n",
    "count_unigram_context(wiki_data, word_representations)\n",
    "normalize(word_representations)"
   ]
  },
  {
   "cell_type": "code",
   "execution_count": 51,
   "metadata": {},
   "outputs": [
    {
     "name": "stdout",
     "output_type": "stream",
     "text": [
      "0\tmusician\t1.00000\n",
      "1\twriter\t0.91968\n",
      "2\tjournalist\t0.89769\n",
      "3\tphotographer\t0.89593\n",
      "4\tpianist\t0.89561\n",
      "5\tbusinessman\t0.89480\n",
      "6\tpoet\t0.88196\n",
      "7\tpolitician\t0.88074\n",
      "8\tentrepreneur\t0.87987\n",
      "9\tcomposer\t0.87770\n"
     ]
    }
   ],
   "source": [
    "find_nearest_neighbors(word_representations, \"musician\", 10)"
   ]
  },
  {
   "cell_type": "markdown",
   "metadata": {},
   "source": [
    "### Question 1.2: Implement Tf.Idf Representation\n",
    "\n",
    "Q1: Fill out a function `tfidf` below.  This function takes as input a dict of word_representations and for each context word in `word_representations[word]` replaces its *count* value with its tf-idf score.  Use $\\log{(count + 1)}$ for tf and $\\log{N \\over df}$ for idf. This function should modify `word_representations` in place."
   ]
  },
  {
   "cell_type": "code",
   "execution_count": 52,
   "metadata": {},
   "outputs": [],
   "source": [
    "def tfidf(word_representations):\n",
    "    for word in word_representations:\n",
    "        for key, value in word_representations[word].items():\n",
    "            # YOUR CODE HERE\n",
    "            tf = math.log(value + 1)\n",
    "            idf = math.log(Ndocs/dfs[key])\n",
    "            tf_idf = tf * idf\n",
    "            word_representations[word][key] = tf_idf"
   ]
  },
  {
   "cell_type": "code",
   "execution_count": 53,
   "metadata": {},
   "outputs": [],
   "source": [
    "tf_idf_word_representations = create_vocab(wiki_data)\n",
    "count_unigram_context(wiki_data, tf_idf_word_representations)\n",
    "tfidf(tf_idf_word_representations)\n",
    "normalize(tf_idf_word_representations)"
   ]
  },
  {
   "cell_type": "markdown",
   "metadata": {},
   "source": [
    "### Question 1.3: Compare Count Representations with Tf.Idf Representations\n",
    "\n",
    "How does the tf.idf representation change the the nearest neighbors? Use `find_nearest_neighbors` on some of the words below."
   ]
  },
  {
   "cell_type": "code",
   "execution_count": 80,
   "metadata": {},
   "outputs": [
    {
     "name": "stdout",
     "output_type": "stream",
     "text": [
      "0\tmusician\t1.00000\n",
      "1\twriter\t0.91968\n",
      "2\tjournalist\t0.89769\n",
      "3\tphotographer\t0.89593\n",
      "4\tpianist\t0.89561\n",
      "5\tbusinessman\t0.89480\n",
      "6\tpoet\t0.88196\n",
      "7\tpolitician\t0.88074\n",
      "8\tentrepreneur\t0.87987\n",
      "9\tcomposer\t0.87770\n",
      "\n",
      "0\tmusician\t1.00000\n",
      "1\tsinger\t0.18072\n",
      "2\tpianist\t0.17770\n",
      "3\tmusic\t0.17236\n",
      "4\tjazz\t0.16994\n",
      "5\tband\t0.16835\n",
      "6\tsongwriter\t0.16824\n",
      "7\tproducer\t0.16446\n",
      "8\talbum\t0.15203\n",
      "9\tguitarist\t0.15156\n"
     ]
    }
   ],
   "source": [
    "query = \"musician\" # \"musician\" student\" \"education\" \"bacteria\" \"beer\" \"brook\" \"greedy\" \"carbon\" \"prisoner\" \"river\" \"mountain\" \"germany\" \"child\" \"computer\" \"actor\" \"science\"\n",
    "find_nearest_neighbors(word_representations, query, 10)\n",
    "print()\n",
    "find_nearest_neighbors(tf_idf_word_representations, query, 10)"
   ]
  },
  {
   "cell_type": "markdown",
   "metadata": {},
   "source": [
    "#### <font color=\"red\">Write your answer here.</font> \n",
    "<br>\n",
    "as we can observe, the output obtained by using the tf_idf is more accurate and makes more sense than the word representation obtained by using the co-occurrence embeddings. This might be because we consider the document frequency of a word instead of just considering only the words that occur in the context of a word as we do in co-occurrence embeddings. "
   ]
  },
  {
   "cell_type": "markdown",
   "metadata": {},
   "source": [
    "## Part 2: Prediction-Based Word Vectors (15 points)\n",
    "\n",
    "As discussed in class, more recently prediction-based word vectors have come into fashion, e.g. word2vec. Here, we shall explore the embeddings produced by word2vec. Please revisit the class notes and lecture slides for more details on the word2vec algorithm. If you're feeling adventurous, challenge yourself and try reading the [original paper](https://papers.nips.cc/paper/5021-distributed-representations-of-words-and-phrases-and-their-compositionality.pdf).\n",
    "\n",
    "Then run the following cells to load the word2vec vectors into memory. **Note**: This might take several minutes."
   ]
  },
  {
   "cell_type": "code",
   "execution_count": 55,
   "metadata": {},
   "outputs": [],
   "source": [
    "def load_word2vec():\n",
    "    \"\"\" Load Word2Vec Vectors\n",
    "        Return:\n",
    "            wv_from_bin: All 3 million embeddings, each lengh 300\n",
    "    \"\"\"\n",
    "    import gensim.downloader as api\n",
    "    wv_from_bin = api.load(\"word2vec-google-news-300\")\n",
    "    vocab = list(wv_from_bin.vocab.keys())\n",
    "    print(\"Loaded vocab size %i\" % len(vocab))\n",
    "    return wv_from_bin"
   ]
  },
  {
   "cell_type": "code",
   "execution_count": 56,
   "metadata": {},
   "outputs": [
    {
     "name": "stdout",
     "output_type": "stream",
     "text": [
      "Loaded vocab size 3000000\n"
     ]
    }
   ],
   "source": [
    "# -----------------------------------\n",
    "# Run Cell to Load Word Vectors\n",
    "# Note: This may take several minutes\n",
    "# -----------------------------------\n",
    "wv_from_bin = load_word2vec()"
   ]
  },
  {
   "cell_type": "markdown",
   "metadata": {},
   "source": [
    "**Note: If you are receiving out of memory issues on your local machine, try closing other applications to free more memory on your device. You may want to try restarting your machine so that you can free up extra memory. Then immediately run the jupyter notebook and see if you can load the word vectors properly.**\n",
    "\n",
    "jupyter notebook --NotebookApp.iopub_msg_rate_limit=1.0e10"
   ]
  },
  {
   "cell_type": "markdown",
   "metadata": {},
   "source": [
    "### Question 2.1: Compare Word2Vec Embeddings with Co-occurrence Embeddings\n",
    "\n",
    "Let's use the word2vec embeddings to find the most similar words, usign the same targets as in part 1 above. Compare the quality of the top 10 words using word2vec with the top 10 most similar words from part 1 above. Which method is better?"
   ]
  },
  {
   "cell_type": "code",
   "execution_count": 81,
   "metadata": {},
   "outputs": [
    {
     "data": {
      "text/plain": [
       "[('singer_songwriter', 0.7869660258293152),\n",
       " ('jazz_musician', 0.7756308913230896),\n",
       " ('songwriter', 0.7425625920295715),\n",
       " ('singer', 0.7350084781646729),\n",
       " ('guitarist', 0.722688615322113),\n",
       " ('musicians', 0.7069464325904846),\n",
       " ('jazz_saxophonist', 0.7034098505973816),\n",
       " ('pianist', 0.7009111642837524),\n",
       " ('Musician', 0.6974104642868042),\n",
       " ('musican', 0.6972054243087769)]"
      ]
     },
     "execution_count": 81,
     "metadata": {},
     "output_type": "execute_result"
    }
   ],
   "source": [
    "wv_from_bin.most_similar(\"musician\") \n",
    "# \"musician\" student\" beer\" education\" \"bacteria\" \"brook\" \n",
    "#\"greedy\" \"carbon\" \"prisoner\" \"river\" \"mountain\" \"germany\" \"child\" \"computer\" \"actor\" \"science\""
   ]
  },
  {
   "cell_type": "markdown",
   "metadata": {},
   "source": [
    "#### <font color=\"red\">Write your answer here.</font><br>\n",
    "We get even better and accurate results that make more sense when we use the Word2Vec embeddings. The Word2Vec embeddings perform better than the tf_idf embeddings"
   ]
  },
  {
   "cell_type": "markdown",
   "metadata": {},
   "source": [
    "### Reducing dimensionality of Word2Vec Word Embeddings\n",
    "\n",
    "1. Put the 3 million word2vec vectors into a matrix M\n",
    "2. Run reduce_to_k_dim (your Truncated SVD function) to reduce the vectors from 300-dimensional to 2-dimensional."
   ]
  },
  {
   "cell_type": "markdown",
   "metadata": {},
   "source": [
    "Here, we construct a method that performs dimensionality reduction on the matrix to produce k-dimensional embeddings. We use SVD to take the top k components and produce a new matrix of k-dimensional embeddings. \n",
    "\n",
    "**Note:** All of numpy, scipy, and scikit-learn (`sklearn`) provide *some* implementation of SVD, but only scipy and sklearn provide an implementation of Truncated SVD, and only sklearn provides an efficient randomized algorithm for calculating large-scale Truncated SVD. So please use [sklearn.decomposition.TruncatedSVD](https://scikit-learn.org/stable/modules/generated/sklearn.decomposition.TruncatedSVD.html)."
   ]
  },
  {
   "cell_type": "code",
   "execution_count": 58,
   "metadata": {},
   "outputs": [],
   "source": [
    "def reduce_to_k_dim(M, k = 2):\n",
    "    \"\"\" Reduce a co-occurence count matrix of dimensionality (num_corpus_words, num_corpus_words)\n",
    "        to a matrix of dimensionality (num_corpus_words, k) using the following SVD function from Scikit-Learn:\n",
    "            - http://scikit-learn.org/stable/modules/generated/sklearn.decomposition.TruncatedSVD.html\n",
    "    \n",
    "        Params:\n",
    "            M (numpy matrix of shape (number of corpus words, number of corpus words)): co-occurence matrix of word counts\n",
    "            k (int): embedding size of each word after dimension reduction\n",
    "        Return:\n",
    "            M_reduced (numpy matrix of shape (number of corpus words, k)): matrix of k-dimensioal word embeddings.\n",
    "                    In terms of the SVD from math class, this actually returns U * S\n",
    "    \"\"\"    \n",
    "    n_iters = 10     # Use this parameter in your call to `TruncatedSVD`\n",
    "    M_reduced = None\n",
    "    print(\"Running Truncated SVD over %i words...\" % (M.shape[0]))\n",
    "    \n",
    "    # ------------------\n",
    "    svd = TruncatedSVD(n_components = k, n_iter = n_iters, random_state=42)\n",
    "    svd.fit(M)\n",
    "    M_reduced = M @ svd.components_.T\n",
    "    \n",
    "    # ------------------\n",
    "\n",
    "    print(\"Done.\")\n",
    "    \n",
    "    return M_reduced"
   ]
  },
  {
   "cell_type": "code",
   "execution_count": 59,
   "metadata": {},
   "outputs": [],
   "source": [
    "def get_matrix_of_vectors(wv_from_bin, required_words = []):\n",
    "    \"\"\" Put the word2vec vectors into a matrix M.\n",
    "        Param:\n",
    "            wv_from_bin: KeyedVectors object; the 3 million word2vec vectors loaded from file\n",
    "        Return:\n",
    "            M: numpy matrix shape (num words, 300) containing the vectors\n",
    "            word2Ind: dictionary mapping each word to its row number in M\n",
    "    \"\"\"\n",
    "    import random\n",
    "    words = list(wv_from_bin.vocab.keys())\n",
    "    print(\"Shuffling words ...\")\n",
    "    random.shuffle(words)\n",
    "    words = words[:10000]\n",
    "    print(\"Putting %i words into word2Ind and matrix M...\" % len(words))\n",
    "    word2Ind = {}\n",
    "    M = []\n",
    "    curInd = 0\n",
    "    for w in words:\n",
    "        try:\n",
    "            M.append(wv_from_bin.word_vec(w))\n",
    "            word2Ind[w] = curInd\n",
    "            curInd += 1\n",
    "        except KeyError:\n",
    "            continue\n",
    "    for w in required_words:\n",
    "        try:\n",
    "            M.append(wv_from_bin.word_vec(w))\n",
    "            word2Ind[w] = curInd\n",
    "            curInd += 1\n",
    "        except KeyError:\n",
    "            continue\n",
    "    M = np.stack(M)\n",
    "    print(\"Done.\")\n",
    "    return M, word2Ind"
   ]
  },
  {
   "cell_type": "markdown",
   "metadata": {},
   "source": [
    "### Question 2.2: Word2Vec Plot Analysis"
   ]
  },
  {
   "cell_type": "markdown",
   "metadata": {},
   "source": [
    "Here we write a function to plot a set of 2D vectors in 2D space. For graphs, we will use Matplotlib (`plt`)."
   ]
  },
  {
   "cell_type": "code",
   "execution_count": 60,
   "metadata": {},
   "outputs": [],
   "source": [
    "def plot_embeddings(M_reduced, word2Ind, words):\n",
    "    \"\"\" Plot in a scatterplot the embeddings of the words specified in the list \"words\".\n",
    "        NOTE: do not plot all the words listed in M_reduced / word2Ind.\n",
    "        Include a label next to each point.\n",
    "        \n",
    "        Params:\n",
    "            M_reduced (numpy matrix of shape (number of unique words in the corpus , k)): matrix of k-dimensional word embeddings\n",
    "            word2Ind (dict): dictionary that maps word to indices for matrix M\n",
    "            words (list of strings): words whose embeddings we want to visualize\n",
    "    \"\"\"\n",
    "\n",
    "    # ------------------\n",
    "    xvals = []\n",
    "    yvals = []\n",
    "    for word in words:\n",
    "        embed2D = M_reduced[word2Ind[word]]\n",
    "        xvals.append(embed2D[0])\n",
    "        yvals.append(embed2D[1])\n",
    "        \n",
    "    fig, ax = plt.subplots()\n",
    "    ax.scatter(xvals, yvals)\n",
    "    \n",
    "    for i, word in enumerate(words):\n",
    "        ax.annotate(word, (xvals[i], yvals[i]))\n",
    "    # ------------------"
   ]
  },
  {
   "cell_type": "markdown",
   "metadata": {},
   "source": [
    "Run the cell below to plot the 2D word2vec embeddings for `['music', 'jazz', 'opera', 'paris', 'berlin', 'tokyo', 'queen', 'king', 'prince', 'volcano', 'chemistry', 'biology', 'physics', 'lava', 'sonata']`.\n",
    "\n",
    "What clusters together in 2-dimensional embedding space? What doesn't cluster together that you might think should have?"
   ]
  },
  {
   "cell_type": "code",
   "execution_count": 82,
   "metadata": {},
   "outputs": [
    {
     "name": "stdout",
     "output_type": "stream",
     "text": [
      "Shuffling words ...\n",
      "Putting 10000 words into word2Ind and matrix M...\n",
      "Done.\n",
      "Running Truncated SVD over 10016 words...\n",
      "Done.\n"
     ]
    },
    {
     "data": {
      "image/png": "[encoded data removed]",
      "text/plain": [
       "<Figure size 720x360 with 1 Axes>"
      ]
     },
     "metadata": {
      "needs_background": "light"
     },
     "output_type": "display_data"
    }
   ],
   "source": [
    "# -----------------------------------------------------------------\n",
    "# Run this code to Reduce 300-Dimensinal Word Embeddings to k Dimensions\n",
    "# Note: This may take several minutes\n",
    "# -----------------------------------------------------------------\n",
    "words = ['math','music', 'jazz', 'opera', 'paris', 'berlin', 'tokyo', 'queen', 'king', 'prince', 'volcano', 'chemistry', 'biology', 'physics', 'lava', 'sonata']\n",
    "M, word2Ind = get_matrix_of_vectors(wv_from_bin, required_words = words)\n",
    "M_reduced = reduce_to_k_dim(M, k = 2)\n",
    "\n",
    "plot_embeddings(M_reduced, word2Ind, words)"
   ]
  },
  {
   "cell_type": "markdown",
   "metadata": {},
   "source": [
    "#### <font color=\"red\">Write your answer here.</font>\n",
    "<ol>\n",
    "<li>Cities like Paris and Berlin have clustered together but Tokyo has not clustered with them. This might be because of the fact that Paris and Berlin are European cities whereas, Tokyo is in Asia</li>\n",
    "<li>it is peculiar that Sonata has clustered with lava and volcano and difficult to finda reasoning to. As Professor had mentioned in the class, it might be because after performing dimentionality reduction, some information is lost and the visual representation that we get doesn't always do justice to the embeddings that are in higher dimensions. Though it seems to have a large cosine similarity with Jazz and opera</li>\n",
    "<li>Biology and Math are not as close to chemistry and physics as expected which are clustered together with music</li>\n",
    "</ol>"
   ]
  },
  {
   "cell_type": "markdown",
   "metadata": {},
   "source": [
    "### Cosine Similarity\n",
    "Now that we have word vectors, we need a way to quantify the similarity between individual words, according to these vectors. One such metric is cosine-similarity. We will be using this to find words that are \"close\" and \"far\" from one another.\n",
    "\n",
    "We can think of n-dimensional vectors as points in n-dimensional space. If we take this perspective L1 and L2 Distances help quantify the amount of space \"we must travel\" to get between these two points. Another approach is to examine the angle between two vectors. From trigonometry we know that:\n",
    "\n",
    "<img src=\"imgs/inner_product.png\" width=20% style=\"float: center;\"></img>\n",
    "\n",
    "Instead of computing the actual angle, we can leave the similarity in terms of $similarity = cos(\\Theta)$. Formally the [Cosine Similarity](https://en.wikipedia.org/wiki/Cosine_similarity) $s$ between two vectors $p$ and $q$ is defined as:\n",
    "\n",
    "$$s = \\frac{p \\cdot q}{||p|| ||q||}, \\textrm{ where } s \\in [-1, 1] $$ "
   ]
  },
  {
   "cell_type": "markdown",
   "metadata": {},
   "source": [
    "### Question 2.3: Polysemous Words (2 points) [code + written] \n",
    "Find a [polysemous](https://en.wikipedia.org/wiki/Polysemy) word (for example, \"leaves\" or \"scoop\") such that the top-10 most similar words (according to cosine similarity) contains related words from *both* meanings. For example, \"leaves\" has both \"vanishes\" and \"stalks\" in the top 10, and \"scoop\" has both \"handed_waffle_cone\" and \"lowdown\". You will probably need to try several polysemous words before you find one. Please state the polysemous word you discover and the multiple meanings that occur in the top 10. Why do you think many of the polysemous words you tried didn't work?\n",
    "\n",
    "**Note**: You should use the `wv_from_bin.most_similar(word)` function to get the top 10 similar words. This function ranks all other words in the vocabulary with respect to their cosine similarity to the given word. For further assistance please check the __[GenSim documentation](https://radimrehurek.com/gensim/models/keyedvectors.html#gensim.models.keyedvectors.FastTextKeyedVectors.most_similar)__."
   ]
  },
  {
   "cell_type": "code",
   "execution_count": 62,
   "metadata": {},
   "outputs": [
    {
     "data": {
      "text/plain": [
       "[('Free', 0.6718050241470337),\n",
       " ('Six_Flags_website_http://www.sixflags.com', 0.5262575149536133),\n",
       " ('FREE', 0.5083318948745728),\n",
       " ('nominal_fee', 0.45694470405578613),\n",
       " ('therapy_systems_NFITS', 0.4531920850276947),\n",
       " ('restricted', 0.4485984444618225),\n",
       " ('complimentary', 0.44757080078125),\n",
       " ('afree', 0.4412050247192383),\n",
       " ('www.dickmorris.com', 0.4327717423439026),\n",
       " ('###-####_artmuseumgr.org', 0.4296324551105499)]"
      ]
     },
     "execution_count": 62,
     "metadata": {},
     "output_type": "execute_result"
    }
   ],
   "source": [
    "# ------------------\n",
    "# Write your polysemous word exploration code here.\n",
    "\n",
    "wv_from_bin.most_similar('free')\n",
    "\n",
    "# ------------------"
   ]
  },
  {
   "cell_type": "markdown",
   "metadata": {},
   "source": [
    "#### <font color=\"red\">Write your answer here.</font> <br>\n",
    "<ol>\n",
    "<li>Meaning 1: Freedom(in the context of ): restricted(antonym), afree</li>\n",
    "<li>Meaning 2: Free of charge: nominal_fee, complimentary</li>\n",
    "<li>Misc: Six_Flags_website_http://www.sixflags.com, etc.</li>\n",
    "</ol>"
   ]
  },
  {
   "cell_type": "markdown",
   "metadata": {},
   "source": [
    "### Question 2.4: Synonyms & Antonyms\n",
    "\n",
    "When considering Cosine Similarity, it's often more convenient to think of Cosine Distance, which is simply 1 - Cosine Similarity.\n",
    "\n",
    "Find three words (w1,w2,w3) where w1 and w2 are synonyms and w1 and w3 are antonyms, but Cosine Distance(w1,w3) < Cosine Distance(w1,w2). For example, w1=\"happy\" is closer to w3=\"sad\" than to w2=\"cheerful\". \n",
    "\n",
    "Once you have found your example, please give a possible explanation for why this counter-intuitive result may have happened.\n",
    "\n",
    "You should use the the `wv_from_bin.distance(w1, w2)` function here in order to compute the cosine distance between two words. Please see the __[GenSim documentation](https://radimrehurek.com/gensim/models/keyedvectors.html#gensim.models.keyedvectors.FastTextKeyedVectors.distance)__ for further assistance."
   ]
  },
  {
   "cell_type": "code",
   "execution_count": 64,
   "metadata": {},
   "outputs": [
    {
     "name": "stdout",
     "output_type": "stream",
     "text": [
      "Synonyms light, lightweight have cosine distance: 0.8339695185422897\n",
      "Antonyms light, heavy have cosine distance: 0.689866691827774\n"
     ]
    }
   ],
   "source": [
    "# ------------------\n",
    "# Write your synonym & antonym exploration code here.\n",
    "\n",
    "w1 = \"light\"\n",
    "w2 = \"lightweight\"\n",
    "w3 = \"heavy\"\n",
    "w1_w2_dist = wv_from_bin.distance(w1, w2)\n",
    "w1_w3_dist = wv_from_bin.distance(w1, w3)\n",
    "\n",
    "print(\"Synonyms {}, {} have cosine distance: {}\".format(w1, w2, w1_w2_dist))\n",
    "print(\"Antonyms {}, {} have cosine distance: {}\".format(w1, w3, w1_w3_dist))\n",
    "\n",
    "# ------------------"
   ]
  },
  {
   "cell_type": "markdown",
   "metadata": {},
   "source": [
    "#### <font color=\"red\">Write your answer here.</font><br>\n",
    "An antonym of a word may sometimes have a smaller cosine similarity score compared to other synonyms as a word can be used in different contexts and have different meanings."
   ]
  },
  {
   "cell_type": "markdown",
   "metadata": {},
   "source": [
    "### Solving Analogies with Word Vectors\n",
    "Word2Vec vectors have been shown to *sometimes* exhibit the ability to solve analogies. \n",
    "\n",
    "As an example, for the analogy \"man : king :: woman : x\", what is x?\n",
    "\n",
    "In the cell below, we show you how to use word vectors to find x. The `most_similar` function finds words that are most similar to the words in the `positive` list and most dissimilar from the words in the `negative` list. The answer to the analogy will be the word ranked most similar (largest numerical value).\n",
    "\n",
    "**Note:** Further Documentation on the `most_similar` function can be found within the __[GenSim documentation](https://radimrehurek.com/gensim/models/keyedvectors.html#gensim.models.keyedvectors.FastTextKeyedVectors.most_similar)__."
   ]
  },
  {
   "cell_type": "code",
   "execution_count": 63,
   "metadata": {},
   "outputs": [
    {
     "name": "stdout",
     "output_type": "stream",
     "text": [
      "[('queen', 0.7118192315101624),\n",
      " ('monarch', 0.6189674735069275),\n",
      " ('princess', 0.5902431607246399),\n",
      " ('crown_prince', 0.5499460697174072),\n",
      " ('prince', 0.5377321243286133),\n",
      " ('kings', 0.5236844420433044),\n",
      " ('Queen_Consort', 0.5235946178436279),\n",
      " ('queens', 0.5181134343147278),\n",
      " ('sultan', 0.5098593235015869),\n",
      " ('monarchy', 0.5087411403656006)]\n"
     ]
    }
   ],
   "source": [
    "# Run this cell to answer the analogy -- man : king :: woman : x\n",
    "pprint.pprint(wv_from_bin.most_similar(positive=['woman', 'king'], negative=['man']))"
   ]
  },
  {
   "cell_type": "markdown",
   "metadata": {},
   "source": [
    "### Question 2.5: Finding Analogies\n",
    "Find an example of analogy that holds according to these vectors (i.e. the intended word is ranked top). In your solution please state the full analogy in the form x:y :: a:b. If you believe the analogy is complicated, explain why the analogy holds in one or two sentences.\n",
    "\n",
    "**Note**: You may have to try many analogies to find one that works!"
   ]
  },
  {
   "cell_type": "code",
   "execution_count": 78,
   "metadata": {},
   "outputs": [
    {
     "name": "stdout",
     "output_type": "stream",
     "text": [
      "[('canine', 0.7184652090072632),\n",
      " ('canines', 0.7025594711303711),\n",
      " ('dogs', 0.6873705387115479),\n",
      " ('pooch', 0.6770342588424683),\n",
      " ('pooches', 0.6361940503120422),\n",
      " ('canine_companion', 0.6199101209640503),\n",
      " ('Rottweiler', 0.6135388612747192),\n",
      " ('golden_retriever', 0.6127071976661682),\n",
      " ('puppy', 0.6104601621627808),\n",
      " ('beagle', 0.608494758605957)]\n"
     ]
    }
   ],
   "source": [
    "# ------------------\n",
    "# Write your analogy exploration code here.\n",
    "\n",
    "pprint.pprint(wv_from_bin.most_similar(positive=['feline','dog'], negative=['cat']))\n",
    "\n",
    "# ------------------"
   ]
  },
  {
   "cell_type": "markdown",
   "metadata": {},
   "source": [
    "#### <font color=\"red\">Write your answer here.</font> <br>\n",
    "cat : feline :: dog : canine"
   ]
  },
  {
   "cell_type": "markdown",
   "metadata": {},
   "source": [
    "### Question 2.6: Guided Analysis of Bias in Word Vectors\n",
    "\n",
    "It's important to be cognizant of the biases (gender, race, sexual orientation etc.) implicit to our word embeddings.\n",
    "\n",
    "Run the cell below, to examine (a) which terms are most similar to \"woman\" and \"boss\" and most dissimilar to \"man\", and (b) which terms are most similar to \"man\" and \"boss\" and most dissimilar to \"woman\". What do you find in the top 10?"
   ]
  },
  {
   "cell_type": "code",
   "execution_count": 67,
   "metadata": {},
   "outputs": [
    {
     "name": "stdout",
     "output_type": "stream",
     "text": [
      "[('bosses', 0.5522644519805908),\n",
      " ('manageress', 0.49151355028152466),\n",
      " ('exec', 0.45940813422203064),\n",
      " ('Manageress', 0.45598435401916504),\n",
      " ('receptionist', 0.4474116861820221),\n",
      " ('Jane_Danson', 0.44480547308921814),\n",
      " ('Fiz_Jennie_McAlpine', 0.4427577257156372),\n",
      " ('Coronation_Street_actress', 0.44275563955307007),\n",
      " ('supremo', 0.4409853219985962),\n",
      " ('coworker', 0.43986251950263977)]\n",
      "\n",
      "[('supremo', 0.6097397804260254),\n",
      " ('MOTHERWELL_boss', 0.5489561557769775),\n",
      " ('CARETAKER_boss', 0.5375303626060486),\n",
      " ('Bully_Wee_boss', 0.5333974361419678),\n",
      " ('YEOVIL_Town_boss', 0.5321705341339111),\n",
      " ('head_honcho', 0.5281979441642761),\n",
      " ('manager_Stan_Ternent', 0.525971531867981),\n",
      " ('Viv_Busby', 0.5256163477897644),\n",
      " ('striker_Gabby_Agbonlahor', 0.5250812768936157),\n",
      " ('BARNSLEY_boss', 0.5238943099975586)]\n"
     ]
    }
   ],
   "source": [
    "# Run this cell\n",
    "# Here `positive` indicates the list of words to be similar to and `negative` indicates the list of words to be\n",
    "# most dissimilar from.\n",
    "pprint.pprint(wv_from_bin.most_similar(positive=['woman', 'boss'], negative=['man']))\n",
    "print()\n",
    "pprint.pprint(wv_from_bin.most_similar(positive=['man', 'boss'], negative=['woman']))"
   ]
  },
  {
   "cell_type": "markdown",
   "metadata": {},
   "source": [
    "#### <font color=\"red\">Write your answer here.</font> <br>\n",
    "When gender neutral words like 'boss' are used we get a better result for the word 'man' than for the word 'woman'. <br>\n",
    "We get words like 'bosses', 'manageress' etc. when we use the association between 'man' and 'boss' and also interestingly enough words like 'receptionist'<br>\n",
    "Whereas, when we use the association between 'woman' and 'boss' we get very poor results like 'supremo', 'MOTHERWELL_boss', 'CARETAKER_boss', etc. of which I couldn't make any sense."
   ]
  },
  {
   "cell_type": "markdown",
   "metadata": {},
   "source": [
    "### Question 2.7: Independent Analysis of Bias in Word Vectors\n",
    "\n",
    "Use the `most_similar` function to find another case where some bias is exhibited by the vectors. Please briefly explain the example of bias that you discover."
   ]
  },
  {
   "cell_type": "code",
   "execution_count": 86,
   "metadata": {},
   "outputs": [
    {
     "name": "stdout",
     "output_type": "stream",
     "text": [
      "[('gynecologist', 0.7093892097473145),\n",
      " ('nurse', 0.6477287411689758),\n",
      " ('doctors', 0.6471461057662964),\n",
      " ('physician', 0.6438997387886047),\n",
      " ('pediatrician', 0.6249488592147827),\n",
      " ('nurse_practitioner', 0.6218312978744507),\n",
      " ('obstetrician', 0.6072014570236206),\n",
      " ('ob_gyn', 0.5986711978912354),\n",
      " ('midwife', 0.5927063226699829),\n",
      " ('dermatologist', 0.5739567279815674)]\n",
      "\n",
      "[('physician', 0.6463665962219238),\n",
      " ('doctors', 0.5858404040336609),\n",
      " ('surgeon', 0.5723941326141357),\n",
      " ('dentist', 0.5523648262023926),\n",
      " ('cardiologist', 0.5413816571235657),\n",
      " ('neurologist', 0.5271127223968506),\n",
      " ('neurosurgeon', 0.5249835252761841),\n",
      " ('urologist', 0.5247740149497986),\n",
      " ('Doctor', 0.52406245470047),\n",
      " ('internist', 0.5183224678039551)]\n"
     ]
    }
   ],
   "source": [
    "# ------------------\n",
    "# Write your bias exploration code here.\n",
    "\n",
    "pprint.pprint(wv_from_bin.most_similar(positive=['woman','doctor'], negative=['man']))\n",
    "print()\n",
    "pprint.pprint(wv_from_bin.most_similar(positive=['man','doctor'], negative=['woman']))\n",
    "\n",
    "# ------------------"
   ]
  },
  {
   "cell_type": "markdown",
   "metadata": {},
   "source": [
    "#### <font color=\"red\">Write your answer here.</font> <br>\n",
    "What we can see here is a gender-bias. The profession of a doctor is essentially gender neutral but we can see the bias in the sub types of that profession where we can see that most women are gynacologists, pediatrician and we even get an altogether different occupation of a 'nurse'. Where as when it comes to the association between 'man' and 'doctor' we get 'physician', 'surgeon', etc."
   ]
  },
  {
   "cell_type": "markdown",
   "metadata": {},
   "source": [
    "### Question 2.8: Thinking About Bias\n",
    "\n",
    "What might be the cause of these biases in the word vectors?"
   ]
  },
  {
   "cell_type": "markdown",
   "metadata": {},
   "source": [
    "#### <font color=\"red\">Write your answer here.</font><br>\n",
    "The bias that we see here is mostly because of the biased data. The wikipedia articles that we have used have been written by a lot of people and we alreday know that there is a general bias that exists within each individual huamn being. Since we train these word embeddings on this biased data, this bias is implicitly captured by the model because it exists in the data."
   ]
  },
  {
   "cell_type": "markdown",
   "metadata": {},
   "source": [
    "## Implementation: Bonus points\n",
    "\n",
    "Anything extra goes here. For example:\n",
    "\n",
    "1. How does changing the window size (smaller, larger) change the word to word similarities?\n",
    "2. Even though `count_unigram_context` computes count-based vector representations only for the top K (10000) most common words in the vocabulary, it uses all the words that appear in the context. Change it to only use word in the context that are in the top K most common words, and see if it improves the results."
   ]
  },
  {
   "cell_type": "code",
   "execution_count": 93,
   "metadata": {},
   "outputs": [],
   "source": [
    "window = 6"
   ]
  },
  {
   "cell_type": "code",
   "execution_count": 94,
   "metadata": {},
   "outputs": [],
   "source": [
    "word_representations = create_vocab(wiki_data)\n",
    "count_unigram_context(wiki_data, word_representations)\n",
    "normalize(word_representations)"
   ]
  },
  {
   "cell_type": "code",
   "execution_count": 95,
   "metadata": {},
   "outputs": [
    {
     "name": "stdout",
     "output_type": "stream",
     "text": [
      "0\tmusician\t1.00000\n",
      "1\twriter\t0.92742\n",
      "2\tpianist\t0.90955\n",
      "3\tartist\t0.90331\n",
      "4\tphotographer\t0.90279\n",
      "5\tentrepreneur\t0.89950\n",
      "6\tbusinessman\t0.89924\n",
      "7\tactor\t0.89900\n",
      "8\tjournalist\t0.89359\n",
      "9\tproducer\t0.89292\n"
     ]
    }
   ],
   "source": [
    "find_nearest_neighbors(word_representations, \"musician\", 10)"
   ]
  },
  {
   "cell_type": "markdown",
   "metadata": {},
   "source": [
    "When we use more number of context words we get higher similarities and results that seem to be slightly more accurate. Yet still not better than $tf.idf$ word_representation."
   ]
  }
 ],
 "metadata": {
  "kernelspec": {
   "display_name": "Python 3 (ipykernel)",
   "language": "python",
   "name": "python3"
  },
  "language_info": {
   "codemirror_mode": {
    "name": "ipython",
    "version": 3
   },
   "file_extension": ".py",
   "mimetype": "text/x-python",
   "name": "python",
   "nbconvert_exporter": "python",
   "pygments_lexer": "ipython3",
   "version": "3.9.7"
  }
 },
 "nbformat": 4,
 "nbformat_minor": 2
}
