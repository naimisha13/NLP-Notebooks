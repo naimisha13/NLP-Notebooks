{
  "nbformat": 4,
  "nbformat_minor": 0,
  "metadata": {
    "colab": {
      "name": "TransformersRule.ipynb",
      "provenance": [],
      "collapsed_sections": []
    },
    "kernelspec": {
      "name": "python3",
      "display_name": "Python 3"
    },
    "language_info": {
      "name": "python"
    },
    "widgets": {
      "application/vnd.jupyter.widget-state+json": {
        "18ad36cb8c93473895252594ec6a3347": {
          "model_module": "@jupyter-widgets/controls",
          "model_name": "HBoxModel",
          "model_module_version": "1.5.0",
          "state": {
            "_dom_classes": [],
            "_model_module": "@jupyter-widgets/controls",
            "_model_module_version": "1.5.0",
            "_model_name": "HBoxModel",
            "_view_count": null,
            "_view_module": "@jupyter-widgets/controls",
            "_view_module_version": "1.5.0",
            "_view_name": "HBoxView",
            "box_style": "",
            "children": [
              "IPY_MODEL_65b0b8568a9c46b4b8e2265bc01886cc",
              "IPY_MODEL_9103011ec22c4a47875be32f2bee78fa",
              "IPY_MODEL_0e11eb3b36e34aaa96b4c4b6d6515911"
            ],
            "layout": "IPY_MODEL_974bed82f0914612ad78a500bb671ba2"
          }
        },
        "65b0b8568a9c46b4b8e2265bc01886cc": {
          "model_module": "@jupyter-widgets/controls",
          "model_name": "HTMLModel",
          "model_module_version": "1.5.0",
          "state": {
            "_dom_classes": [],
            "_model_module": "@jupyter-widgets/controls",
            "_model_module_version": "1.5.0",
            "_model_name": "HTMLModel",
            "_view_count": null,
            "_view_module": "@jupyter-widgets/controls",
            "_view_module_version": "1.5.0",
            "_view_name": "HTMLView",
            "description": "",
            "description_tooltip": null,
            "layout": "IPY_MODEL_fc01702208ec41ff8b0f7d96136de684",
            "placeholder": "​",
            "style": "IPY_MODEL_fbd878f0bcb14d0ea85a86bfa0d46767",
            "value": "100%"
          }
        },
        "9103011ec22c4a47875be32f2bee78fa": {
          "model_module": "@jupyter-widgets/controls",
          "model_name": "FloatProgressModel",
          "model_module_version": "1.5.0",
          "state": {
            "_dom_classes": [],
            "_model_module": "@jupyter-widgets/controls",
            "_model_module_version": "1.5.0",
            "_model_name": "FloatProgressModel",
            "_view_count": null,
            "_view_module": "@jupyter-widgets/controls",
            "_view_module_version": "1.5.0",
            "_view_name": "ProgressView",
            "bar_style": "success",
            "description": "",
            "description_tooltip": null,
            "layout": "IPY_MODEL_f9c343be32cf497d9a862ece260baa3e",
            "max": 3,
            "min": 0,
            "orientation": "horizontal",
            "style": "IPY_MODEL_debd796925e04a1e890823d138cda3c4",
            "value": 3
          }
        },
        "0e11eb3b36e34aaa96b4c4b6d6515911": {
          "model_module": "@jupyter-widgets/controls",
          "model_name": "HTMLModel",
          "model_module_version": "1.5.0",
          "state": {
            "_dom_classes": [],
            "_model_module": "@jupyter-widgets/controls",
            "_model_module_version": "1.5.0",
            "_model_name": "HTMLModel",
            "_view_count": null,
            "_view_module": "@jupyter-widgets/controls",
            "_view_module_version": "1.5.0",
            "_view_name": "HTMLView",
            "description": "",
            "description_tooltip": null,
            "layout": "IPY_MODEL_db852ddfebe74c93b514b1375572cb06",
            "placeholder": "​",
            "style": "IPY_MODEL_d104755a4fe64e05a09f0957e52ea688",
            "value": " 3/3 [00:00&lt;00:00, 39.93it/s]"
          }
        },
        "974bed82f0914612ad78a500bb671ba2": {
          "model_module": "@jupyter-widgets/base",
          "model_name": "LayoutModel",
          "model_module_version": "1.2.0",
          "state": {
            "_model_module": "@jupyter-widgets/base",
            "_model_module_version": "1.2.0",
            "_model_name": "LayoutModel",
            "_view_count": null,
            "_view_module": "@jupyter-widgets/base",
            "_view_module_version": "1.2.0",
            "_view_name": "LayoutView",
            "align_content": null,
            "align_items": null,
            "align_self": null,
            "border": null,
            "bottom": null,
            "display": null,
            "flex": null,
            "flex_flow": null,
            "grid_area": null,
            "grid_auto_columns": null,
            "grid_auto_flow": null,
            "grid_auto_rows": null,
            "grid_column": null,
            "grid_gap": null,
            "grid_row": null,
            "grid_template_areas": null,
            "grid_template_columns": null,
            "grid_template_rows": null,
            "height": null,
            "justify_content": null,
            "justify_items": null,
            "left": null,
            "margin": null,
            "max_height": null,
            "max_width": null,
            "min_height": null,
            "min_width": null,
            "object_fit": null,
            "object_position": null,
            "order": null,
            "overflow": null,
            "overflow_x": null,
            "overflow_y": null,
            "padding": null,
            "right": null,
            "top": null,
            "visibility": null,
            "width": null
          }
        },
        "fc01702208ec41ff8b0f7d96136de684": {
          "model_module": "@jupyter-widgets/base",
          "model_name": "LayoutModel",
          "model_module_version": "1.2.0",
          "state": {
            "_model_module": "@jupyter-widgets/base",
            "_model_module_version": "1.2.0",
            "_model_name": "LayoutModel",
            "_view_count": null,
            "_view_module": "@jupyter-widgets/base",
            "_view_module_version": "1.2.0",
            "_view_name": "LayoutView",
            "align_content": null,
            "align_items": null,
            "align_self": null,
            "border": null,
            "bottom": null,
            "display": null,
            "flex": null,
            "flex_flow": null,
            "grid_area": null,
            "grid_auto_columns": null,
            "grid_auto_flow": null,
            "grid_auto_rows": null,
            "grid_column": null,
            "grid_gap": null,
            "grid_row": null,
            "grid_template_areas": null,
            "grid_template_columns": null,
            "grid_template_rows": null,
            "height": null,
            "justify_content": null,
            "justify_items": null,
            "left": null,
            "margin": null,
            "max_height": null,
            "max_width": null,
            "min_height": null,
            "min_width": null,
            "object_fit": null,
            "object_position": null,
            "order": null,
            "overflow": null,
            "overflow_x": null,
            "overflow_y": null,
            "padding": null,
            "right": null,
            "top": null,
            "visibility": null,
            "width": null
          }
        },
        "fbd878f0bcb14d0ea85a86bfa0d46767": {
          "model_module": "@jupyter-widgets/controls",
          "model_name": "DescriptionStyleModel",
          "model_module_version": "1.5.0",
          "state": {
            "_model_module": "@jupyter-widgets/controls",
            "_model_module_version": "1.5.0",
            "_model_name": "DescriptionStyleModel",
            "_view_count": null,
            "_view_module": "@jupyter-widgets/base",
            "_view_module_version": "1.2.0",
            "_view_name": "StyleView",
            "description_width": ""
          }
        },
        "f9c343be32cf497d9a862ece260baa3e": {
          "model_module": "@jupyter-widgets/base",
          "model_name": "LayoutModel",
          "model_module_version": "1.2.0",
          "state": {
            "_model_module": "@jupyter-widgets/base",
            "_model_module_version": "1.2.0",
            "_model_name": "LayoutModel",
            "_view_count": null,
            "_view_module": "@jupyter-widgets/base",
            "_view_module_version": "1.2.0",
            "_view_name": "LayoutView",
            "align_content": null,
            "align_items": null,
            "align_self": null,
            "border": null,
            "bottom": null,
            "display": null,
            "flex": null,
            "flex_flow": null,
            "grid_area": null,
            "grid_auto_columns": null,
            "grid_auto_flow": null,
            "grid_auto_rows": null,
            "grid_column": null,
            "grid_gap": null,
            "grid_row": null,
            "grid_template_areas": null,
            "grid_template_columns": null,
            "grid_template_rows": null,
            "height": null,
            "justify_content": null,
            "justify_items": null,
            "left": null,
            "margin": null,
            "max_height": null,
            "max_width": null,
            "min_height": null,
            "min_width": null,
            "object_fit": null,
            "object_position": null,
            "order": null,
            "overflow": null,
            "overflow_x": null,
            "overflow_y": null,
            "padding": null,
            "right": null,
            "top": null,
            "visibility": null,
            "width": null
          }
        },
        "debd796925e04a1e890823d138cda3c4": {
          "model_module": "@jupyter-widgets/controls",
          "model_name": "ProgressStyleModel",
          "model_module_version": "1.5.0",
          "state": {
            "_model_module": "@jupyter-widgets/controls",
            "_model_module_version": "1.5.0",
            "_model_name": "ProgressStyleModel",
            "_view_count": null,
            "_view_module": "@jupyter-widgets/base",
            "_view_module_version": "1.2.0",
            "_view_name": "StyleView",
            "bar_color": null,
            "description_width": ""
          }
        },
        "db852ddfebe74c93b514b1375572cb06": {
          "model_module": "@jupyter-widgets/base",
          "model_name": "LayoutModel",
          "model_module_version": "1.2.0",
          "state": {
            "_model_module": "@jupyter-widgets/base",
            "_model_module_version": "1.2.0",
            "_model_name": "LayoutModel",
            "_view_count": null,
            "_view_module": "@jupyter-widgets/base",
            "_view_module_version": "1.2.0",
            "_view_name": "LayoutView",
            "align_content": null,
            "align_items": null,
            "align_self": null,
            "border": null,
            "bottom": null,
            "display": null,
            "flex": null,
            "flex_flow": null,
            "grid_area": null,
            "grid_auto_columns": null,
            "grid_auto_flow": null,
            "grid_auto_rows": null,
            "grid_column": null,
            "grid_gap": null,
            "grid_row": null,
            "grid_template_areas": null,
            "grid_template_columns": null,
            "grid_template_rows": null,
            "height": null,
            "justify_content": null,
            "justify_items": null,
            "left": null,
            "margin": null,
            "max_height": null,
            "max_width": null,
            "min_height": null,
            "min_width": null,
            "object_fit": null,
            "object_position": null,
            "order": null,
            "overflow": null,
            "overflow_x": null,
            "overflow_y": null,
            "padding": null,
            "right": null,
            "top": null,
            "visibility": null,
            "width": null
          }
        },
        "d104755a4fe64e05a09f0957e52ea688": {
          "model_module": "@jupyter-widgets/controls",
          "model_name": "DescriptionStyleModel",
          "model_module_version": "1.5.0",
          "state": {
            "_model_module": "@jupyter-widgets/controls",
            "_model_module_version": "1.5.0",
            "_model_name": "DescriptionStyleModel",
            "_view_count": null,
            "_view_module": "@jupyter-widgets/base",
            "_view_module_version": "1.2.0",
            "_view_name": "StyleView",
            "description_width": ""
          }
        },
        "4486b8845aef4d1dac15e02acef0d2cf": {
          "model_module": "@jupyter-widgets/controls",
          "model_name": "HBoxModel",
          "model_module_version": "1.5.0",
          "state": {
            "_dom_classes": [],
            "_model_module": "@jupyter-widgets/controls",
            "_model_module_version": "1.5.0",
            "_model_name": "HBoxModel",
            "_view_count": null,
            "_view_module": "@jupyter-widgets/controls",
            "_view_module_version": "1.5.0",
            "_view_name": "HBoxView",
            "box_style": "",
            "children": [
              "IPY_MODEL_d317e2734cb444eba757b695f9bba696",
              "IPY_MODEL_a8f5a1b433424d2280a64e8f1fa7022a",
              "IPY_MODEL_f562ef0756bd452995529f43b2e444ff"
            ],
            "layout": "IPY_MODEL_c813499a97924a95b3e70f8f138a11b4"
          }
        },
        "d317e2734cb444eba757b695f9bba696": {
          "model_module": "@jupyter-widgets/controls",
          "model_name": "HTMLModel",
          "model_module_version": "1.5.0",
          "state": {
            "_dom_classes": [],
            "_model_module": "@jupyter-widgets/controls",
            "_model_module_version": "1.5.0",
            "_model_name": "HTMLModel",
            "_view_count": null,
            "_view_module": "@jupyter-widgets/controls",
            "_view_module_version": "1.5.0",
            "_view_name": "HTMLView",
            "description": "",
            "description_tooltip": null,
            "layout": "IPY_MODEL_92eb720d6a0340298806fcd1d1c18e91",
            "placeholder": "​",
            "style": "IPY_MODEL_1907794d17404f0a93ab71d4ddb4d979",
            "value": "100%"
          }
        },
        "a8f5a1b433424d2280a64e8f1fa7022a": {
          "model_module": "@jupyter-widgets/controls",
          "model_name": "FloatProgressModel",
          "model_module_version": "1.5.0",
          "state": {
            "_dom_classes": [],
            "_model_module": "@jupyter-widgets/controls",
            "_model_module_version": "1.5.0",
            "_model_name": "FloatProgressModel",
            "_view_count": null,
            "_view_module": "@jupyter-widgets/controls",
            "_view_module_version": "1.5.0",
            "_view_name": "ProgressView",
            "bar_style": "success",
            "description": "",
            "description_tooltip": null,
            "layout": "IPY_MODEL_0cd1b7e27908483c865370a4d157f125",
            "max": 3,
            "min": 0,
            "orientation": "horizontal",
            "style": "IPY_MODEL_78412c5d895d4fa8beaba4cc2a5826ef",
            "value": 3
          }
        },
        "f562ef0756bd452995529f43b2e444ff": {
          "model_module": "@jupyter-widgets/controls",
          "model_name": "HTMLModel",
          "model_module_version": "1.5.0",
          "state": {
            "_dom_classes": [],
            "_model_module": "@jupyter-widgets/controls",
            "_model_module_version": "1.5.0",
            "_model_name": "HTMLModel",
            "_view_count": null,
            "_view_module": "@jupyter-widgets/controls",
            "_view_module_version": "1.5.0",
            "_view_name": "HTMLView",
            "description": "",
            "description_tooltip": null,
            "layout": "IPY_MODEL_74b6acb1b8f44ef6ab358ba7fecf95d8",
            "placeholder": "​",
            "style": "IPY_MODEL_4569f5a130394d0d8f0d82c116a6ddfa",
            "value": " 3/3 [00:00&lt;00:00, 54.22it/s]"
          }
        },
        "c813499a97924a95b3e70f8f138a11b4": {
          "model_module": "@jupyter-widgets/base",
          "model_name": "LayoutModel",
          "model_module_version": "1.2.0",
          "state": {
            "_model_module": "@jupyter-widgets/base",
            "_model_module_version": "1.2.0",
            "_model_name": "LayoutModel",
            "_view_count": null,
            "_view_module": "@jupyter-widgets/base",
            "_view_module_version": "1.2.0",
            "_view_name": "LayoutView",
            "align_content": null,
            "align_items": null,
            "align_self": null,
            "border": null,
            "bottom": null,
            "display": null,
            "flex": null,
            "flex_flow": null,
            "grid_area": null,
            "grid_auto_columns": null,
            "grid_auto_flow": null,
            "grid_auto_rows": null,
            "grid_column": null,
            "grid_gap": null,
            "grid_row": null,
            "grid_template_areas": null,
            "grid_template_columns": null,
            "grid_template_rows": null,
            "height": null,
            "justify_content": null,
            "justify_items": null,
            "left": null,
            "margin": null,
            "max_height": null,
            "max_width": null,
            "min_height": null,
            "min_width": null,
            "object_fit": null,
            "object_position": null,
            "order": null,
            "overflow": null,
            "overflow_x": null,
            "overflow_y": null,
            "padding": null,
            "right": null,
            "top": null,
            "visibility": null,
            "width": null
          }
        },
        "92eb720d6a0340298806fcd1d1c18e91": {
          "model_module": "@jupyter-widgets/base",
          "model_name": "LayoutModel",
          "model_module_version": "1.2.0",
          "state": {
            "_model_module": "@jupyter-widgets/base",
            "_model_module_version": "1.2.0",
            "_model_name": "LayoutModel",
            "_view_count": null,
            "_view_module": "@jupyter-widgets/base",
            "_view_module_version": "1.2.0",
            "_view_name": "LayoutView",
            "align_content": null,
            "align_items": null,
            "align_self": null,
            "border": null,
            "bottom": null,
            "display": null,
            "flex": null,
            "flex_flow": null,
            "grid_area": null,
            "grid_auto_columns": null,
            "grid_auto_flow": null,
            "grid_auto_rows": null,
            "grid_column": null,
            "grid_gap": null,
            "grid_row": null,
            "grid_template_areas": null,
            "grid_template_columns": null,
            "grid_template_rows": null,
            "height": null,
            "justify_content": null,
            "justify_items": null,
            "left": null,
            "margin": null,
            "max_height": null,
            "max_width": null,
            "min_height": null,
            "min_width": null,
            "object_fit": null,
            "object_position": null,
            "order": null,
            "overflow": null,
            "overflow_x": null,
            "overflow_y": null,
            "padding": null,
            "right": null,
            "top": null,
            "visibility": null,
            "width": null
          }
        },
        "1907794d17404f0a93ab71d4ddb4d979": {
          "model_module": "@jupyter-widgets/controls",
          "model_name": "DescriptionStyleModel",
          "model_module_version": "1.5.0",
          "state": {
            "_model_module": "@jupyter-widgets/controls",
            "_model_module_version": "1.5.0",
            "_model_name": "DescriptionStyleModel",
            "_view_count": null,
            "_view_module": "@jupyter-widgets/base",
            "_view_module_version": "1.2.0",
            "_view_name": "StyleView",
            "description_width": ""
          }
        },
        "0cd1b7e27908483c865370a4d157f125": {
          "model_module": "@jupyter-widgets/base",
          "model_name": "LayoutModel",
          "model_module_version": "1.2.0",
          "state": {
            "_model_module": "@jupyter-widgets/base",
            "_model_module_version": "1.2.0",
            "_model_name": "LayoutModel",
            "_view_count": null,
            "_view_module": "@jupyter-widgets/base",
            "_view_module_version": "1.2.0",
            "_view_name": "LayoutView",
            "align_content": null,
            "align_items": null,
            "align_self": null,
            "border": null,
            "bottom": null,
            "display": null,
            "flex": null,
            "flex_flow": null,
            "grid_area": null,
            "grid_auto_columns": null,
            "grid_auto_flow": null,
            "grid_auto_rows": null,
            "grid_column": null,
            "grid_gap": null,
            "grid_row": null,
            "grid_template_areas": null,
            "grid_template_columns": null,
            "grid_template_rows": null,
            "height": null,
            "justify_content": null,
            "justify_items": null,
            "left": null,
            "margin": null,
            "max_height": null,
            "max_width": null,
            "min_height": null,
            "min_width": null,
            "object_fit": null,
            "object_position": null,
            "order": null,
            "overflow": null,
            "overflow_x": null,
            "overflow_y": null,
            "padding": null,
            "right": null,
            "top": null,
            "visibility": null,
            "width": null
          }
        },
        "78412c5d895d4fa8beaba4cc2a5826ef": {
          "model_module": "@jupyter-widgets/controls",
          "model_name": "ProgressStyleModel",
          "model_module_version": "1.5.0",
          "state": {
            "_model_module": "@jupyter-widgets/controls",
            "_model_module_version": "1.5.0",
            "_model_name": "ProgressStyleModel",
            "_view_count": null,
            "_view_module": "@jupyter-widgets/base",
            "_view_module_version": "1.2.0",
            "_view_name": "StyleView",
            "bar_color": null,
            "description_width": ""
          }
        },
        "74b6acb1b8f44ef6ab358ba7fecf95d8": {
          "model_module": "@jupyter-widgets/base",
          "model_name": "LayoutModel",
          "model_module_version": "1.2.0",
          "state": {
            "_model_module": "@jupyter-widgets/base",
            "_model_module_version": "1.2.0",
            "_model_name": "LayoutModel",
            "_view_count": null,
            "_view_module": "@jupyter-widgets/base",
            "_view_module_version": "1.2.0",
            "_view_name": "LayoutView",
            "align_content": null,
            "align_items": null,
            "align_self": null,
            "border": null,
            "bottom": null,
            "display": null,
            "flex": null,
            "flex_flow": null,
            "grid_area": null,
            "grid_auto_columns": null,
            "grid_auto_flow": null,
            "grid_auto_rows": null,
            "grid_column": null,
            "grid_gap": null,
            "grid_row": null,
            "grid_template_areas": null,
            "grid_template_columns": null,
            "grid_template_rows": null,
            "height": null,
            "justify_content": null,
            "justify_items": null,
            "left": null,
            "margin": null,
            "max_height": null,
            "max_width": null,
            "min_height": null,
            "min_width": null,
            "object_fit": null,
            "object_position": null,
            "order": null,
            "overflow": null,
            "overflow_x": null,
            "overflow_y": null,
            "padding": null,
            "right": null,
            "top": null,
            "visibility": null,
            "width": null
          }
        },
        "4569f5a130394d0d8f0d82c116a6ddfa": {
          "model_module": "@jupyter-widgets/controls",
          "model_name": "DescriptionStyleModel",
          "model_module_version": "1.5.0",
          "state": {
            "_model_module": "@jupyter-widgets/controls",
            "_model_module_version": "1.5.0",
            "_model_name": "DescriptionStyleModel",
            "_view_count": null,
            "_view_module": "@jupyter-widgets/base",
            "_view_module_version": "1.2.0",
            "_view_name": "StyleView",
            "description_width": ""
          }
        },
        "666c1b20fba643ab838fd66527ebe9a4": {
          "model_module": "@jupyter-widgets/controls",
          "model_name": "HBoxModel",
          "model_module_version": "1.5.0",
          "state": {
            "_dom_classes": [],
            "_model_module": "@jupyter-widgets/controls",
            "_model_module_version": "1.5.0",
            "_model_name": "HBoxModel",
            "_view_count": null,
            "_view_module": "@jupyter-widgets/controls",
            "_view_module_version": "1.5.0",
            "_view_name": "HBoxView",
            "box_style": "",
            "children": [
              "IPY_MODEL_12a8866a1f754ff5beeeae22219231e4",
              "IPY_MODEL_f4774ec442eb4b9eb6c56a373f4558cf",
              "IPY_MODEL_f36b66387feb4a44be0114a467a7b8a0"
            ],
            "layout": "IPY_MODEL_331f5d101e0341a794a331f25821bcf2"
          }
        },
        "12a8866a1f754ff5beeeae22219231e4": {
          "model_module": "@jupyter-widgets/controls",
          "model_name": "HTMLModel",
          "model_module_version": "1.5.0",
          "state": {
            "_dom_classes": [],
            "_model_module": "@jupyter-widgets/controls",
            "_model_module_version": "1.5.0",
            "_model_name": "HTMLModel",
            "_view_count": null,
            "_view_module": "@jupyter-widgets/controls",
            "_view_module_version": "1.5.0",
            "_view_name": "HTMLView",
            "description": "",
            "description_tooltip": null,
            "layout": "IPY_MODEL_cfd2061e40644c8789115bae45e26e09",
            "placeholder": "​",
            "style": "IPY_MODEL_5a9ad05435e54ddab40d0a050ceb7eee",
            "value": "Downloading: 100%"
          }
        },
        "f4774ec442eb4b9eb6c56a373f4558cf": {
          "model_module": "@jupyter-widgets/controls",
          "model_name": "FloatProgressModel",
          "model_module_version": "1.5.0",
          "state": {
            "_dom_classes": [],
            "_model_module": "@jupyter-widgets/controls",
            "_model_module_version": "1.5.0",
            "_model_name": "FloatProgressModel",
            "_view_count": null,
            "_view_module": "@jupyter-widgets/controls",
            "_view_module_version": "1.5.0",
            "_view_name": "ProgressView",
            "bar_style": "success",
            "description": "",
            "description_tooltip": null,
            "layout": "IPY_MODEL_ea7308bebb4d4d22a4f351cee9ebcff1",
            "max": 998,
            "min": 0,
            "orientation": "horizontal",
            "style": "IPY_MODEL_90ad8c26ccd249f2ad66e253c508493e",
            "value": 998
          }
        },
        "f36b66387feb4a44be0114a467a7b8a0": {
          "model_module": "@jupyter-widgets/controls",
          "model_name": "HTMLModel",
          "model_module_version": "1.5.0",
          "state": {
            "_dom_classes": [],
            "_model_module": "@jupyter-widgets/controls",
            "_model_module_version": "1.5.0",
            "_model_name": "HTMLModel",
            "_view_count": null,
            "_view_module": "@jupyter-widgets/controls",
            "_view_module_version": "1.5.0",
            "_view_name": "HTMLView",
            "description": "",
            "description_tooltip": null,
            "layout": "IPY_MODEL_e46c1548c7ef44be8bfc6eb260cfcd1f",
            "placeholder": "​",
            "style": "IPY_MODEL_242dba8506414b1ca6181c4c3020bb06",
            "value": " 998/998 [00:00&lt;00:00, 23.0kB/s]"
          }
        },
        "331f5d101e0341a794a331f25821bcf2": {
          "model_module": "@jupyter-widgets/base",
          "model_name": "LayoutModel",
          "model_module_version": "1.2.0",
          "state": {
            "_model_module": "@jupyter-widgets/base",
            "_model_module_version": "1.2.0",
            "_model_name": "LayoutModel",
            "_view_count": null,
            "_view_module": "@jupyter-widgets/base",
            "_view_module_version": "1.2.0",
            "_view_name": "LayoutView",
            "align_content": null,
            "align_items": null,
            "align_self": null,
            "border": null,
            "bottom": null,
            "display": null,
            "flex": null,
            "flex_flow": null,
            "grid_area": null,
            "grid_auto_columns": null,
            "grid_auto_flow": null,
            "grid_auto_rows": null,
            "grid_column": null,
            "grid_gap": null,
            "grid_row": null,
            "grid_template_areas": null,
            "grid_template_columns": null,
            "grid_template_rows": null,
            "height": null,
            "justify_content": null,
            "justify_items": null,
            "left": null,
            "margin": null,
            "max_height": null,
            "max_width": null,
            "min_height": null,
            "min_width": null,
            "object_fit": null,
            "object_position": null,
            "order": null,
            "overflow": null,
            "overflow_x": null,
            "overflow_y": null,
            "padding": null,
            "right": null,
            "top": null,
            "visibility": null,
            "width": null
          }
        },
        "cfd2061e40644c8789115bae45e26e09": {
          "model_module": "@jupyter-widgets/base",
          "model_name": "LayoutModel",
          "model_module_version": "1.2.0",
          "state": {
            "_model_module": "@jupyter-widgets/base",
            "_model_module_version": "1.2.0",
            "_model_name": "LayoutModel",
            "_view_count": null,
            "_view_module": "@jupyter-widgets/base",
            "_view_module_version": "1.2.0",
            "_view_name": "LayoutView",
            "align_content": null,
            "align_items": null,
            "align_self": null,
            "border": null,
            "bottom": null,
            "display": null,
            "flex": null,
            "flex_flow": null,
            "grid_area": null,
            "grid_auto_columns": null,
            "grid_auto_flow": null,
            "grid_auto_rows": null,
            "grid_column": null,
            "grid_gap": null,
            "grid_row": null,
            "grid_template_areas": null,
            "grid_template_columns": null,
            "grid_template_rows": null,
            "height": null,
            "justify_content": null,
            "justify_items": null,
            "left": null,
            "margin": null,
            "max_height": null,
            "max_width": null,
            "min_height": null,
            "min_width": null,
            "object_fit": null,
            "object_position": null,
            "order": null,
            "overflow": null,
            "overflow_x": null,
            "overflow_y": null,
            "padding": null,
            "right": null,
            "top": null,
            "visibility": null,
            "width": null
          }
        },
        "5a9ad05435e54ddab40d0a050ceb7eee": {
          "model_module": "@jupyter-widgets/controls",
          "model_name": "DescriptionStyleModel",
          "model_module_version": "1.5.0",
          "state": {
            "_model_module": "@jupyter-widgets/controls",
            "_model_module_version": "1.5.0",
            "_model_name": "DescriptionStyleModel",
            "_view_count": null,
            "_view_module": "@jupyter-widgets/base",
            "_view_module_version": "1.2.0",
            "_view_name": "StyleView",
            "description_width": ""
          }
        },
        "ea7308bebb4d4d22a4f351cee9ebcff1": {
          "model_module": "@jupyter-widgets/base",
          "model_name": "LayoutModel",
          "model_module_version": "1.2.0",
          "state": {
            "_model_module": "@jupyter-widgets/base",
            "_model_module_version": "1.2.0",
            "_model_name": "LayoutModel",
            "_view_count": null,
            "_view_module": "@jupyter-widgets/base",
            "_view_module_version": "1.2.0",
            "_view_name": "LayoutView",
            "align_content": null,
            "align_items": null,
            "align_self": null,
            "border": null,
            "bottom": null,
            "display": null,
            "flex": null,
            "flex_flow": null,
            "grid_area": null,
            "grid_auto_columns": null,
            "grid_auto_flow": null,
            "grid_auto_rows": null,
            "grid_column": null,
            "grid_gap": null,
            "grid_row": null,
            "grid_template_areas": null,
            "grid_template_columns": null,
            "grid_template_rows": null,
            "height": null,
            "justify_content": null,
            "justify_items": null,
            "left": null,
            "margin": null,
            "max_height": null,
            "max_width": null,
            "min_height": null,
            "min_width": null,
            "object_fit": null,
            "object_position": null,
            "order": null,
            "overflow": null,
            "overflow_x": null,
            "overflow_y": null,
            "padding": null,
            "right": null,
            "top": null,
            "visibility": null,
            "width": null
          }
        },
        "90ad8c26ccd249f2ad66e253c508493e": {
          "model_module": "@jupyter-widgets/controls",
          "model_name": "ProgressStyleModel",
          "model_module_version": "1.5.0",
          "state": {
            "_model_module": "@jupyter-widgets/controls",
            "_model_module_version": "1.5.0",
            "_model_name": "ProgressStyleModel",
            "_view_count": null,
            "_view_module": "@jupyter-widgets/base",
            "_view_module_version": "1.2.0",
            "_view_name": "StyleView",
            "bar_color": null,
            "description_width": ""
          }
        },
        "e46c1548c7ef44be8bfc6eb260cfcd1f": {
          "model_module": "@jupyter-widgets/base",
          "model_name": "LayoutModel",
          "model_module_version": "1.2.0",
          "state": {
            "_model_module": "@jupyter-widgets/base",
            "_model_module_version": "1.2.0",
            "_model_name": "LayoutModel",
            "_view_count": null,
            "_view_module": "@jupyter-widgets/base",
            "_view_module_version": "1.2.0",
            "_view_name": "LayoutView",
            "align_content": null,
            "align_items": null,
            "align_self": null,
            "border": null,
            "bottom": null,
            "display": null,
            "flex": null,
            "flex_flow": null,
            "grid_area": null,
            "grid_auto_columns": null,
            "grid_auto_flow": null,
            "grid_auto_rows": null,
            "grid_column": null,
            "grid_gap": null,
            "grid_row": null,
            "grid_template_areas": null,
            "grid_template_columns": null,
            "grid_template_rows": null,
            "height": null,
            "justify_content": null,
            "justify_items": null,
            "left": null,
            "margin": null,
            "max_height": null,
            "max_width": null,
            "min_height": null,
            "min_width": null,
            "object_fit": null,
            "object_position": null,
            "order": null,
            "overflow": null,
            "overflow_x": null,
            "overflow_y": null,
            "padding": null,
            "right": null,
            "top": null,
            "visibility": null,
            "width": null
          }
        },
        "242dba8506414b1ca6181c4c3020bb06": {
          "model_module": "@jupyter-widgets/controls",
          "model_name": "DescriptionStyleModel",
          "model_module_version": "1.5.0",
          "state": {
            "_model_module": "@jupyter-widgets/controls",
            "_model_module_version": "1.5.0",
            "_model_name": "DescriptionStyleModel",
            "_view_count": null,
            "_view_module": "@jupyter-widgets/base",
            "_view_module_version": "1.2.0",
            "_view_name": "StyleView",
            "description_width": ""
          }
        },
        "c061567991ea454c9d88793cdea913f0": {
          "model_module": "@jupyter-widgets/controls",
          "model_name": "HBoxModel",
          "model_module_version": "1.5.0",
          "state": {
            "_dom_classes": [],
            "_model_module": "@jupyter-widgets/controls",
            "_model_module_version": "1.5.0",
            "_model_name": "HBoxModel",
            "_view_count": null,
            "_view_module": "@jupyter-widgets/controls",
            "_view_module_version": "1.5.0",
            "_view_name": "HBoxView",
            "box_style": "",
            "children": [
              "IPY_MODEL_9d0720d17adb4314bd9e787b1c6d9f07",
              "IPY_MODEL_894624c07722430eb46ee2539f37adef",
              "IPY_MODEL_bee1a0f09cdd4a75b7b9cf6778997a47"
            ],
            "layout": "IPY_MODEL_b441032c3a5c43cf9a5340cc91263085"
          }
        },
        "9d0720d17adb4314bd9e787b1c6d9f07": {
          "model_module": "@jupyter-widgets/controls",
          "model_name": "HTMLModel",
          "model_module_version": "1.5.0",
          "state": {
            "_dom_classes": [],
            "_model_module": "@jupyter-widgets/controls",
            "_model_module_version": "1.5.0",
            "_model_name": "HTMLModel",
            "_view_count": null,
            "_view_module": "@jupyter-widgets/controls",
            "_view_module_version": "1.5.0",
            "_view_name": "HTMLView",
            "description": "",
            "description_tooltip": null,
            "layout": "IPY_MODEL_911ab9d62e2947e7a6d6cd0e9920e6d4",
            "placeholder": "​",
            "style": "IPY_MODEL_4e5b883b0a5b4e4797f0c5c2a3a8b7b0",
            "value": "Downloading: 100%"
          }
        },
        "894624c07722430eb46ee2539f37adef": {
          "model_module": "@jupyter-widgets/controls",
          "model_name": "FloatProgressModel",
          "model_module_version": "1.5.0",
          "state": {
            "_dom_classes": [],
            "_model_module": "@jupyter-widgets/controls",
            "_model_module_version": "1.5.0",
            "_model_name": "FloatProgressModel",
            "_view_count": null,
            "_view_module": "@jupyter-widgets/controls",
            "_view_module_version": "1.5.0",
            "_view_name": "ProgressView",
            "bar_style": "success",
            "description": "",
            "description_tooltip": null,
            "layout": "IPY_MODEL_45cfc8c615ee4f8a955e412a04ca869e",
            "max": 1334448817,
            "min": 0,
            "orientation": "horizontal",
            "style": "IPY_MODEL_4685d8d8d0ad4aad9e93f4086d0ddf5d",
            "value": 1334448817
          }
        },
        "bee1a0f09cdd4a75b7b9cf6778997a47": {
          "model_module": "@jupyter-widgets/controls",
          "model_name": "HTMLModel",
          "model_module_version": "1.5.0",
          "state": {
            "_dom_classes": [],
            "_model_module": "@jupyter-widgets/controls",
            "_model_module_version": "1.5.0",
            "_model_name": "HTMLModel",
            "_view_count": null,
            "_view_module": "@jupyter-widgets/controls",
            "_view_module_version": "1.5.0",
            "_view_name": "HTMLView",
            "description": "",
            "description_tooltip": null,
            "layout": "IPY_MODEL_f9d6104dc7304f28b15e905034569035",
            "placeholder": "​",
            "style": "IPY_MODEL_fb2524f9b262486fb911c5c65d2f1c7a",
            "value": " 1.24G/1.24G [00:32&lt;00:00, 35.9MB/s]"
          }
        },
        "b441032c3a5c43cf9a5340cc91263085": {
          "model_module": "@jupyter-widgets/base",
          "model_name": "LayoutModel",
          "model_module_version": "1.2.0",
          "state": {
            "_model_module": "@jupyter-widgets/base",
            "_model_module_version": "1.2.0",
            "_model_name": "LayoutModel",
            "_view_count": null,
            "_view_module": "@jupyter-widgets/base",
            "_view_module_version": "1.2.0",
            "_view_name": "LayoutView",
            "align_content": null,
            "align_items": null,
            "align_self": null,
            "border": null,
            "bottom": null,
            "display": null,
            "flex": null,
            "flex_flow": null,
            "grid_area": null,
            "grid_auto_columns": null,
            "grid_auto_flow": null,
            "grid_auto_rows": null,
            "grid_column": null,
            "grid_gap": null,
            "grid_row": null,
            "grid_template_areas": null,
            "grid_template_columns": null,
            "grid_template_rows": null,
            "height": null,
            "justify_content": null,
            "justify_items": null,
            "left": null,
            "margin": null,
            "max_height": null,
            "max_width": null,
            "min_height": null,
            "min_width": null,
            "object_fit": null,
            "object_position": null,
            "order": null,
            "overflow": null,
            "overflow_x": null,
            "overflow_y": null,
            "padding": null,
            "right": null,
            "top": null,
            "visibility": null,
            "width": null
          }
        },
        "911ab9d62e2947e7a6d6cd0e9920e6d4": {
          "model_module": "@jupyter-widgets/base",
          "model_name": "LayoutModel",
          "model_module_version": "1.2.0",
          "state": {
            "_model_module": "@jupyter-widgets/base",
            "_model_module_version": "1.2.0",
            "_model_name": "LayoutModel",
            "_view_count": null,
            "_view_module": "@jupyter-widgets/base",
            "_view_module_version": "1.2.0",
            "_view_name": "LayoutView",
            "align_content": null,
            "align_items": null,
            "align_self": null,
            "border": null,
            "bottom": null,
            "display": null,
            "flex": null,
            "flex_flow": null,
            "grid_area": null,
            "grid_auto_columns": null,
            "grid_auto_flow": null,
            "grid_auto_rows": null,
            "grid_column": null,
            "grid_gap": null,
            "grid_row": null,
            "grid_template_areas": null,
            "grid_template_columns": null,
            "grid_template_rows": null,
            "height": null,
            "justify_content": null,
            "justify_items": null,
            "left": null,
            "margin": null,
            "max_height": null,
            "max_width": null,
            "min_height": null,
            "min_width": null,
            "object_fit": null,
            "object_position": null,
            "order": null,
            "overflow": null,
            "overflow_x": null,
            "overflow_y": null,
            "padding": null,
            "right": null,
            "top": null,
            "visibility": null,
            "width": null
          }
        },
        "4e5b883b0a5b4e4797f0c5c2a3a8b7b0": {
          "model_module": "@jupyter-widgets/controls",
          "model_name": "DescriptionStyleModel",
          "model_module_version": "1.5.0",
          "state": {
            "_model_module": "@jupyter-widgets/controls",
            "_model_module_version": "1.5.0",
            "_model_name": "DescriptionStyleModel",
            "_view_count": null,
            "_view_module": "@jupyter-widgets/base",
            "_view_module_version": "1.2.0",
            "_view_name": "StyleView",
            "description_width": ""
          }
        },
        "45cfc8c615ee4f8a955e412a04ca869e": {
          "model_module": "@jupyter-widgets/base",
          "model_name": "LayoutModel",
          "model_module_version": "1.2.0",
          "state": {
            "_model_module": "@jupyter-widgets/base",
            "_model_module_version": "1.2.0",
            "_model_name": "LayoutModel",
            "_view_count": null,
            "_view_module": "@jupyter-widgets/base",
            "_view_module_version": "1.2.0",
            "_view_name": "LayoutView",
            "align_content": null,
            "align_items": null,
            "align_self": null,
            "border": null,
            "bottom": null,
            "display": null,
            "flex": null,
            "flex_flow": null,
            "grid_area": null,
            "grid_auto_columns": null,
            "grid_auto_flow": null,
            "grid_auto_rows": null,
            "grid_column": null,
            "grid_gap": null,
            "grid_row": null,
            "grid_template_areas": null,
            "grid_template_columns": null,
            "grid_template_rows": null,
            "height": null,
            "justify_content": null,
            "justify_items": null,
            "left": null,
            "margin": null,
            "max_height": null,
            "max_width": null,
            "min_height": null,
            "min_width": null,
            "object_fit": null,
            "object_position": null,
            "order": null,
            "overflow": null,
            "overflow_x": null,
            "overflow_y": null,
            "padding": null,
            "right": null,
            "top": null,
            "visibility": null,
            "width": null
          }
        },
        "4685d8d8d0ad4aad9e93f4086d0ddf5d": {
          "model_module": "@jupyter-widgets/controls",
          "model_name": "ProgressStyleModel",
          "model_module_version": "1.5.0",
          "state": {
            "_model_module": "@jupyter-widgets/controls",
            "_model_module_version": "1.5.0",
            "_model_name": "ProgressStyleModel",
            "_view_count": null,
            "_view_module": "@jupyter-widgets/base",
            "_view_module_version": "1.2.0",
            "_view_name": "StyleView",
            "bar_color": null,
            "description_width": ""
          }
        },
        "f9d6104dc7304f28b15e905034569035": {
          "model_module": "@jupyter-widgets/base",
          "model_name": "LayoutModel",
          "model_module_version": "1.2.0",
          "state": {
            "_model_module": "@jupyter-widgets/base",
            "_model_module_version": "1.2.0",
            "_model_name": "LayoutModel",
            "_view_count": null,
            "_view_module": "@jupyter-widgets/base",
            "_view_module_version": "1.2.0",
            "_view_name": "LayoutView",
            "align_content": null,
            "align_items": null,
            "align_self": null,
            "border": null,
            "bottom": null,
            "display": null,
            "flex": null,
            "flex_flow": null,
            "grid_area": null,
            "grid_auto_columns": null,
            "grid_auto_flow": null,
            "grid_auto_rows": null,
            "grid_column": null,
            "grid_gap": null,
            "grid_row": null,
            "grid_template_areas": null,
            "grid_template_columns": null,
            "grid_template_rows": null,
            "height": null,
            "justify_content": null,
            "justify_items": null,
            "left": null,
            "margin": null,
            "max_height": null,
            "max_width": null,
            "min_height": null,
            "min_width": null,
            "object_fit": null,
            "object_position": null,
            "order": null,
            "overflow": null,
            "overflow_x": null,
            "overflow_y": null,
            "padding": null,
            "right": null,
            "top": null,
            "visibility": null,
            "width": null
          }
        },
        "fb2524f9b262486fb911c5c65d2f1c7a": {
          "model_module": "@jupyter-widgets/controls",
          "model_name": "DescriptionStyleModel",
          "model_module_version": "1.5.0",
          "state": {
            "_model_module": "@jupyter-widgets/controls",
            "_model_module_version": "1.5.0",
            "_model_name": "DescriptionStyleModel",
            "_view_count": null,
            "_view_module": "@jupyter-widgets/base",
            "_view_module_version": "1.2.0",
            "_view_name": "StyleView",
            "description_width": ""
          }
        },
        "8a65b7eb5b2442b3bcfd12d635ebea43": {
          "model_module": "@jupyter-widgets/controls",
          "model_name": "HBoxModel",
          "model_module_version": "1.5.0",
          "state": {
            "_dom_classes": [],
            "_model_module": "@jupyter-widgets/controls",
            "_model_module_version": "1.5.0",
            "_model_name": "HBoxModel",
            "_view_count": null,
            "_view_module": "@jupyter-widgets/controls",
            "_view_module_version": "1.5.0",
            "_view_name": "HBoxView",
            "box_style": "",
            "children": [
              "IPY_MODEL_efdbc99d6ba24dfe968037b6da4e1cfc",
              "IPY_MODEL_e04403e1f8ea472e8238d253094c0483",
              "IPY_MODEL_21569ed7fa6543b5b885c58a7f2e9aae"
            ],
            "layout": "IPY_MODEL_ed5f2ba2f80741fd9ef483f01dcedd9b"
          }
        },
        "efdbc99d6ba24dfe968037b6da4e1cfc": {
          "model_module": "@jupyter-widgets/controls",
          "model_name": "HTMLModel",
          "model_module_version": "1.5.0",
          "state": {
            "_dom_classes": [],
            "_model_module": "@jupyter-widgets/controls",
            "_model_module_version": "1.5.0",
            "_model_name": "HTMLModel",
            "_view_count": null,
            "_view_module": "@jupyter-widgets/controls",
            "_view_module_version": "1.5.0",
            "_view_name": "HTMLView",
            "description": "",
            "description_tooltip": null,
            "layout": "IPY_MODEL_789a20fff29b4a4aad803dc77e2e0b9f",
            "placeholder": "​",
            "style": "IPY_MODEL_9870090569bf47c18cae9e30242c2fec",
            "value": "Downloading: 100%"
          }
        },
        "e04403e1f8ea472e8238d253094c0483": {
          "model_module": "@jupyter-widgets/controls",
          "model_name": "FloatProgressModel",
          "model_module_version": "1.5.0",
          "state": {
            "_dom_classes": [],
            "_model_module": "@jupyter-widgets/controls",
            "_model_module_version": "1.5.0",
            "_model_name": "FloatProgressModel",
            "_view_count": null,
            "_view_module": "@jupyter-widgets/controls",
            "_view_module_version": "1.5.0",
            "_view_name": "ProgressView",
            "bar_style": "success",
            "description": "",
            "description_tooltip": null,
            "layout": "IPY_MODEL_e4581167cd5b4552aea6973df6c4f487",
            "max": 60,
            "min": 0,
            "orientation": "horizontal",
            "style": "IPY_MODEL_c9fe0965dc574191b465b34776678d8c",
            "value": 60
          }
        },
        "21569ed7fa6543b5b885c58a7f2e9aae": {
          "model_module": "@jupyter-widgets/controls",
          "model_name": "HTMLModel",
          "model_module_version": "1.5.0",
          "state": {
            "_dom_classes": [],
            "_model_module": "@jupyter-widgets/controls",
            "_model_module_version": "1.5.0",
            "_model_name": "HTMLModel",
            "_view_count": null,
            "_view_module": "@jupyter-widgets/controls",
            "_view_module_version": "1.5.0",
            "_view_name": "HTMLView",
            "description": "",
            "description_tooltip": null,
            "layout": "IPY_MODEL_849f82b7d6684da7ae9895a947074744",
            "placeholder": "​",
            "style": "IPY_MODEL_072b8a16af024b04a949f7f8c1a68c2b",
            "value": " 60.0/60.0 [00:00&lt;00:00, 1.11kB/s]"
          }
        },
        "ed5f2ba2f80741fd9ef483f01dcedd9b": {
          "model_module": "@jupyter-widgets/base",
          "model_name": "LayoutModel",
          "model_module_version": "1.2.0",
          "state": {
            "_model_module": "@jupyter-widgets/base",
            "_model_module_version": "1.2.0",
            "_model_name": "LayoutModel",
            "_view_count": null,
            "_view_module": "@jupyter-widgets/base",
            "_view_module_version": "1.2.0",
            "_view_name": "LayoutView",
            "align_content": null,
            "align_items": null,
            "align_self": null,
            "border": null,
            "bottom": null,
            "display": null,
            "flex": null,
            "flex_flow": null,
            "grid_area": null,
            "grid_auto_columns": null,
            "grid_auto_flow": null,
            "grid_auto_rows": null,
            "grid_column": null,
            "grid_gap": null,
            "grid_row": null,
            "grid_template_areas": null,
            "grid_template_columns": null,
            "grid_template_rows": null,
            "height": null,
            "justify_content": null,
            "justify_items": null,
            "left": null,
            "margin": null,
            "max_height": null,
            "max_width": null,
            "min_height": null,
            "min_width": null,
            "object_fit": null,
            "object_position": null,
            "order": null,
            "overflow": null,
            "overflow_x": null,
            "overflow_y": null,
            "padding": null,
            "right": null,
            "top": null,
            "visibility": null,
            "width": null
          }
        },
        "789a20fff29b4a4aad803dc77e2e0b9f": {
          "model_module": "@jupyter-widgets/base",
          "model_name": "LayoutModel",
          "model_module_version": "1.2.0",
          "state": {
            "_model_module": "@jupyter-widgets/base",
            "_model_module_version": "1.2.0",
            "_model_name": "LayoutModel",
            "_view_count": null,
            "_view_module": "@jupyter-widgets/base",
            "_view_module_version": "1.2.0",
            "_view_name": "LayoutView",
            "align_content": null,
            "align_items": null,
            "align_self": null,
            "border": null,
            "bottom": null,
            "display": null,
            "flex": null,
            "flex_flow": null,
            "grid_area": null,
            "grid_auto_columns": null,
            "grid_auto_flow": null,
            "grid_auto_rows": null,
            "grid_column": null,
            "grid_gap": null,
            "grid_row": null,
            "grid_template_areas": null,
            "grid_template_columns": null,
            "grid_template_rows": null,
            "height": null,
            "justify_content": null,
            "justify_items": null,
            "left": null,
            "margin": null,
            "max_height": null,
            "max_width": null,
            "min_height": null,
            "min_width": null,
            "object_fit": null,
            "object_position": null,
            "order": null,
            "overflow": null,
            "overflow_x": null,
            "overflow_y": null,
            "padding": null,
            "right": null,
            "top": null,
            "visibility": null,
            "width": null
          }
        },
        "9870090569bf47c18cae9e30242c2fec": {
          "model_module": "@jupyter-widgets/controls",
          "model_name": "DescriptionStyleModel",
          "model_module_version": "1.5.0",
          "state": {
            "_model_module": "@jupyter-widgets/controls",
            "_model_module_version": "1.5.0",
            "_model_name": "DescriptionStyleModel",
            "_view_count": null,
            "_view_module": "@jupyter-widgets/base",
            "_view_module_version": "1.2.0",
            "_view_name": "StyleView",
            "description_width": ""
          }
        },
        "e4581167cd5b4552aea6973df6c4f487": {
          "model_module": "@jupyter-widgets/base",
          "model_name": "LayoutModel",
          "model_module_version": "1.2.0",
          "state": {
            "_model_module": "@jupyter-widgets/base",
            "_model_module_version": "1.2.0",
            "_model_name": "LayoutModel",
            "_view_count": null,
            "_view_module": "@jupyter-widgets/base",
            "_view_module_version": "1.2.0",
            "_view_name": "LayoutView",
            "align_content": null,
            "align_items": null,
            "align_self": null,
            "border": null,
            "bottom": null,
            "display": null,
            "flex": null,
            "flex_flow": null,
            "grid_area": null,
            "grid_auto_columns": null,
            "grid_auto_flow": null,
            "grid_auto_rows": null,
            "grid_column": null,
            "grid_gap": null,
            "grid_row": null,
            "grid_template_areas": null,
            "grid_template_columns": null,
            "grid_template_rows": null,
            "height": null,
            "justify_content": null,
            "justify_items": null,
            "left": null,
            "margin": null,
            "max_height": null,
            "max_width": null,
            "min_height": null,
            "min_width": null,
            "object_fit": null,
            "object_position": null,
            "order": null,
            "overflow": null,
            "overflow_x": null,
            "overflow_y": null,
            "padding": null,
            "right": null,
            "top": null,
            "visibility": null,
            "width": null
          }
        },
        "c9fe0965dc574191b465b34776678d8c": {
          "model_module": "@jupyter-widgets/controls",
          "model_name": "ProgressStyleModel",
          "model_module_version": "1.5.0",
          "state": {
            "_model_module": "@jupyter-widgets/controls",
            "_model_module_version": "1.5.0",
            "_model_name": "ProgressStyleModel",
            "_view_count": null,
            "_view_module": "@jupyter-widgets/base",
            "_view_module_version": "1.2.0",
            "_view_name": "StyleView",
            "bar_color": null,
            "description_width": ""
          }
        },
        "849f82b7d6684da7ae9895a947074744": {
          "model_module": "@jupyter-widgets/base",
          "model_name": "LayoutModel",
          "model_module_version": "1.2.0",
          "state": {
            "_model_module": "@jupyter-widgets/base",
            "_model_module_version": "1.2.0",
            "_model_name": "LayoutModel",
            "_view_count": null,
            "_view_module": "@jupyter-widgets/base",
            "_view_module_version": "1.2.0",
            "_view_name": "LayoutView",
            "align_content": null,
            "align_items": null,
            "align_self": null,
            "border": null,
            "bottom": null,
            "display": null,
            "flex": null,
            "flex_flow": null,
            "grid_area": null,
            "grid_auto_columns": null,
            "grid_auto_flow": null,
            "grid_auto_rows": null,
            "grid_column": null,
            "grid_gap": null,
            "grid_row": null,
            "grid_template_areas": null,
            "grid_template_columns": null,
            "grid_template_rows": null,
            "height": null,
            "justify_content": null,
            "justify_items": null,
            "left": null,
            "margin": null,
            "max_height": null,
            "max_width": null,
            "min_height": null,
            "min_width": null,
            "object_fit": null,
            "object_position": null,
            "order": null,
            "overflow": null,
            "overflow_x": null,
            "overflow_y": null,
            "padding": null,
            "right": null,
            "top": null,
            "visibility": null,
            "width": null
          }
        },
        "072b8a16af024b04a949f7f8c1a68c2b": {
          "model_module": "@jupyter-widgets/controls",
          "model_name": "DescriptionStyleModel",
          "model_module_version": "1.5.0",
          "state": {
            "_model_module": "@jupyter-widgets/controls",
            "_model_module_version": "1.5.0",
            "_model_name": "DescriptionStyleModel",
            "_view_count": null,
            "_view_module": "@jupyter-widgets/base",
            "_view_module_version": "1.2.0",
            "_view_name": "StyleView",
            "description_width": ""
          }
        },
        "7beb4489b72f404e97fe63672e8e2ebe": {
          "model_module": "@jupyter-widgets/controls",
          "model_name": "HBoxModel",
          "model_module_version": "1.5.0",
          "state": {
            "_dom_classes": [],
            "_model_module": "@jupyter-widgets/controls",
            "_model_module_version": "1.5.0",
            "_model_name": "HBoxModel",
            "_view_count": null,
            "_view_module": "@jupyter-widgets/controls",
            "_view_module_version": "1.5.0",
            "_view_name": "HBoxView",
            "box_style": "",
            "children": [
              "IPY_MODEL_d7facf2b240540b2a670001c394f7e6e",
              "IPY_MODEL_781d15ca53c64b2baf12f72fa07a19fa",
              "IPY_MODEL_861d232ec23547208677a9e3423a2a0b"
            ],
            "layout": "IPY_MODEL_1720abeaf4234e1cab7e01f828db9e18"
          }
        },
        "d7facf2b240540b2a670001c394f7e6e": {
          "model_module": "@jupyter-widgets/controls",
          "model_name": "HTMLModel",
          "model_module_version": "1.5.0",
          "state": {
            "_dom_classes": [],
            "_model_module": "@jupyter-widgets/controls",
            "_model_module_version": "1.5.0",
            "_model_name": "HTMLModel",
            "_view_count": null,
            "_view_module": "@jupyter-widgets/controls",
            "_view_module_version": "1.5.0",
            "_view_name": "HTMLView",
            "description": "",
            "description_tooltip": null,
            "layout": "IPY_MODEL_91c2c00fbda1477385b9d6e7b6046db4",
            "placeholder": "​",
            "style": "IPY_MODEL_3962746faacd41a8ac67ad9b1a57a36d",
            "value": "Downloading: 100%"
          }
        },
        "781d15ca53c64b2baf12f72fa07a19fa": {
          "model_module": "@jupyter-widgets/controls",
          "model_name": "FloatProgressModel",
          "model_module_version": "1.5.0",
          "state": {
            "_dom_classes": [],
            "_model_module": "@jupyter-widgets/controls",
            "_model_module_version": "1.5.0",
            "_model_name": "FloatProgressModel",
            "_view_count": null,
            "_view_module": "@jupyter-widgets/controls",
            "_view_module_version": "1.5.0",
            "_view_name": "ProgressView",
            "bar_style": "success",
            "description": "",
            "description_tooltip": null,
            "layout": "IPY_MODEL_c380601a611a41c4ba859f9e81c0be18",
            "max": 213450,
            "min": 0,
            "orientation": "horizontal",
            "style": "IPY_MODEL_eacad05b822540bd985741571b470c73",
            "value": 213450
          }
        },
        "861d232ec23547208677a9e3423a2a0b": {
          "model_module": "@jupyter-widgets/controls",
          "model_name": "HTMLModel",
          "model_module_version": "1.5.0",
          "state": {
            "_dom_classes": [],
            "_model_module": "@jupyter-widgets/controls",
            "_model_module_version": "1.5.0",
            "_model_name": "HTMLModel",
            "_view_count": null,
            "_view_module": "@jupyter-widgets/controls",
            "_view_module_version": "1.5.0",
            "_view_name": "HTMLView",
            "description": "",
            "description_tooltip": null,
            "layout": "IPY_MODEL_6e728ae973054be7932a8292494f8053",
            "placeholder": "​",
            "style": "IPY_MODEL_a95851d83bf2426ab910b54845a503e3",
            "value": " 208k/208k [00:00&lt;00:00, 187kB/s]"
          }
        },
        "1720abeaf4234e1cab7e01f828db9e18": {
          "model_module": "@jupyter-widgets/base",
          "model_name": "LayoutModel",
          "model_module_version": "1.2.0",
          "state": {
            "_model_module": "@jupyter-widgets/base",
            "_model_module_version": "1.2.0",
            "_model_name": "LayoutModel",
            "_view_count": null,
            "_view_module": "@jupyter-widgets/base",
            "_view_module_version": "1.2.0",
            "_view_name": "LayoutView",
            "align_content": null,
            "align_items": null,
            "align_self": null,
            "border": null,
            "bottom": null,
            "display": null,
            "flex": null,
            "flex_flow": null,
            "grid_area": null,
            "grid_auto_columns": null,
            "grid_auto_flow": null,
            "grid_auto_rows": null,
            "grid_column": null,
            "grid_gap": null,
            "grid_row": null,
            "grid_template_areas": null,
            "grid_template_columns": null,
            "grid_template_rows": null,
            "height": null,
            "justify_content": null,
            "justify_items": null,
            "left": null,
            "margin": null,
            "max_height": null,
            "max_width": null,
            "min_height": null,
            "min_width": null,
            "object_fit": null,
            "object_position": null,
            "order": null,
            "overflow": null,
            "overflow_x": null,
            "overflow_y": null,
            "padding": null,
            "right": null,
            "top": null,
            "visibility": null,
            "width": null
          }
        },
        "91c2c00fbda1477385b9d6e7b6046db4": {
          "model_module": "@jupyter-widgets/base",
          "model_name": "LayoutModel",
          "model_module_version": "1.2.0",
          "state": {
            "_model_module": "@jupyter-widgets/base",
            "_model_module_version": "1.2.0",
            "_model_name": "LayoutModel",
            "_view_count": null,
            "_view_module": "@jupyter-widgets/base",
            "_view_module_version": "1.2.0",
            "_view_name": "LayoutView",
            "align_content": null,
            "align_items": null,
            "align_self": null,
            "border": null,
            "bottom": null,
            "display": null,
            "flex": null,
            "flex_flow": null,
            "grid_area": null,
            "grid_auto_columns": null,
            "grid_auto_flow": null,
            "grid_auto_rows": null,
            "grid_column": null,
            "grid_gap": null,
            "grid_row": null,
            "grid_template_areas": null,
            "grid_template_columns": null,
            "grid_template_rows": null,
            "height": null,
            "justify_content": null,
            "justify_items": null,
            "left": null,
            "margin": null,
            "max_height": null,
            "max_width": null,
            "min_height": null,
            "min_width": null,
            "object_fit": null,
            "object_position": null,
            "order": null,
            "overflow": null,
            "overflow_x": null,
            "overflow_y": null,
            "padding": null,
            "right": null,
            "top": null,
            "visibility": null,
            "width": null
          }
        },
        "3962746faacd41a8ac67ad9b1a57a36d": {
          "model_module": "@jupyter-widgets/controls",
          "model_name": "DescriptionStyleModel",
          "model_module_version": "1.5.0",
          "state": {
            "_model_module": "@jupyter-widgets/controls",
            "_model_module_version": "1.5.0",
            "_model_name": "DescriptionStyleModel",
            "_view_count": null,
            "_view_module": "@jupyter-widgets/base",
            "_view_module_version": "1.2.0",
            "_view_name": "StyleView",
            "description_width": ""
          }
        },
        "c380601a611a41c4ba859f9e81c0be18": {
          "model_module": "@jupyter-widgets/base",
          "model_name": "LayoutModel",
          "model_module_version": "1.2.0",
          "state": {
            "_model_module": "@jupyter-widgets/base",
            "_model_module_version": "1.2.0",
            "_model_name": "LayoutModel",
            "_view_count": null,
            "_view_module": "@jupyter-widgets/base",
            "_view_module_version": "1.2.0",
            "_view_name": "LayoutView",
            "align_content": null,
            "align_items": null,
            "align_self": null,
            "border": null,
            "bottom": null,
            "display": null,
            "flex": null,
            "flex_flow": null,
            "grid_area": null,
            "grid_auto_columns": null,
            "grid_auto_flow": null,
            "grid_auto_rows": null,
            "grid_column": null,
            "grid_gap": null,
            "grid_row": null,
            "grid_template_areas": null,
            "grid_template_columns": null,
            "grid_template_rows": null,
            "height": null,
            "justify_content": null,
            "justify_items": null,
            "left": null,
            "margin": null,
            "max_height": null,
            "max_width": null,
            "min_height": null,
            "min_width": null,
            "object_fit": null,
            "object_position": null,
            "order": null,
            "overflow": null,
            "overflow_x": null,
            "overflow_y": null,
            "padding": null,
            "right": null,
            "top": null,
            "visibility": null,
            "width": null
          }
        },
        "eacad05b822540bd985741571b470c73": {
          "model_module": "@jupyter-widgets/controls",
          "model_name": "ProgressStyleModel",
          "model_module_version": "1.5.0",
          "state": {
            "_model_module": "@jupyter-widgets/controls",
            "_model_module_version": "1.5.0",
            "_model_name": "ProgressStyleModel",
            "_view_count": null,
            "_view_module": "@jupyter-widgets/base",
            "_view_module_version": "1.2.0",
            "_view_name": "StyleView",
            "bar_color": null,
            "description_width": ""
          }
        },
        "6e728ae973054be7932a8292494f8053": {
          "model_module": "@jupyter-widgets/base",
          "model_name": "LayoutModel",
          "model_module_version": "1.2.0",
          "state": {
            "_model_module": "@jupyter-widgets/base",
            "_model_module_version": "1.2.0",
            "_model_name": "LayoutModel",
            "_view_count": null,
            "_view_module": "@jupyter-widgets/base",
            "_view_module_version": "1.2.0",
            "_view_name": "LayoutView",
            "align_content": null,
            "align_items": null,
            "align_self": null,
            "border": null,
            "bottom": null,
            "display": null,
            "flex": null,
            "flex_flow": null,
            "grid_area": null,
            "grid_auto_columns": null,
            "grid_auto_flow": null,
            "grid_auto_rows": null,
            "grid_column": null,
            "grid_gap": null,
            "grid_row": null,
            "grid_template_areas": null,
            "grid_template_columns": null,
            "grid_template_rows": null,
            "height": null,
            "justify_content": null,
            "justify_items": null,
            "left": null,
            "margin": null,
            "max_height": null,
            "max_width": null,
            "min_height": null,
            "min_width": null,
            "object_fit": null,
            "object_position": null,
            "order": null,
            "overflow": null,
            "overflow_x": null,
            "overflow_y": null,
            "padding": null,
            "right": null,
            "top": null,
            "visibility": null,
            "width": null
          }
        },
        "a95851d83bf2426ab910b54845a503e3": {
          "model_module": "@jupyter-widgets/controls",
          "model_name": "DescriptionStyleModel",
          "model_module_version": "1.5.0",
          "state": {
            "_model_module": "@jupyter-widgets/controls",
            "_model_module_version": "1.5.0",
            "_model_name": "DescriptionStyleModel",
            "_view_count": null,
            "_view_module": "@jupyter-widgets/base",
            "_view_module_version": "1.2.0",
            "_view_name": "StyleView",
            "description_width": ""
          }
        }
      }
    }
  },
  "cells": [
    {
      "cell_type": "markdown",
      "source": [
        "# NLP with Transformers\n",
        "\n",
        "In the implementation part of assignment, we will evaluate Transformer models on text classification, e.g. sentiment analysis of IMDB reviews. **A large number of bonus points** can be obtained by further evaluating Transformer models on: \n",
        "\n",
        "\n",
        "*   Text classification: sentiment analysis of Rotten Tomatoes reviews.\n",
        "*   Token classification: named entity recognition of CoNLL text.\n",
        "*   Zero-shot classification: text classification into arbitrary categories with textual names.\n",
        "\n",
        "## Google Colab\n",
        "\n",
        "While the code in this notebook can be run locally on a powerful machine, it is highly recommended that the notebook is run on the GPU infrastructure availabe for free through [Google's Colab](https://colab.research.google.com/). To load the notebook in Colab:\n",
        "\n",
        "\n",
        "1.   Point your browser to https://colab.research.google.com/\n",
        "2.   If a pop-up window opens, click on the Upload button and select this notebook file `code/skeleton/Transformers Rule.ipynb`) from the homework folder.\n",
        "3.   Alternatively, in the notebook window menu clik File -> Open notebook and load the same notebook file.\n",
        "\n",
        "## 🤗 HuggingFace Transformers\n",
        "\n",
        "To complete that tasks in this assignment, we will use lightweight (DistilBERT) pretrained Transformer models and the corresponding high-level API from the open source repository of the [HuggingFace](https://huggingface.co/docs/transformers/index) platform. If you are interested in learning how to use the API and the datasets, it is recommended that you go through the relevant sections in the HuggingFace [course on Transformers](https://huggingface.co/course/chapter1/1), which are linked from each portion in the assignment below.\n",
        "\n",
        "While going through the HuggingFace course is highly recommended, it is not strictly necessary: this assignment can be completed by writing only Python code, without knowledge of the Transformers API. For this, you may be able to also reuse code that you have written in previous assignments.\n",
        "\n",
        "You do not need a HuggingFace account to work on this assignment.\n",
        "\n",
        "\n",
        "  "
      ],
      "metadata": {
        "id": "GTv9k5MPJOff"
      }
    },
    {
      "cell_type": "markdown",
      "source": [
        "## Name: Naimisha Churi"
      ],
      "metadata": {
        "id": "g7YTRN_uQ336"
      }
    },
    {
      "cell_type": "markdown",
      "source": [
        "# <font color=\"blue\"> Submission Instructions</font>\n",
        "\n",
        "## Google Colab (recommended):\n",
        "\n",
        "1. Click the File -> Save in the menu at the top of the Jupyter Notebook.\n",
        "2. Please make sure to have entered your name above.\n",
        "3. Select Edit -> Clear all outputs. This will clear all the outputs from all cells (but will keep the content of all cells). \n",
        "4. Select Runtime -> Run all. This will run all the cells in order, and will take less than half hour for the sentiment analysis part.\n",
        "5. Once you've rerun everything, select File -> Download -> Download .ipynb and download the notebook file showing the code and the output of all cells, and save it in the subfolder `code/complete/`.\n",
        "6. Also save a PDF version of the notebook by selecting File -> Print, select Print as PDF, and Save it as `code/complete/TransformersRule.pdf`\n",
        "7. Look at the PDF file and make sure all your solutions and outputs are there, displayed correctly.\n",
        "7. Submit **both** your PDF and the notebook .ipynb file on Canvas. Make sure the PDF and notebook show the outputs of the training and evaluation procedures. Also upload any extra datasets that you used for bonus points by placing them in the `data/` folder (alternatively the notebook can show the web addresses from where the datasets are uploaded in Colab in your code).\n",
        "8. Verify your Canvas submission contains the correct files by downloading them after posting them on Canvas.\n",
        "\n",
        "\n",
        "## Local computer (only for powerful machines):\n",
        "\n",
        "1. Click the Save button at the top of the Jupyter Notebook.\n",
        "2. Please make sure to have entered your name above.\n",
        "3. Select Cell -> All Output -> Clear. This will clear all the outputs from all cells (but will keep the content of ll cells). \n",
        "4. Select Cell -> Run All. This will run all the cells in order, and will take several minutes.\n",
        "5. Once you've rerun everything, select File -> Download as -> PDF via LaTeX and download a PDF version *TransformersRule.pdf* showing the code and the output of all cells, and save it in the same folder that contains the notebook file *TransformersRule.ipynb*.\n",
        "6. Look at the PDF file and make sure all your solutions are there, displayed correctly.\n",
        "7. Submit **both** your PDF and notebook on Canvas. Make sure the PDF and notebook show the outputs of the training and evaluation procedures. Also upload any extra datasets that you used for bonus points by placing them in the `data/` folder.\n",
        "8. Verify your Canvas submission contains the correct files by downloading them after posting them on Canvas."
      ],
      "metadata": {
        "id": "2fC6tDqUQ57c"
      }
    },
    {
      "cell_type": "markdown",
      "source": [
        "# Theory\n",
        "\n",
        "## Named Entity Recognition\n",
        "\n",
        "Provide BIO-style and chunk-level annotation of the named entities (Person, Place, Organization, Date, or Product) in the following sentences:\n",
        "\n",
        "\n",
        "1.   The third mate was Flask, a native of Tisbury, in Martha’s Vineyard.\n",
        "2.   Its official Nintendo announced today that they Will release the Nintendo\n",
        "3DS in north America march 27.\n",
        "3.   Jessica Reif, a media analyst at Merrill Lynch & Co., said, \"If they can\n",
        "get up and running with exclusive programming within six months, it\n",
        "doesn't set the venture back that far.\"\n",
        "\n",
        "Also tag the examples above using the HuggingFace named entity recognition\n",
        "tagger (starter code provided in the implementation section on NER) and compare against your manual annotation:\n",
        "\n",
        "\n",
        "1.   Show your manually annotated named entities (labeled chunks) and the predicted named entities (labeled chuncks). Do the predicted entities match your annotations?\n",
        "2.   Compute chunk-level Precision, REcall, and F1 measure, as described in homework 7, assuming your annotations are correct (the ground truth).\n",
        "\n",
        "\n",
        "\n",
        "\n"
      ],
      "metadata": {
        "id": "7-AjDmJmALrj"
      }
    },
    {
      "cell_type": "markdown",
      "source": [
        "YOUR SOLUTION HERE <br>\n",
        "1)\n",
        "1. O O O O B-PER O O O B-LOC O B-PER B-LOC\n",
        "2. O O B-ORG O B-DAT O O O O O B-PRD I-PRD O B-LOC I-LOC B-DAT I-DAT\n",
        "3. B-PER I-PER O O O O B-ORG I-ORG I-ORG I-ORG O O O O O O O O O O O O O O O O O O O O O.\n",
        "\n",
        "2)\n",
        "<table>\n",
        "    <tbody>\n",
        "        <tr><td>Performance Measures</td><td>LOC</td><td>ORG</td><td>PROD</td><td>PER</td><td>DATE</td></tr>\n",
        "        <tr><td>Precission</td><td>75</td><td>100</td><td>0</td><td>100</td><td>0</td></tr>\n",
        "        <tr><td>Recall</td><td>75</td><td>100</td><td>0</td><td>75</td><td>0</td></tr>\n",
        "<tr><td>F1</td><td>75</td><td>100</td><td>0</td><td>85.71</td><td>0</td></tr>\n",
        "    </tbody>\n",
        "</table>\n"
      ],
      "metadata": {
        "id": "APRNgo3TG4Mb"
      }
    },
    {
      "cell_type": "markdown",
      "source": [
        "## Language Models and Perplexity\n",
        "\n",
        "Consider a bigram language model LM according to which p(Time) = 0.03, p(flies | time) = 0.01, p(like | flies) = 0.04 p(an | like) = 0.05 p(arrow | an) = 0.1.\n",
        "\n",
        "\n",
        "1.   What is the *probability* of the sentence \"Time flies like an arrow\" according to this LM?\n",
        "2.   What is the *perplexity* that this LM obtains when evaluated on the sentence \"Time flies like an arrow\"?\n",
        "\n",
        "\n"
      ],
      "metadata": {
        "id": "cCK_sVNpEy__"
      }
    },
    {
      "cell_type": "markdown",
      "source": [
        "YOUR SOLUTION HERE: <br>\n",
        "1. p(Time) x p(flies | time) x p(like | flies) x p(an | like) x p(arrow | an) = 0.03 x 0.01 x 0.04 x 0.05 x 0.1 = 6 x 10^-8\n",
        "2. perplexity = 27.82"
      ],
      "metadata": {
        "id": "27eHn6TrG8ep"
      }
    },
    {
      "cell_type": "markdown",
      "source": [
        "# Implementation using HuggingFace Transformers"
      ],
      "metadata": {
        "id": "liXFfESDHkjS"
      }
    },
    {
      "cell_type": "code",
      "source": [
        "# Install HuggingFace Transformers API modules.\n",
        "!pip install transformers[sentencepiece]\n",
        "\n",
        "# Install HuggingFace Datasets API modules.\n",
        "!pip install datasets"
      ],
      "metadata": {
        "id": "pTbZ9wgPFsw9",
        "colab": {
          "base_uri": "https://localhost:8080/"
        },
        "outputId": "bd384fbd-0330-42d6-ceb0-abf5e6316e6e"
      },
      "execution_count": 1,
      "outputs": [
        {
          "output_type": "stream",
          "name": "stdout",
          "text": [
            "Requirement already satisfied: transformers[sentencepiece] in /usr/local/lib/python3.7/dist-packages (4.18.0)\n",
            "Requirement already satisfied: tokenizers!=0.11.3,<0.13,>=0.11.1 in /usr/local/lib/python3.7/dist-packages (from transformers[sentencepiece]) (0.12.1)\n",
            "Requirement already satisfied: tqdm>=4.27 in /usr/local/lib/python3.7/dist-packages (from transformers[sentencepiece]) (4.64.0)\n",
            "Requirement already satisfied: pyyaml>=5.1 in /usr/local/lib/python3.7/dist-packages (from transformers[sentencepiece]) (6.0)\n",
            "Requirement already satisfied: filelock in /usr/local/lib/python3.7/dist-packages (from transformers[sentencepiece]) (3.6.0)\n",
            "Requirement already satisfied: regex!=2019.12.17 in /usr/local/lib/python3.7/dist-packages (from transformers[sentencepiece]) (2019.12.20)\n",
            "Requirement already satisfied: packaging>=20.0 in /usr/local/lib/python3.7/dist-packages (from transformers[sentencepiece]) (21.3)\n",
            "Requirement already satisfied: huggingface-hub<1.0,>=0.1.0 in /usr/local/lib/python3.7/dist-packages (from transformers[sentencepiece]) (0.5.1)\n",
            "Requirement already satisfied: numpy>=1.17 in /usr/local/lib/python3.7/dist-packages (from transformers[sentencepiece]) (1.21.6)\n",
            "Requirement already satisfied: requests in /usr/local/lib/python3.7/dist-packages (from transformers[sentencepiece]) (2.23.0)\n",
            "Requirement already satisfied: importlib-metadata in /usr/local/lib/python3.7/dist-packages (from transformers[sentencepiece]) (4.11.3)\n",
            "Requirement already satisfied: sacremoses in /usr/local/lib/python3.7/dist-packages (from transformers[sentencepiece]) (0.0.50)\n",
            "Requirement already satisfied: protobuf in /usr/local/lib/python3.7/dist-packages (from transformers[sentencepiece]) (3.17.3)\n",
            "Requirement already satisfied: sentencepiece!=0.1.92,>=0.1.91 in /usr/local/lib/python3.7/dist-packages (from transformers[sentencepiece]) (0.1.96)\n",
            "Requirement already satisfied: typing-extensions>=3.7.4.3 in /usr/local/lib/python3.7/dist-packages (from huggingface-hub<1.0,>=0.1.0->transformers[sentencepiece]) (4.2.0)\n",
            "Requirement already satisfied: pyparsing!=3.0.5,>=2.0.2 in /usr/local/lib/python3.7/dist-packages (from packaging>=20.0->transformers[sentencepiece]) (3.0.8)\n",
            "Requirement already satisfied: zipp>=0.5 in /usr/local/lib/python3.7/dist-packages (from importlib-metadata->transformers[sentencepiece]) (3.8.0)\n",
            "Requirement already satisfied: six>=1.9 in /usr/local/lib/python3.7/dist-packages (from protobuf->transformers[sentencepiece]) (1.15.0)\n",
            "Requirement already satisfied: chardet<4,>=3.0.2 in /usr/local/lib/python3.7/dist-packages (from requests->transformers[sentencepiece]) (3.0.4)\n",
            "Requirement already satisfied: urllib3!=1.25.0,!=1.25.1,<1.26,>=1.21.1 in /usr/local/lib/python3.7/dist-packages (from requests->transformers[sentencepiece]) (1.25.11)\n",
            "Requirement already satisfied: certifi>=2017.4.17 in /usr/local/lib/python3.7/dist-packages (from requests->transformers[sentencepiece]) (2021.10.8)\n",
            "Requirement already satisfied: idna<3,>=2.5 in /usr/local/lib/python3.7/dist-packages (from requests->transformers[sentencepiece]) (2.10)\n",
            "Requirement already satisfied: joblib in /usr/local/lib/python3.7/dist-packages (from sacremoses->transformers[sentencepiece]) (1.1.0)\n",
            "Requirement already satisfied: click==8.0 in /usr/local/lib/python3.7/dist-packages (from sacremoses->transformers[sentencepiece]) (8.0.0)\n",
            "Requirement already satisfied: datasets in /usr/local/lib/python3.7/dist-packages (2.1.0)\n",
            "Requirement already satisfied: tqdm>=4.62.1 in /usr/local/lib/python3.7/dist-packages (from datasets) (4.64.0)\n",
            "Requirement already satisfied: pandas in /usr/local/lib/python3.7/dist-packages (from datasets) (1.3.5)\n",
            "Requirement already satisfied: numpy>=1.17 in /usr/local/lib/python3.7/dist-packages (from datasets) (1.21.6)\n",
            "Requirement already satisfied: responses<0.19 in /usr/local/lib/python3.7/dist-packages (from datasets) (0.18.0)\n",
            "Requirement already satisfied: xxhash in /usr/local/lib/python3.7/dist-packages (from datasets) (3.0.0)\n",
            "Requirement already satisfied: multiprocess in /usr/local/lib/python3.7/dist-packages (from datasets) (0.70.12.2)\n",
            "Requirement already satisfied: aiohttp in /usr/local/lib/python3.7/dist-packages (from datasets) (3.8.1)\n",
            "Requirement already satisfied: dill in /usr/local/lib/python3.7/dist-packages (from datasets) (0.3.4)\n",
            "Requirement already satisfied: packaging in /usr/local/lib/python3.7/dist-packages (from datasets) (21.3)\n",
            "Requirement already satisfied: requests>=2.19.0 in /usr/local/lib/python3.7/dist-packages (from datasets) (2.23.0)\n",
            "Requirement already satisfied: pyarrow>=5.0.0 in /usr/local/lib/python3.7/dist-packages (from datasets) (6.0.1)\n",
            "Requirement already satisfied: importlib-metadata in /usr/local/lib/python3.7/dist-packages (from datasets) (4.11.3)\n",
            "Requirement already satisfied: huggingface-hub<1.0.0,>=0.1.0 in /usr/local/lib/python3.7/dist-packages (from datasets) (0.5.1)\n",
            "Requirement already satisfied: fsspec[http]>=2021.05.0 in /usr/local/lib/python3.7/dist-packages (from datasets) (2022.3.0)\n",
            "Requirement already satisfied: filelock in /usr/local/lib/python3.7/dist-packages (from huggingface-hub<1.0.0,>=0.1.0->datasets) (3.6.0)\n",
            "Requirement already satisfied: pyyaml in /usr/local/lib/python3.7/dist-packages (from huggingface-hub<1.0.0,>=0.1.0->datasets) (6.0)\n",
            "Requirement already satisfied: typing-extensions>=3.7.4.3 in /usr/local/lib/python3.7/dist-packages (from huggingface-hub<1.0.0,>=0.1.0->datasets) (4.2.0)\n",
            "Requirement already satisfied: pyparsing!=3.0.5,>=2.0.2 in /usr/local/lib/python3.7/dist-packages (from packaging->datasets) (3.0.8)\n",
            "Requirement already satisfied: chardet<4,>=3.0.2 in /usr/local/lib/python3.7/dist-packages (from requests>=2.19.0->datasets) (3.0.4)\n",
            "Requirement already satisfied: certifi>=2017.4.17 in /usr/local/lib/python3.7/dist-packages (from requests>=2.19.0->datasets) (2021.10.8)\n",
            "Requirement already satisfied: urllib3!=1.25.0,!=1.25.1,<1.26,>=1.21.1 in /usr/local/lib/python3.7/dist-packages (from requests>=2.19.0->datasets) (1.25.11)\n",
            "Requirement already satisfied: idna<3,>=2.5 in /usr/local/lib/python3.7/dist-packages (from requests>=2.19.0->datasets) (2.10)\n",
            "Requirement already satisfied: yarl<2.0,>=1.0 in /usr/local/lib/python3.7/dist-packages (from aiohttp->datasets) (1.7.2)\n",
            "Requirement already satisfied: attrs>=17.3.0 in /usr/local/lib/python3.7/dist-packages (from aiohttp->datasets) (21.4.0)\n",
            "Requirement already satisfied: aiosignal>=1.1.2 in /usr/local/lib/python3.7/dist-packages (from aiohttp->datasets) (1.2.0)\n",
            "Requirement already satisfied: frozenlist>=1.1.1 in /usr/local/lib/python3.7/dist-packages (from aiohttp->datasets) (1.3.0)\n",
            "Requirement already satisfied: async-timeout<5.0,>=4.0.0a3 in /usr/local/lib/python3.7/dist-packages (from aiohttp->datasets) (4.0.2)\n",
            "Requirement already satisfied: multidict<7.0,>=4.5 in /usr/local/lib/python3.7/dist-packages (from aiohttp->datasets) (6.0.2)\n",
            "Requirement already satisfied: asynctest==0.13.0 in /usr/local/lib/python3.7/dist-packages (from aiohttp->datasets) (0.13.0)\n",
            "Requirement already satisfied: charset-normalizer<3.0,>=2.0 in /usr/local/lib/python3.7/dist-packages (from aiohttp->datasets) (2.0.12)\n",
            "Requirement already satisfied: zipp>=0.5 in /usr/local/lib/python3.7/dist-packages (from importlib-metadata->datasets) (3.8.0)\n",
            "Requirement already satisfied: python-dateutil>=2.7.3 in /usr/local/lib/python3.7/dist-packages (from pandas->datasets) (2.8.2)\n",
            "Requirement already satisfied: pytz>=2017.3 in /usr/local/lib/python3.7/dist-packages (from pandas->datasets) (2022.1)\n",
            "Requirement already satisfied: six>=1.5 in /usr/local/lib/python3.7/dist-packages (from python-dateutil>=2.7.3->pandas->datasets) (1.15.0)\n"
          ]
        }
      ]
    },
    {
      "cell_type": "markdown",
      "source": [
        "The most basic object in the Transformers library is the pipeline() function. It connects a model with its necessary preprocessing and postprocessing steps, allowing us to directly input any text and get an intelligible answer. More details are here:  \n",
        "https://huggingface.co/course/chapter1/3?fw=pt"
      ],
      "metadata": {
        "id": "qThfkOAmafuj"
      }
    },
    {
      "cell_type": "code",
      "source": [
        "from transformers import pipeline\n",
        "\n",
        "classifier = pipeline(\"sentiment-analysis\")\n",
        "\n",
        "# Process just one document. Note that, although the document string is split on multiple lines, this is still just one string object.\n",
        "output = classifier(\"The most merciful thing in the world, I think, is the inability of the human mind to correlate all its contents. \"\n",
        "                    \"We live on a placid island of ignorance in the midst of black seas of infinity, and it was not meant that we should voyage far. \"\n",
        "                    \"The sciences, each straining in its own direction, have hitherto harmed us little; but some day the piecing together of \"\n",
        "                    \"dissociated knowledge will open up such terrifying vistas of reality, and of our frightful position therein, that we shall \"\n",
        "                    \"either go mad from the revelation or flee from the light into the peace and safety of a new dark age.\")\n",
        "print(output)\n",
        "\n",
        "# Process a batch of documents.\n",
        "output = classifier([\"I've been waiting for a HuggingFace course my whole life.\", \n",
        "                     \"The spirit is willing, but the flesh is weak.\",\n",
        "                     \"It might and does take until the last scene to do so, but every plot thread is sewn-up, and there isn't a clue doled out along the way that doesn't make sense or fit into the final puzzle. Its as close to perfect as a screenplay can get.\",\n",
        "                     \"The cast is great, the plot is quite ingenious and the runtime is nothing too overbearing.\",\n",
        "                     \"This film was filmed in France.\",\n",
        "                     \"This film was filmed in Afghanistan.\"])\n",
        "print(output)"
      ],
      "metadata": {
        "id": "lIez-GT6F24g",
        "colab": {
          "base_uri": "https://localhost:8080/"
        },
        "outputId": "e332a28b-3107-465a-ea7f-9b9eedb9f783"
      },
      "execution_count": 2,
      "outputs": [
        {
          "output_type": "stream",
          "name": "stderr",
          "text": [
            "No model was supplied, defaulted to distilbert-base-uncased-finetuned-sst-2-english (https://huggingface.co/distilbert-base-uncased-finetuned-sst-2-english)\n"
          ]
        },
        {
          "output_type": "stream",
          "name": "stdout",
          "text": [
            "[{'label': 'NEGATIVE', 'score': 0.6746031641960144}]\n",
            "[{'label': 'POSITIVE', 'score': 0.9598048329353333}, {'label': 'NEGATIVE', 'score': 0.983283519744873}, {'label': 'NEGATIVE', 'score': 0.9997618794441223}, {'label': 'POSITIVE', 'score': 0.9980607628822327}, {'label': 'POSITIVE', 'score': 0.9652075171470642}, {'label': 'NEGATIVE', 'score': 0.8350331783294678}]\n"
          ]
        }
      ]
    },
    {
      "cell_type": "markdown",
      "source": [
        "# Sentiment Analysis of IMDB Reviews\n",
        "\n",
        "In this part of the assignment, we evaluate the performance of DistilBERT (the default Transformer) on the development portion of the IMDB reviews dataset, and compare it against the performance of Logistic Regression and RNNs from previous assignments."
      ],
      "metadata": {
        "id": "NGWKjY8w6JMV"
      }
    },
    {
      "cell_type": "markdown",
      "source": [
        "## Working with Datasets in Colab and HuggingFace\n",
        "\n",
        "First, we need to load the IMDB Reviews dataset. HuggingFace already provide a large number of datasets in their [Hub](https://huggingface.co/datasets). Below we will be loading the IMDB dataset from an external source (http addresses on the course web page). More details on loading local and remote datasets are provided here:\n",
        "https://huggingface.co/course/chapter5/2?fw=pt"
      ],
      "metadata": {
        "id": "oLHqOgdSkS7y"
      }
    },
    {
      "cell_type": "code",
      "source": [
        "from datasets import load_dataset\n",
        "\n",
        "# Load the IMDB dataset. Only the development portion will be used later.\n",
        "url_train = \"https://webpages.charlotte.edu/rbunescu/courses/itcs4111/hw09/imdb/train.txt\"\n",
        "url_test = \"https://webpages.charlotte.edu/rbunescu/courses/itcs4111/hw09/imdb/test.txt\"\n",
        "url_dev = \"https://webpages.charlotte.edu/rbunescu/courses/itcs4111/hw09/imdb/dev.txt\"\n",
        "\n",
        "data_files = {\"train\": url_train, \"test\": url_test, \"dev\": url_dev}\n",
        "dataset = load_dataset('text', data_files = data_files)\n",
        "dataset"
      ],
      "metadata": {
        "id": "PYDp6japHDBy",
        "colab": {
          "base_uri": "https://localhost:8080/",
          "height": 353,
          "referenced_widgets": [
            "18ad36cb8c93473895252594ec6a3347",
            "65b0b8568a9c46b4b8e2265bc01886cc",
            "9103011ec22c4a47875be32f2bee78fa",
            "0e11eb3b36e34aaa96b4c4b6d6515911",
            "974bed82f0914612ad78a500bb671ba2",
            "fc01702208ec41ff8b0f7d96136de684",
            "fbd878f0bcb14d0ea85a86bfa0d46767",
            "f9c343be32cf497d9a862ece260baa3e",
            "debd796925e04a1e890823d138cda3c4",
            "db852ddfebe74c93b514b1375572cb06",
            "d104755a4fe64e05a09f0957e52ea688"
          ]
        },
        "outputId": "4cb12daf-8588-48d4-bbec-540519bfc308"
      },
      "execution_count": 3,
      "outputs": [
        {
          "output_type": "stream",
          "name": "stderr",
          "text": [
            "Using custom data configuration default-8bb77e59dbdf30f7\n",
            "Reusing dataset text (/root/.cache/huggingface/datasets/text/default-8bb77e59dbdf30f7/0.0.0/4b86d314f7236db91f0a0f5cda32d4375445e64c5eda2692655dd99c2dac68e8)\n"
          ]
        },
        {
          "output_type": "display_data",
          "data": {
            "text/plain": [
              "  0%|          | 0/3 [00:00<?, ?it/s]"
            ],
            "application/vnd.jupyter.widget-view+json": {
              "version_major": 2,
              "version_minor": 0,
              "model_id": "18ad36cb8c93473895252594ec6a3347"
            }
          },
          "metadata": {}
        },
        {
          "output_type": "execute_result",
          "data": {
            "text/plain": [
              "DatasetDict({\n",
              "    train: Dataset({\n",
              "        features: ['text'],\n",
              "        num_rows: 1500\n",
              "    })\n",
              "    test: Dataset({\n",
              "        features: ['text'],\n",
              "        num_rows: 1500\n",
              "    })\n",
              "    dev: Dataset({\n",
              "        features: ['text'],\n",
              "        num_rows: 1500\n",
              "    })\n",
              "})"
            ]
          },
          "metadata": {},
          "execution_count": 3
        }
      ]
    },
    {
      "cell_type": "markdown",
      "source": [
        "The `dataset` object is a `DatasetDict` dictionary mapping to the train, test, and dev objects of type `Dataset`. Since these were created from text files, each line in the file leads to a string example in the `Dataset` object. There are `num_rows` examples in total that can be retrieved through iterators or the usual indexing mechanism, as shown below. More powerfull mechanisms for working with datasets are shown here: https://huggingface.co/course/chapter5/3?fw=pt"
      ],
      "metadata": {
        "id": "KJjmMcLypT01"
      }
    },
    {
      "cell_type": "code",
      "source": [
        "dataset.shape"
      ],
      "metadata": {
        "colab": {
          "base_uri": "https://localhost:8080/"
        },
        "id": "Zqlwn-Y2-0NG",
        "outputId": "00552ee1-0570-470c-ce7c-cb784c00900c"
      },
      "execution_count": 4,
      "outputs": [
        {
          "output_type": "execute_result",
          "data": {
            "text/plain": [
              "{'dev': (1500, 1), 'test': (1500, 1), 'train': (1500, 1)}"
            ]
          },
          "metadata": {},
          "execution_count": 4
        }
      ]
    },
    {
      "cell_type": "code",
      "source": [
        "# Print an example from the training dataset. Note how it is represented as a dictionary, mapping one feature named 'text' to its string value.\n",
        "print(dataset['train'][5])\n",
        "\n",
        "# To get just the example string itself, the way it was stored in the file.\n",
        "print(dataset['train'][5]['text'])\n",
        "\n",
        "# Since we evaluate only on the development data, delete the train and test portions. This will reduce the memory footprint in Colab.\n",
        "del dataset['train']\n",
        "del dataset['test']\n",
        "dataset"
      ],
      "metadata": {
        "id": "uSG1Fs2BLH15",
        "colab": {
          "base_uri": "https://localhost:8080/"
        },
        "outputId": "0c0eb868-ec40-40b4-ee3f-b29e9b80590b"
      },
      "execution_count": 4,
      "outputs": [
        {
          "output_type": "stream",
          "name": "stdout",
          "text": [
            "{'text': 'pos Grey Gardens is shocking, amusing, sad and mesmerizing. I watched in amazement as Ediths Jr. and Sr. bickered and performed while reminiscing of their past. Their existence in a dilapidated mansion, (which they had not left for more than fifteen years) is both a comedy and a tragedy. This is a film you will not soon forget.'}\n",
            "pos Grey Gardens is shocking, amusing, sad and mesmerizing. I watched in amazement as Ediths Jr. and Sr. bickered and performed while reminiscing of their past. Their existence in a dilapidated mansion, (which they had not left for more than fifteen years) is both a comedy and a tragedy. This is a film you will not soon forget.\n"
          ]
        },
        {
          "output_type": "execute_result",
          "data": {
            "text/plain": [
              "DatasetDict({\n",
              "    dev: Dataset({\n",
              "        features: ['text'],\n",
              "        num_rows: 1500\n",
              "    })\n",
              "})"
            ]
          },
          "metadata": {},
          "execution_count": 4
        }
      ]
    },
    {
      "cell_type": "markdown",
      "source": [
        "### Process the development `Dataset`\n",
        "\n",
        "Write a function `read_examples(ds)` that takes a `Dataset` object as input and returns a tuple containg the list of `labels` and the corresponding list of `reviews`. A label should have value 1 if the review was labeled as positive and 0 otherwise."
      ],
      "metadata": {
        "id": "DObXl0NWtw_F"
      }
    },
    {
      "cell_type": "code",
      "source": [
        "def read_examples(ds, flag):\n",
        "  labels = []\n",
        "  reviews = []\n",
        "\n",
        "  # YOUR CODE HERE\n",
        "  if flag:\n",
        "    for d in ds:\n",
        "      label = d['text'][:3]\n",
        "      if label == 'pos':\n",
        "        labels.append(1)\n",
        "      elif label == 'neg':\n",
        "        labels.append(0)\n",
        "      reviews.append(d['text'][4:])\n",
        "  else:\n",
        "    for d in ds:\n",
        "      label = int(d['text'][0])\n",
        "      labels.append(label)\n",
        "      reviews.append(d['text'][3:])\n",
        "\n",
        "\n",
        "  return reviews, labels\n",
        "\n",
        "reviews, labels = read_examples(dataset['dev'], 1)\n",
        "\n",
        "# Since the top half of the reviews in the file are labeled as 'pos' and the bottom half are labeled as 'neg', the lines below should display\n",
        "# [1, 1, 1, 1, 1]\n",
        "# [0, 0, 0, 0, 0]\n",
        "print(labels[:5])\n",
        "print(labels[-5:])"
      ],
      "metadata": {
        "id": "zGfgcETv4zs_",
        "colab": {
          "base_uri": "https://localhost:8080/"
        },
        "outputId": "0f45255f-d70c-4d7c-c356-0dd1c289fa3f"
      },
      "execution_count": 5,
      "outputs": [
        {
          "output_type": "stream",
          "name": "stdout",
          "text": [
            "[1, 1, 1, 1, 1]\n",
            "[0, 0, 0, 0, 0]\n"
          ]
        }
      ]
    },
    {
      "cell_type": "code",
      "source": [
        "dataset['dev'][10]"
      ],
      "metadata": {
        "colab": {
          "base_uri": "https://localhost:8080/"
        },
        "id": "48fbRI2RS0Y4",
        "outputId": "712f6496-6cd9-4307-8870-fe212e1ac1c5"
      },
      "execution_count": 61,
      "outputs": [
        {
          "output_type": "execute_result",
          "data": {
            "text/plain": [
              "{'text': 'pos \"Head\" is a film that has held up well since its original release date in 1968. The movie is a complete contradiction of the Monkees image. It presents the Monkees in a way their fans never perceived them; men with real thoughts. Totally controlled by their producers, the Monkees were given the opportunity to tell their side of the story. The film pokes fun at their image, the entertainment industry, and corporate America. The soundtrack contains some of their best music. It\\'s a movie well worth seeing over and over again.'}"
            ]
          },
          "metadata": {},
          "execution_count": 61
        }
      ]
    },
    {
      "cell_type": "markdown",
      "source": [
        "## Sentiment Analysis using DistilBERT Transformer\n",
        "\n",
        "In this section, we apply the default Transformer model for sentiment classification.\n",
        "\n",
        "Simply calling the `classifier` on the list of `reviews` will not work because some reviews are longer than the maximum length of 512 that can be accomodated by DistilBERT. Even if the reviews were to be truncated, Colab may run out of memory, as the Transformer classifier tries to process all examples in parallel."
      ],
      "metadata": {
        "id": "8UtjWsXtz3b7"
      }
    },
    {
      "cell_type": "code",
      "source": [
        "# Attempt to classify all reviews, store labels in 'predictions'.\n",
        "predictions = classifier(reviews)"
      ],
      "metadata": {
        "id": "o5OMCdhZLBs1",
        "colab": {
          "base_uri": "https://localhost:8080/",
          "height": 334
        },
        "outputId": "0220dd76-a4ed-4983-9799-01ac48bc7cbb"
      },
      "execution_count": 62,
      "outputs": [
        {
          "output_type": "error",
          "ename": "RuntimeError",
          "evalue": "ignored",
          "traceback": [
            "\u001b[0;31m---------------------------------------------------------------------------\u001b[0m",
            "\u001b[0;31mRuntimeError\u001b[0m                              Traceback (most recent call last)",
            "\u001b[0;32m<ipython-input-62-060645753147>\u001b[0m in \u001b[0;36m<module>\u001b[0;34m()\u001b[0m\n\u001b[1;32m      1\u001b[0m \u001b[0;31m# Attempt to classify all reviews, store labels in 'predictions'.\u001b[0m\u001b[0;34m\u001b[0m\u001b[0;34m\u001b[0m\u001b[0;34m\u001b[0m\u001b[0m\n\u001b[0;32m----> 2\u001b[0;31m \u001b[0mpredictions\u001b[0m \u001b[0;34m=\u001b[0m \u001b[0mclassifier\u001b[0m\u001b[0;34m(\u001b[0m\u001b[0mreviews\u001b[0m\u001b[0;34m)\u001b[0m\u001b[0;34m\u001b[0m\u001b[0;34m\u001b[0m\u001b[0m\n\u001b[0m",
            "\u001b[0;32m/usr/local/lib/python3.7/dist-packages/transformers/pipelines/text_classification.py\u001b[0m in \u001b[0;36m__call__\u001b[0;34m(self, *args, **kwargs)\u001b[0m\n\u001b[1;32m    123\u001b[0m             \u001b[0mIf\u001b[0m\u001b[0;31m \u001b[0m\u001b[0;31m`\u001b[0m\u001b[0mself\u001b[0m\u001b[0;34m.\u001b[0m\u001b[0mreturn_all_scores\u001b[0m\u001b[0;34m=\u001b[0m\u001b[0;32mTrue\u001b[0m\u001b[0;31m`\u001b[0m\u001b[0;34m,\u001b[0m \u001b[0mone\u001b[0m \u001b[0msuch\u001b[0m \u001b[0mdictionary\u001b[0m \u001b[0;32mis\u001b[0m \u001b[0mreturned\u001b[0m \u001b[0mper\u001b[0m \u001b[0mlabel\u001b[0m\u001b[0;34m.\u001b[0m\u001b[0;34m\u001b[0m\u001b[0;34m\u001b[0m\u001b[0m\n\u001b[1;32m    124\u001b[0m         \"\"\"\n\u001b[0;32m--> 125\u001b[0;31m         \u001b[0mresult\u001b[0m \u001b[0;34m=\u001b[0m \u001b[0msuper\u001b[0m\u001b[0;34m(\u001b[0m\u001b[0;34m)\u001b[0m\u001b[0;34m.\u001b[0m\u001b[0m__call__\u001b[0m\u001b[0;34m(\u001b[0m\u001b[0;34m*\u001b[0m\u001b[0margs\u001b[0m\u001b[0;34m,\u001b[0m \u001b[0;34m**\u001b[0m\u001b[0mkwargs\u001b[0m\u001b[0;34m)\u001b[0m\u001b[0;34m\u001b[0m\u001b[0;34m\u001b[0m\u001b[0m\n\u001b[0m\u001b[1;32m    126\u001b[0m         \u001b[0;32mif\u001b[0m \u001b[0misinstance\u001b[0m\u001b[0;34m(\u001b[0m\u001b[0margs\u001b[0m\u001b[0;34m[\u001b[0m\u001b[0;36m0\u001b[0m\u001b[0;34m]\u001b[0m\u001b[0;34m,\u001b[0m \u001b[0mstr\u001b[0m\u001b[0;34m)\u001b[0m\u001b[0;34m:\u001b[0m\u001b[0;34m\u001b[0m\u001b[0;34m\u001b[0m\u001b[0m\n\u001b[1;32m    127\u001b[0m             \u001b[0;31m# This pipeline is odd, and return a list when single item is run\u001b[0m\u001b[0;34m\u001b[0m\u001b[0;34m\u001b[0m\u001b[0;34m\u001b[0m\u001b[0m\n",
            "\u001b[0;32m/usr/local/lib/python3.7/dist-packages/transformers/pipelines/base.py\u001b[0m in \u001b[0;36m__call__\u001b[0;34m(self, inputs, num_workers, batch_size, *args, **kwargs)\u001b[0m\n\u001b[1;32m   1013\u001b[0m                     \u001b[0minputs\u001b[0m\u001b[0;34m,\u001b[0m \u001b[0mnum_workers\u001b[0m\u001b[0;34m,\u001b[0m \u001b[0mbatch_size\u001b[0m\u001b[0;34m,\u001b[0m \u001b[0mpreprocess_params\u001b[0m\u001b[0;34m,\u001b[0m \u001b[0mforward_params\u001b[0m\u001b[0;34m,\u001b[0m \u001b[0mpostprocess_params\u001b[0m\u001b[0;34m\u001b[0m\u001b[0;34m\u001b[0m\u001b[0m\n\u001b[1;32m   1014\u001b[0m                 )\n\u001b[0;32m-> 1015\u001b[0;31m                 \u001b[0moutputs\u001b[0m \u001b[0;34m=\u001b[0m \u001b[0;34m[\u001b[0m\u001b[0moutput\u001b[0m \u001b[0;32mfor\u001b[0m \u001b[0moutput\u001b[0m \u001b[0;32min\u001b[0m \u001b[0mfinal_iterator\u001b[0m\u001b[0;34m]\u001b[0m\u001b[0;34m\u001b[0m\u001b[0;34m\u001b[0m\u001b[0m\n\u001b[0m\u001b[1;32m   1016\u001b[0m                 \u001b[0;32mreturn\u001b[0m \u001b[0moutputs\u001b[0m\u001b[0;34m\u001b[0m\u001b[0;34m\u001b[0m\u001b[0m\n\u001b[1;32m   1017\u001b[0m             \u001b[0;32melse\u001b[0m\u001b[0;34m:\u001b[0m\u001b[0;34m\u001b[0m\u001b[0;34m\u001b[0m\u001b[0m\n",
            "\u001b[0;32m/usr/local/lib/python3.7/dist-packages/transformers/pipelines/base.py\u001b[0m in \u001b[0;36m<listcomp>\u001b[0;34m(.0)\u001b[0m\n\u001b[1;32m   1013\u001b[0m                     \u001b[0minputs\u001b[0m\u001b[0;34m,\u001b[0m \u001b[0mnum_workers\u001b[0m\u001b[0;34m,\u001b[0m \u001b[0mbatch_size\u001b[0m\u001b[0;34m,\u001b[0m \u001b[0mpreprocess_params\u001b[0m\u001b[0;34m,\u001b[0m \u001b[0mforward_params\u001b[0m\u001b[0;34m,\u001b[0m \u001b[0mpostprocess_params\u001b[0m\u001b[0;34m\u001b[0m\u001b[0;34m\u001b[0m\u001b[0m\n\u001b[1;32m   1014\u001b[0m                 )\n\u001b[0;32m-> 1015\u001b[0;31m                 \u001b[0moutputs\u001b[0m \u001b[0;34m=\u001b[0m \u001b[0;34m[\u001b[0m\u001b[0moutput\u001b[0m \u001b[0;32mfor\u001b[0m \u001b[0moutput\u001b[0m \u001b[0;32min\u001b[0m \u001b[0mfinal_iterator\u001b[0m\u001b[0;34m]\u001b[0m\u001b[0;34m\u001b[0m\u001b[0;34m\u001b[0m\u001b[0m\n\u001b[0m\u001b[1;32m   1016\u001b[0m                 \u001b[0;32mreturn\u001b[0m \u001b[0moutputs\u001b[0m\u001b[0;34m\u001b[0m\u001b[0;34m\u001b[0m\u001b[0m\n\u001b[1;32m   1017\u001b[0m             \u001b[0;32melse\u001b[0m\u001b[0;34m:\u001b[0m\u001b[0;34m\u001b[0m\u001b[0;34m\u001b[0m\u001b[0m\n",
            "\u001b[0;32m/usr/local/lib/python3.7/dist-packages/transformers/pipelines/pt_utils.py\u001b[0m in \u001b[0;36m__next__\u001b[0;34m(self)\u001b[0m\n\u001b[1;32m    109\u001b[0m \u001b[0;34m\u001b[0m\u001b[0m\n\u001b[1;32m    110\u001b[0m         \u001b[0;31m# We're out of items within a batch\u001b[0m\u001b[0;34m\u001b[0m\u001b[0;34m\u001b[0m\u001b[0;34m\u001b[0m\u001b[0m\n\u001b[0;32m--> 111\u001b[0;31m         \u001b[0mitem\u001b[0m \u001b[0;34m=\u001b[0m \u001b[0mnext\u001b[0m\u001b[0;34m(\u001b[0m\u001b[0mself\u001b[0m\u001b[0;34m.\u001b[0m\u001b[0miterator\u001b[0m\u001b[0;34m)\u001b[0m\u001b[0;34m\u001b[0m\u001b[0;34m\u001b[0m\u001b[0m\n\u001b[0m\u001b[1;32m    112\u001b[0m         \u001b[0mprocessed\u001b[0m \u001b[0;34m=\u001b[0m \u001b[0mself\u001b[0m\u001b[0;34m.\u001b[0m\u001b[0minfer\u001b[0m\u001b[0;34m(\u001b[0m\u001b[0mitem\u001b[0m\u001b[0;34m,\u001b[0m \u001b[0;34m**\u001b[0m\u001b[0mself\u001b[0m\u001b[0;34m.\u001b[0m\u001b[0mparams\u001b[0m\u001b[0;34m)\u001b[0m\u001b[0;34m\u001b[0m\u001b[0;34m\u001b[0m\u001b[0m\n\u001b[1;32m    113\u001b[0m         \u001b[0;31m# We now have a batch of \"inferred things\".\u001b[0m\u001b[0;34m\u001b[0m\u001b[0;34m\u001b[0m\u001b[0;34m\u001b[0m\u001b[0m\n",
            "\u001b[0;32m/usr/local/lib/python3.7/dist-packages/transformers/pipelines/pt_utils.py\u001b[0m in \u001b[0;36m__next__\u001b[0;34m(self)\u001b[0m\n\u001b[1;32m    110\u001b[0m         \u001b[0;31m# We're out of items within a batch\u001b[0m\u001b[0;34m\u001b[0m\u001b[0;34m\u001b[0m\u001b[0;34m\u001b[0m\u001b[0m\n\u001b[1;32m    111\u001b[0m         \u001b[0mitem\u001b[0m \u001b[0;34m=\u001b[0m \u001b[0mnext\u001b[0m\u001b[0;34m(\u001b[0m\u001b[0mself\u001b[0m\u001b[0;34m.\u001b[0m\u001b[0miterator\u001b[0m\u001b[0;34m)\u001b[0m\u001b[0;34m\u001b[0m\u001b[0;34m\u001b[0m\u001b[0m\n\u001b[0;32m--> 112\u001b[0;31m         \u001b[0mprocessed\u001b[0m \u001b[0;34m=\u001b[0m \u001b[0mself\u001b[0m\u001b[0;34m.\u001b[0m\u001b[0minfer\u001b[0m\u001b[0;34m(\u001b[0m\u001b[0mitem\u001b[0m\u001b[0;34m,\u001b[0m \u001b[0;34m**\u001b[0m\u001b[0mself\u001b[0m\u001b[0;34m.\u001b[0m\u001b[0mparams\u001b[0m\u001b[0;34m)\u001b[0m\u001b[0;34m\u001b[0m\u001b[0;34m\u001b[0m\u001b[0m\n\u001b[0m\u001b[1;32m    113\u001b[0m         \u001b[0;31m# We now have a batch of \"inferred things\".\u001b[0m\u001b[0;34m\u001b[0m\u001b[0;34m\u001b[0m\u001b[0;34m\u001b[0m\u001b[0m\n\u001b[1;32m    114\u001b[0m         \u001b[0;32mif\u001b[0m \u001b[0mself\u001b[0m\u001b[0;34m.\u001b[0m\u001b[0mloader_batch_size\u001b[0m \u001b[0;32mis\u001b[0m \u001b[0;32mnot\u001b[0m \u001b[0;32mNone\u001b[0m\u001b[0;34m:\u001b[0m\u001b[0;34m\u001b[0m\u001b[0;34m\u001b[0m\u001b[0m\n",
            "\u001b[0;32m/usr/local/lib/python3.7/dist-packages/transformers/pipelines/base.py\u001b[0m in \u001b[0;36mforward\u001b[0;34m(self, model_inputs, **forward_params)\u001b[0m\n\u001b[1;32m    941\u001b[0m                 \u001b[0;32mwith\u001b[0m \u001b[0minference_context\u001b[0m\u001b[0;34m(\u001b[0m\u001b[0;34m)\u001b[0m\u001b[0;34m:\u001b[0m\u001b[0;34m\u001b[0m\u001b[0;34m\u001b[0m\u001b[0m\n\u001b[1;32m    942\u001b[0m                     \u001b[0mmodel_inputs\u001b[0m \u001b[0;34m=\u001b[0m \u001b[0mself\u001b[0m\u001b[0;34m.\u001b[0m\u001b[0m_ensure_tensor_on_device\u001b[0m\u001b[0;34m(\u001b[0m\u001b[0mmodel_inputs\u001b[0m\u001b[0;34m,\u001b[0m \u001b[0mdevice\u001b[0m\u001b[0;34m=\u001b[0m\u001b[0mself\u001b[0m\u001b[0;34m.\u001b[0m\u001b[0mdevice\u001b[0m\u001b[0;34m)\u001b[0m\u001b[0;34m\u001b[0m\u001b[0;34m\u001b[0m\u001b[0m\n\u001b[0;32m--> 943\u001b[0;31m                     \u001b[0mmodel_outputs\u001b[0m \u001b[0;34m=\u001b[0m \u001b[0mself\u001b[0m\u001b[0;34m.\u001b[0m\u001b[0m_forward\u001b[0m\u001b[0;34m(\u001b[0m\u001b[0mmodel_inputs\u001b[0m\u001b[0;34m,\u001b[0m \u001b[0;34m**\u001b[0m\u001b[0mforward_params\u001b[0m\u001b[0;34m)\u001b[0m\u001b[0;34m\u001b[0m\u001b[0;34m\u001b[0m\u001b[0m\n\u001b[0m\u001b[1;32m    944\u001b[0m                     \u001b[0mmodel_outputs\u001b[0m \u001b[0;34m=\u001b[0m \u001b[0mself\u001b[0m\u001b[0;34m.\u001b[0m\u001b[0m_ensure_tensor_on_device\u001b[0m\u001b[0;34m(\u001b[0m\u001b[0mmodel_outputs\u001b[0m\u001b[0;34m,\u001b[0m \u001b[0mdevice\u001b[0m\u001b[0;34m=\u001b[0m\u001b[0mtorch\u001b[0m\u001b[0;34m.\u001b[0m\u001b[0mdevice\u001b[0m\u001b[0;34m(\u001b[0m\u001b[0;34m\"cpu\"\u001b[0m\u001b[0;34m)\u001b[0m\u001b[0;34m)\u001b[0m\u001b[0;34m\u001b[0m\u001b[0;34m\u001b[0m\u001b[0m\n\u001b[1;32m    945\u001b[0m             \u001b[0;32melse\u001b[0m\u001b[0;34m:\u001b[0m\u001b[0;34m\u001b[0m\u001b[0;34m\u001b[0m\u001b[0m\n",
            "\u001b[0;32m/usr/local/lib/python3.7/dist-packages/transformers/pipelines/text_classification.py\u001b[0m in \u001b[0;36m_forward\u001b[0;34m(self, model_inputs)\u001b[0m\n\u001b[1;32m    135\u001b[0m \u001b[0;34m\u001b[0m\u001b[0m\n\u001b[1;32m    136\u001b[0m     \u001b[0;32mdef\u001b[0m \u001b[0m_forward\u001b[0m\u001b[0;34m(\u001b[0m\u001b[0mself\u001b[0m\u001b[0;34m,\u001b[0m \u001b[0mmodel_inputs\u001b[0m\u001b[0;34m)\u001b[0m\u001b[0;34m:\u001b[0m\u001b[0;34m\u001b[0m\u001b[0;34m\u001b[0m\u001b[0m\n\u001b[0;32m--> 137\u001b[0;31m         \u001b[0;32mreturn\u001b[0m \u001b[0mself\u001b[0m\u001b[0;34m.\u001b[0m\u001b[0mmodel\u001b[0m\u001b[0;34m(\u001b[0m\u001b[0;34m**\u001b[0m\u001b[0mmodel_inputs\u001b[0m\u001b[0;34m)\u001b[0m\u001b[0;34m\u001b[0m\u001b[0;34m\u001b[0m\u001b[0m\n\u001b[0m\u001b[1;32m    138\u001b[0m \u001b[0;34m\u001b[0m\u001b[0m\n\u001b[1;32m    139\u001b[0m     \u001b[0;32mdef\u001b[0m \u001b[0mpostprocess\u001b[0m\u001b[0;34m(\u001b[0m\u001b[0mself\u001b[0m\u001b[0;34m,\u001b[0m \u001b[0mmodel_outputs\u001b[0m\u001b[0;34m,\u001b[0m \u001b[0mfunction_to_apply\u001b[0m\u001b[0;34m=\u001b[0m\u001b[0;32mNone\u001b[0m\u001b[0;34m,\u001b[0m \u001b[0mreturn_all_scores\u001b[0m\u001b[0;34m=\u001b[0m\u001b[0;32mFalse\u001b[0m\u001b[0;34m)\u001b[0m\u001b[0;34m:\u001b[0m\u001b[0;34m\u001b[0m\u001b[0;34m\u001b[0m\u001b[0m\n",
            "\u001b[0;32m/usr/local/lib/python3.7/dist-packages/torch/nn/modules/module.py\u001b[0m in \u001b[0;36m_call_impl\u001b[0;34m(self, *input, **kwargs)\u001b[0m\n\u001b[1;32m   1108\u001b[0m         if not (self._backward_hooks or self._forward_hooks or self._forward_pre_hooks or _global_backward_hooks\n\u001b[1;32m   1109\u001b[0m                 or _global_forward_hooks or _global_forward_pre_hooks):\n\u001b[0;32m-> 1110\u001b[0;31m             \u001b[0;32mreturn\u001b[0m \u001b[0mforward_call\u001b[0m\u001b[0;34m(\u001b[0m\u001b[0;34m*\u001b[0m\u001b[0minput\u001b[0m\u001b[0;34m,\u001b[0m \u001b[0;34m**\u001b[0m\u001b[0mkwargs\u001b[0m\u001b[0;34m)\u001b[0m\u001b[0;34m\u001b[0m\u001b[0;34m\u001b[0m\u001b[0m\n\u001b[0m\u001b[1;32m   1111\u001b[0m         \u001b[0;31m# Do not call functions when jit is used\u001b[0m\u001b[0;34m\u001b[0m\u001b[0;34m\u001b[0m\u001b[0;34m\u001b[0m\u001b[0m\n\u001b[1;32m   1112\u001b[0m         \u001b[0mfull_backward_hooks\u001b[0m\u001b[0;34m,\u001b[0m \u001b[0mnon_full_backward_hooks\u001b[0m \u001b[0;34m=\u001b[0m \u001b[0;34m[\u001b[0m\u001b[0;34m]\u001b[0m\u001b[0;34m,\u001b[0m \u001b[0;34m[\u001b[0m\u001b[0;34m]\u001b[0m\u001b[0;34m\u001b[0m\u001b[0;34m\u001b[0m\u001b[0m\n",
            "\u001b[0;32m/usr/local/lib/python3.7/dist-packages/transformers/models/distilbert/modeling_distilbert.py\u001b[0m in \u001b[0;36mforward\u001b[0;34m(self, input_ids, attention_mask, head_mask, inputs_embeds, labels, output_attentions, output_hidden_states, return_dict)\u001b[0m\n\u001b[1;32m    756\u001b[0m             \u001b[0moutput_attentions\u001b[0m\u001b[0;34m=\u001b[0m\u001b[0moutput_attentions\u001b[0m\u001b[0;34m,\u001b[0m\u001b[0;34m\u001b[0m\u001b[0;34m\u001b[0m\u001b[0m\n\u001b[1;32m    757\u001b[0m             \u001b[0moutput_hidden_states\u001b[0m\u001b[0;34m=\u001b[0m\u001b[0moutput_hidden_states\u001b[0m\u001b[0;34m,\u001b[0m\u001b[0;34m\u001b[0m\u001b[0;34m\u001b[0m\u001b[0m\n\u001b[0;32m--> 758\u001b[0;31m             \u001b[0mreturn_dict\u001b[0m\u001b[0;34m=\u001b[0m\u001b[0mreturn_dict\u001b[0m\u001b[0;34m,\u001b[0m\u001b[0;34m\u001b[0m\u001b[0;34m\u001b[0m\u001b[0m\n\u001b[0m\u001b[1;32m    759\u001b[0m         )\n\u001b[1;32m    760\u001b[0m         \u001b[0mhidden_state\u001b[0m \u001b[0;34m=\u001b[0m \u001b[0mdistilbert_output\u001b[0m\u001b[0;34m[\u001b[0m\u001b[0;36m0\u001b[0m\u001b[0;34m]\u001b[0m  \u001b[0;31m# (bs, seq_len, dim)\u001b[0m\u001b[0;34m\u001b[0m\u001b[0;34m\u001b[0m\u001b[0m\n",
            "\u001b[0;32m/usr/local/lib/python3.7/dist-packages/torch/nn/modules/module.py\u001b[0m in \u001b[0;36m_call_impl\u001b[0;34m(self, *input, **kwargs)\u001b[0m\n\u001b[1;32m   1108\u001b[0m         if not (self._backward_hooks or self._forward_hooks or self._forward_pre_hooks or _global_backward_hooks\n\u001b[1;32m   1109\u001b[0m                 or _global_forward_hooks or _global_forward_pre_hooks):\n\u001b[0;32m-> 1110\u001b[0;31m             \u001b[0;32mreturn\u001b[0m \u001b[0mforward_call\u001b[0m\u001b[0;34m(\u001b[0m\u001b[0;34m*\u001b[0m\u001b[0minput\u001b[0m\u001b[0;34m,\u001b[0m \u001b[0;34m**\u001b[0m\u001b[0mkwargs\u001b[0m\u001b[0;34m)\u001b[0m\u001b[0;34m\u001b[0m\u001b[0;34m\u001b[0m\u001b[0m\n\u001b[0m\u001b[1;32m   1111\u001b[0m         \u001b[0;31m# Do not call functions when jit is used\u001b[0m\u001b[0;34m\u001b[0m\u001b[0;34m\u001b[0m\u001b[0;34m\u001b[0m\u001b[0m\n\u001b[1;32m   1112\u001b[0m         \u001b[0mfull_backward_hooks\u001b[0m\u001b[0;34m,\u001b[0m \u001b[0mnon_full_backward_hooks\u001b[0m \u001b[0;34m=\u001b[0m \u001b[0;34m[\u001b[0m\u001b[0;34m]\u001b[0m\u001b[0;34m,\u001b[0m \u001b[0;34m[\u001b[0m\u001b[0;34m]\u001b[0m\u001b[0;34m\u001b[0m\u001b[0;34m\u001b[0m\u001b[0m\n",
            "\u001b[0;32m/usr/local/lib/python3.7/dist-packages/transformers/models/distilbert/modeling_distilbert.py\u001b[0m in \u001b[0;36mforward\u001b[0;34m(self, input_ids, attention_mask, head_mask, inputs_embeds, output_attentions, output_hidden_states, return_dict)\u001b[0m\n\u001b[1;32m    568\u001b[0m \u001b[0;34m\u001b[0m\u001b[0m\n\u001b[1;32m    569\u001b[0m         \u001b[0;32mif\u001b[0m \u001b[0minputs_embeds\u001b[0m \u001b[0;32mis\u001b[0m \u001b[0;32mNone\u001b[0m\u001b[0;34m:\u001b[0m\u001b[0;34m\u001b[0m\u001b[0;34m\u001b[0m\u001b[0m\n\u001b[0;32m--> 570\u001b[0;31m             \u001b[0minputs_embeds\u001b[0m \u001b[0;34m=\u001b[0m \u001b[0mself\u001b[0m\u001b[0;34m.\u001b[0m\u001b[0membeddings\u001b[0m\u001b[0;34m(\u001b[0m\u001b[0minput_ids\u001b[0m\u001b[0;34m)\u001b[0m  \u001b[0;31m# (bs, seq_length, dim)\u001b[0m\u001b[0;34m\u001b[0m\u001b[0;34m\u001b[0m\u001b[0m\n\u001b[0m\u001b[1;32m    571\u001b[0m         return self.transformer(\n\u001b[1;32m    572\u001b[0m             \u001b[0mx\u001b[0m\u001b[0;34m=\u001b[0m\u001b[0minputs_embeds\u001b[0m\u001b[0;34m,\u001b[0m\u001b[0;34m\u001b[0m\u001b[0;34m\u001b[0m\u001b[0m\n",
            "\u001b[0;32m/usr/local/lib/python3.7/dist-packages/torch/nn/modules/module.py\u001b[0m in \u001b[0;36m_call_impl\u001b[0;34m(self, *input, **kwargs)\u001b[0m\n\u001b[1;32m   1108\u001b[0m         if not (self._backward_hooks or self._forward_hooks or self._forward_pre_hooks or _global_backward_hooks\n\u001b[1;32m   1109\u001b[0m                 or _global_forward_hooks or _global_forward_pre_hooks):\n\u001b[0;32m-> 1110\u001b[0;31m             \u001b[0;32mreturn\u001b[0m \u001b[0mforward_call\u001b[0m\u001b[0;34m(\u001b[0m\u001b[0;34m*\u001b[0m\u001b[0minput\u001b[0m\u001b[0;34m,\u001b[0m \u001b[0;34m**\u001b[0m\u001b[0mkwargs\u001b[0m\u001b[0;34m)\u001b[0m\u001b[0;34m\u001b[0m\u001b[0;34m\u001b[0m\u001b[0m\n\u001b[0m\u001b[1;32m   1111\u001b[0m         \u001b[0;31m# Do not call functions when jit is used\u001b[0m\u001b[0;34m\u001b[0m\u001b[0;34m\u001b[0m\u001b[0;34m\u001b[0m\u001b[0m\n\u001b[1;32m   1112\u001b[0m         \u001b[0mfull_backward_hooks\u001b[0m\u001b[0;34m,\u001b[0m \u001b[0mnon_full_backward_hooks\u001b[0m \u001b[0;34m=\u001b[0m \u001b[0;34m[\u001b[0m\u001b[0;34m]\u001b[0m\u001b[0;34m,\u001b[0m \u001b[0;34m[\u001b[0m\u001b[0;34m]\u001b[0m\u001b[0;34m\u001b[0m\u001b[0;34m\u001b[0m\u001b[0m\n",
            "\u001b[0;32m/usr/local/lib/python3.7/dist-packages/transformers/models/distilbert/modeling_distilbert.py\u001b[0m in \u001b[0;36mforward\u001b[0;34m(self, input_ids)\u001b[0m\n\u001b[1;32m    134\u001b[0m         \u001b[0mposition_embeddings\u001b[0m \u001b[0;34m=\u001b[0m \u001b[0mself\u001b[0m\u001b[0;34m.\u001b[0m\u001b[0mposition_embeddings\u001b[0m\u001b[0;34m(\u001b[0m\u001b[0mposition_ids\u001b[0m\u001b[0;34m)\u001b[0m  \u001b[0;31m# (bs, max_seq_length, dim)\u001b[0m\u001b[0;34m\u001b[0m\u001b[0;34m\u001b[0m\u001b[0m\n\u001b[1;32m    135\u001b[0m \u001b[0;34m\u001b[0m\u001b[0m\n\u001b[0;32m--> 136\u001b[0;31m         \u001b[0membeddings\u001b[0m \u001b[0;34m=\u001b[0m \u001b[0mword_embeddings\u001b[0m \u001b[0;34m+\u001b[0m \u001b[0mposition_embeddings\u001b[0m  \u001b[0;31m# (bs, max_seq_length, dim)\u001b[0m\u001b[0;34m\u001b[0m\u001b[0;34m\u001b[0m\u001b[0m\n\u001b[0m\u001b[1;32m    137\u001b[0m         \u001b[0membeddings\u001b[0m \u001b[0;34m=\u001b[0m \u001b[0mself\u001b[0m\u001b[0;34m.\u001b[0m\u001b[0mLayerNorm\u001b[0m\u001b[0;34m(\u001b[0m\u001b[0membeddings\u001b[0m\u001b[0;34m)\u001b[0m  \u001b[0;31m# (bs, max_seq_length, dim)\u001b[0m\u001b[0;34m\u001b[0m\u001b[0;34m\u001b[0m\u001b[0m\n\u001b[1;32m    138\u001b[0m         \u001b[0membeddings\u001b[0m \u001b[0;34m=\u001b[0m \u001b[0mself\u001b[0m\u001b[0;34m.\u001b[0m\u001b[0mdropout\u001b[0m\u001b[0;34m(\u001b[0m\u001b[0membeddings\u001b[0m\u001b[0;34m)\u001b[0m  \u001b[0;31m# (bs, max_seq_length, dim)\u001b[0m\u001b[0;34m\u001b[0m\u001b[0;34m\u001b[0m\u001b[0m\n",
            "\u001b[0;31mRuntimeError\u001b[0m: The size of tensor a (517) must match the size of tensor b (512) at non-singleton dimension 1"
          ]
        }
      ]
    },
    {
      "cell_type": "markdown",
      "source": [
        "### Delving deeper into the NLP pipeline\n",
        "\n",
        "While HuggingFace may provide API for truncating and batching examples, below we show how to work with the [NLP pipeline](https://huggingface.co/datasets/huggingface-course/documentation-images/resolve/main/en/chapter2/full_nlp_pipeline.svg), which will give us more control over the inputs and outputs. More details are provided in the [Behind the pipeline](https://huggingface.co/course/chapter2/2?fw=pt) course section.\n",
        "\n",
        "\n"
      ],
      "metadata": {
        "id": "HmBo7PRc2gG7"
      }
    },
    {
      "cell_type": "markdown",
      "source": [
        "### Subsample examples for quick evaluations\n",
        "\n",
        "Classifying the entire dataset of 1,500 examples can be time consuming. For debugging purposes, it is useful to evaluate on a subset of examples. Write a function `sample_dataset(reviews, labels, k)` that extracts a subset of `sreviews` and their associated `slabels` containing just the top k followed by the bottom k examples in the dataset that is provided as input, for a total of 2k examples. We do this so that we have an equal number of positive (top k) and negative (bottom k) examples."
      ],
      "metadata": {
        "id": "B2NRsEJe9nwX"
      }
    },
    {
      "cell_type": "code",
      "source": [
        "def sample_dataset(reviews, labels, k):\n",
        "  sreviews, slabels = [], []\n",
        "  \n",
        "  # m = int(k/2)\n",
        "  m = -1 * k\n",
        "  # YOUR CODE HERE\n",
        "  sreviews = reviews[:k]\n",
        "  slabels = labels[:k]\n",
        "  sreviews.extend(reviews[m:])\n",
        "  slabels.extend(labels[m:])\n",
        "\n",
        "  return sreviews, slabels"
      ],
      "metadata": {
        "id": "cb7IUE1r_ANO"
      },
      "execution_count": 6,
      "outputs": []
    },
    {
      "cell_type": "markdown",
      "source": [
        "### Pipeline: From Tokenizer to Model to Post Processing\n",
        "\n",
        "This is the main code, where first the reviews are Tokenized, then classified with the Model, followed by a slight Post Processing of the predicted labels. For more on the pipeline, see the [Putting it all together](https://huggingface.co/course/chapter2/6?fw=pt) section in the course and the previous sections in the Using Transformers chapter.\n",
        "\n",
        "If we ran the sentiment analysis model on all 1,500 reviews directly, Colab would run out of memory (try it). Therefore, the code below runs the model on batches of 10 reviews at a time and accumulates the predicted labels in the `predictions` list."
      ],
      "metadata": {
        "id": "-TSRnm9s1XKI"
      }
    },
    {
      "cell_type": "code",
      "source": [
        "import torch\n",
        "from transformers import AutoTokenizer, AutoModelForSequenceClassification\n",
        "def model():\n",
        "  # A machine learning model, like DistilBERT, can be trained using many hyper-parameters configurations,\n",
        "  # such as learning rate, number of training epochs, preprocessing of its data, finetuning, etc. A checkpoint \n",
        "  # corresponds to a particular training setting. All checkpoints are listed and explained on the Hub page.\n",
        "  checkpoint = \"distilbert-base-uncased-finetuned-sst-2-english\"\n",
        "\n",
        "  # Extract the Tokenizer that was used for the training data. It is important that the same tokenizer is used on the test data.\n",
        "  # https://huggingface.co/course/chapter2/4?fw=pt\n",
        "  tokenizer = AutoTokenizer.from_pretrained(checkpoint)\n",
        "\n",
        "  # Extract the sequence classification model associated with the checkpoint.\n",
        "  # https://huggingface.co/course/chapter2/3?fw=pt\n",
        "  model = AutoModelForSequenceClassification.from_pretrained(checkpoint)\n",
        "\n",
        "  # Print the numerical IDs for the two labels, to verify 0 means negative, 1 means positive.\n",
        "  print(model.config.id2label)\n",
        "\n",
        "  # By default run evaluations on all examples.\n",
        "  sreviews, slabels = reviews, labels\n",
        "\n",
        "  # When set to True, experiments are run only on 2 * 50 examples.\n",
        "  # Change to False for running on all 1,500 examples for the final submission.\n",
        "  debug = True\n",
        "  if debug:\n",
        "    sreviews, slabels = sample_dataset(reviews, labels, 50)\n",
        "\n",
        "  # Position for the current batch.\n",
        "  position = 0\n",
        "  # Accumulate batch predicted labels here.\n",
        "  predictions = []\n",
        "\n",
        "  while position < len(sreviews):\n",
        "    # Evaluate on a batch of 10 reviews at a time.\n",
        "    batch = sreviews[position: position + 10]\n",
        "    \n",
        "    # Will pad the sequences up to the max length in the dataset.\n",
        "    # Will also truncate the sequences that are longer than the model max length (512 for BERT or DistilBERT).\n",
        "    tokens = tokenizer(batch, padding = \"longest\", truncation = True, return_tensors = \"pt\")\n",
        "    \n",
        "    output = model(**tokens)\n",
        "    predictions += list(map(lambda logit: int(logit[0] < logit[1]), output.logits))\n",
        "\n",
        "    position += 10\n",
        "    print('Processed', position, 'reviews.')\n",
        "\n",
        "  return slabels, predictions, sreviews"
      ],
      "metadata": {
        "id": "jQlQGKo8QhVj"
      },
      "execution_count": 9,
      "outputs": []
    },
    {
      "cell_type": "markdown",
      "source": [
        "### Evaluate the DistilBERT Model Accuracy on the IMDB Development Dataset\n",
        "\n",
        "Write a function `compute_accuracy(labels, predictions)` that calculates the accuracy of the model `predicted` labels with respect to the ground truth `labels`."
      ],
      "metadata": {
        "id": "_BGlCW5S3_nN"
      }
    },
    {
      "cell_type": "code",
      "source": [
        "def compute_accuracy(labels, predictions):\n",
        "  accuracy = len([n for n in range(0,len(labels)) if (labels[n]==predictions[n])])/len(labels)\n",
        "  #0 # YOUR CODE HERE. CAN YOU DO IT IN ONE LINE?\n",
        "\n",
        "  return accuracy\n",
        "\n",
        "slabels, predictions = model()\n",
        "print('Accuracy = ', compute_accuracy(slabels, predictions))"
      ],
      "metadata": {
        "id": "d4W9pZ0oS_-3",
        "colab": {
          "base_uri": "https://localhost:8080/"
        },
        "outputId": "3386d303-975d-45a9-e87d-afef3bde9e9c"
      },
      "execution_count": 8,
      "outputs": [
        {
          "output_type": "stream",
          "name": "stdout",
          "text": [
            "{0: 'NEGATIVE', 1: 'POSITIVE'}\n",
            "Processed 10 reviews.\n",
            "Processed 20 reviews.\n",
            "Processed 30 reviews.\n",
            "Processed 40 reviews.\n",
            "Processed 50 reviews.\n",
            "Processed 60 reviews.\n",
            "Processed 70 reviews.\n",
            "Processed 80 reviews.\n",
            "Processed 90 reviews.\n",
            "Processed 100 reviews.\n",
            "Processed 110 reviews.\n",
            "Processed 120 reviews.\n",
            "Processed 130 reviews.\n",
            "Processed 140 reviews.\n",
            "Processed 150 reviews.\n",
            "Processed 160 reviews.\n",
            "Processed 170 reviews.\n",
            "Processed 180 reviews.\n",
            "Processed 190 reviews.\n",
            "Processed 200 reviews.\n",
            "Processed 210 reviews.\n",
            "Processed 220 reviews.\n",
            "Processed 230 reviews.\n",
            "Processed 240 reviews.\n",
            "Processed 250 reviews.\n",
            "Processed 260 reviews.\n",
            "Processed 270 reviews.\n",
            "Processed 280 reviews.\n",
            "Processed 290 reviews.\n",
            "Processed 300 reviews.\n",
            "Processed 310 reviews.\n",
            "Processed 320 reviews.\n",
            "Processed 330 reviews.\n",
            "Processed 340 reviews.\n",
            "Processed 350 reviews.\n",
            "Processed 360 reviews.\n",
            "Processed 370 reviews.\n",
            "Processed 380 reviews.\n",
            "Processed 390 reviews.\n",
            "Processed 400 reviews.\n",
            "Processed 410 reviews.\n",
            "Processed 420 reviews.\n",
            "Processed 430 reviews.\n",
            "Processed 440 reviews.\n",
            "Processed 450 reviews.\n",
            "Processed 460 reviews.\n",
            "Processed 470 reviews.\n",
            "Processed 480 reviews.\n",
            "Processed 490 reviews.\n",
            "Processed 500 reviews.\n",
            "Processed 510 reviews.\n",
            "Processed 520 reviews.\n",
            "Processed 530 reviews.\n",
            "Processed 540 reviews.\n",
            "Processed 550 reviews.\n",
            "Processed 560 reviews.\n",
            "Processed 570 reviews.\n",
            "Processed 580 reviews.\n",
            "Processed 590 reviews.\n",
            "Processed 600 reviews.\n",
            "Processed 610 reviews.\n",
            "Processed 620 reviews.\n",
            "Processed 630 reviews.\n",
            "Processed 640 reviews.\n",
            "Processed 650 reviews.\n",
            "Processed 660 reviews.\n",
            "Processed 670 reviews.\n",
            "Processed 680 reviews.\n",
            "Processed 690 reviews.\n",
            "Processed 700 reviews.\n",
            "Processed 710 reviews.\n",
            "Processed 720 reviews.\n",
            "Processed 730 reviews.\n",
            "Processed 740 reviews.\n",
            "Processed 750 reviews.\n",
            "Processed 760 reviews.\n",
            "Processed 770 reviews.\n",
            "Processed 780 reviews.\n",
            "Processed 790 reviews.\n",
            "Processed 800 reviews.\n",
            "Processed 810 reviews.\n",
            "Processed 820 reviews.\n",
            "Processed 830 reviews.\n",
            "Processed 840 reviews.\n",
            "Processed 850 reviews.\n",
            "Processed 860 reviews.\n",
            "Processed 870 reviews.\n",
            "Processed 880 reviews.\n",
            "Processed 890 reviews.\n",
            "Processed 900 reviews.\n",
            "Processed 910 reviews.\n",
            "Processed 920 reviews.\n",
            "Processed 930 reviews.\n",
            "Processed 940 reviews.\n",
            "Processed 950 reviews.\n",
            "Processed 960 reviews.\n",
            "Processed 970 reviews.\n",
            "Processed 980 reviews.\n",
            "Processed 990 reviews.\n",
            "Processed 1000 reviews.\n",
            "Processed 1010 reviews.\n",
            "Processed 1020 reviews.\n",
            "Processed 1030 reviews.\n",
            "Processed 1040 reviews.\n",
            "Processed 1050 reviews.\n",
            "Processed 1060 reviews.\n",
            "Processed 1070 reviews.\n",
            "Processed 1080 reviews.\n",
            "Processed 1090 reviews.\n",
            "Processed 1100 reviews.\n",
            "Processed 1110 reviews.\n",
            "Processed 1120 reviews.\n",
            "Processed 1130 reviews.\n",
            "Processed 1140 reviews.\n",
            "Processed 1150 reviews.\n",
            "Processed 1160 reviews.\n",
            "Processed 1170 reviews.\n",
            "Processed 1180 reviews.\n",
            "Processed 1190 reviews.\n",
            "Processed 1200 reviews.\n",
            "Processed 1210 reviews.\n",
            "Processed 1220 reviews.\n",
            "Processed 1230 reviews.\n",
            "Processed 1240 reviews.\n",
            "Processed 1250 reviews.\n",
            "Processed 1260 reviews.\n",
            "Processed 1270 reviews.\n",
            "Processed 1280 reviews.\n",
            "Processed 1290 reviews.\n",
            "Processed 1300 reviews.\n",
            "Processed 1310 reviews.\n",
            "Processed 1320 reviews.\n",
            "Processed 1330 reviews.\n",
            "Processed 1340 reviews.\n",
            "Processed 1350 reviews.\n",
            "Processed 1360 reviews.\n",
            "Processed 1370 reviews.\n",
            "Processed 1380 reviews.\n",
            "Processed 1390 reviews.\n",
            "Processed 1400 reviews.\n",
            "Processed 1410 reviews.\n",
            "Processed 1420 reviews.\n",
            "Processed 1430 reviews.\n",
            "Processed 1440 reviews.\n",
            "Processed 1450 reviews.\n",
            "Processed 1460 reviews.\n",
            "Processed 1470 reviews.\n",
            "Processed 1480 reviews.\n",
            "Processed 1490 reviews.\n",
            "Processed 1500 reviews.\n",
            "Accuracy =  0.8933333333333333\n"
          ]
        }
      ]
    },
    {
      "cell_type": "code",
      "source": [
        "slabels, predictions, sreviews = model()"
      ],
      "metadata": {
        "colab": {
          "base_uri": "https://localhost:8080/"
        },
        "id": "vjBgexcOHyXN",
        "outputId": "dd513ed4-cefd-46a1-ff28-1c686897cdd0"
      },
      "execution_count": 11,
      "outputs": [
        {
          "output_type": "stream",
          "name": "stdout",
          "text": [
            "{0: 'NEGATIVE', 1: 'POSITIVE'}\n",
            "Processed 10 reviews.\n",
            "Processed 20 reviews.\n",
            "Processed 30 reviews.\n",
            "Processed 40 reviews.\n",
            "Processed 50 reviews.\n",
            "Processed 60 reviews.\n",
            "Processed 70 reviews.\n",
            "Processed 80 reviews.\n",
            "Processed 90 reviews.\n",
            "Processed 100 reviews.\n"
          ]
        }
      ]
    },
    {
      "cell_type": "code",
      "source": [
        "#error analysis\n",
        "def misclassified(slabels,predictions,sreviews):\n",
        "  print('Missclassified reviews: ')\n",
        "  for i in range(len(slabels)):\n",
        "    if slabels[i] != predictions[i]:\n",
        "      print(\"Reviews: \"+str(sreviews[i])+\" Predicted lable: \"+str(predictions[i])+\" Actual Lable: \"+str(slabels[i]))\n",
        "\n",
        "\n",
        "misclassified(slabels,predictions,sreviews)"
      ],
      "metadata": {
        "colab": {
          "base_uri": "https://localhost:8080/"
        },
        "id": "u9tjYZEJwyOD",
        "outputId": "9289e4b2-ff2c-42c4-e413-1f944e247167"
      },
      "execution_count": 13,
      "outputs": [
        {
          "output_type": "stream",
          "name": "stdout",
          "text": [
            "Missclassified reviews: \n",
            "Reviews: So Dark The Night poses a tough challenge: It's very hard to write about it in any detail without ruining it for those who haven't yet seen it. Since it remains quite obscure, that includes just about everybody. The movie will strike those familiar with its director Joseph H. Lewis' better known titles in the noir cycle  Gun Crazy, The Big Combo, even My Name Is Julia Ross, which in its brevity it resembles  as an odd choice.<br /><br />For starters, the bucolic French countryside serves as its setting. Steven Geray, a middle-aged detective with the Surété in Paris, sets out for a vacation in the village of Ste. Margot (or maybe Margaux). Quite unexpectedly, he finds himself falling in love with the inkeepers' daughter (Micheline Cheirel), even though she's betrothed to a rough-hewn local farmer. But the siren song of life in Paris is hard to resist, so she agrees to marry him, despite the disparity in their ages, which inevitably becomes the talk of the town. <br /><br />But on the night of their engagement party, she fails to return to the inn. Soon, a hunchback finds her body by the river. Her jealous, jilted lover is the logical suspect, but he, too, is found dead. Then anonymous notes threaten more deaths, which come to pass. For the first time in his career, the bereaved Geray finds himself stumped....<br /><br />A particularly weak script all but does the movie in; it plays like bad Cornell Woolrich crossed with The Murder of Roger Ackroyd. But Lewis does this creaky vehicle proud. He takes his time near the beginning, but then the story  and the storytelling  gain momentum (alas, just about the time the script breaks an axle). Burnett Guffey lighted and photographed the film, with an intriguing leitmotif of peering out of and peeping into windows; there's also an effective score by Hugo Friedhofer, who supplied aural menace to many noirs. A good deal of talent has been lavished on So Dark The Night, but at the end it boils down to not much more than a gimmick  and not a very good gimmick at that. It's a one-trick pony of a movie.<br /><br /> Predicted lable: 0 Actual Lable: 1\n",
            "Reviews: I love the other reviews of this movie. They mirror my attitude. I am a 70's sort of guy, minus disco and \"Star Wars\" childishness. There was nothing great about this movie, except for a chase scene. That is why it was good, because it was tough, basic and economical. Roy Scheider carried the movie, which was based on the crew, the 7 Ups, that backed up Gene Hackman in the \"French Connection\". The people in it were believable and average, who burned themselves pouring coffee, showed fear in chase scene and almost lost it after a close call crash.<br /><br />Maybe it would be easier to tell you what it lacked. There was no fancy weapons, just basic revolvers and crude sawed off shotguns. There was no tough guy philosophizing, ala Tarantino. There was no kung fu or samurai nonsense and no fancy trick shooting either. There was no clever guy who carries out some complicated scheme based on hundreds of things going just the way he planned including everyone else's reactions. The criminals were bad guys but they didn't shoot people for the hell of it. As a matter of fact, there was a body count of just three. something that the average movie these days would pass in the opening credits. It could be a G movie today! No bus load of orphan school children were kidnapped nor were terrorists threatening to kill half of the city. There were no high tech hijinks, nor were the crimes themselves very moving or ingenious, the highest tech thing I saw was a touch tone ATT wall phone. It had no subplots or amusing character developments. Also, no sex or women, except for one mobster's wife who did some screaming as the Buddy our hero had her menaced.<br /><br />It was some little undertaker who exploited his connections with the local mob and the police to kidnap local mobsters for some easy payoffs. The undertakers. Vito, was played by Tony Lo Bianco who did a great job, as good as Roy Schneider, Buddy the head of 7 Ups cop, whom he informed and exploited. What ever happened to Tony Lo Bianco, he seemed like a Pacino shoe in, good looking and talented? What it did have was a great NYC backdrop to a simple crime story. Locations that were bleak and dehumanizing without being a sociological study. It had a simple plot that involved this kidnapping scheme where one of Buddy's cop got accidentally involved, literally accidentally dragged in then accidentally shot dead. Since Buddy and his 7 ups are a hot dogs unit, both the NYPD Brass and mobsters thought he was involved, since the kidnappers masqueraded as plain clothes cops to lure the mobsters into compliance. Obviously the mobsters figured they had lawyers and rights to protect them from normal police. Even the mobsters were plain, old and ugly, no Godfather royalty or Soprano hipness here.<br /><br />It is a good basic movie with a standout chase scene between two 70's d Pontiacs. Even the cars were plain and economical, not even a GTO or a Trans Am, like the acting and the story. In the days of Batman uber-hype or \"24\" levels of intensity doomsday scenarios, this movie reminds us that less is better. It should be shown to movie screen writers and directors as a caveat not to dazzle, amuse then ultimately insult us with stunts, gadgets and clown psychotic behavior galore. Predicted lable: 0 Actual Lable: 1\n",
            "Reviews: Another Asian horror movie packed with intense, and creepy moments. Another Asian horror trademark is the complexity of the plot, which is here as well. MAJOR SPOILER WARNING!<br /><br />The movie starts pretty simple - two sisters go to live with their dad and stepmother after being put in a mental institution after their mother hanged herself. The sisters seem very hostile towards their mother - especially the elder one - and they seem to ignore their father. All goes smoothly until the mother locks the young sister in the wardrobe and the elder sister tells her father. Then it hits you, \"your sister has been dead for years now\" It turns out the older sister is still not recovered from the death of her mother and what we didn't know is that the wardrobe the mother was hanged in fell on the younger sister and killed her as well.As for the stepmother she is the alter ego of the older sister - revealed when the stepmother (actually the sister's alter ego) is sitting on a couch when the real stepmother walks in! I hope it has been made clearer for confused Asian horror fans out there.<br /><br />Finally - my favourite scene is the scene where the father invites friends over for dinner and one of the friends starts to choke which erupts into a panic attack. Very creepy! 7 out of 10 Predicted lable: 0 Actual Lable: 1\n",
            "Reviews: The four signs on the road say \"If You're Looking For Fun.....You Don't Need A Reason....All You Need Is A Gun....It's Rabbit Season!\"<br /><br />In the woods, we see hundreds of \"Rabbit Season\" signs posted on every tree. We see more and more signs pointing exactly to Bugs Bunny's hole. Who's putting up all these signs? Daffy Duck!<br /><br />Daffy puts the last sign up, tiptoes away and says to us, the audience, \"Awfully unsporting of me, I know. But, what the hey - I gotta have some fun! Besides, it's really duck season.\"<br /><br />From that point, we now see Elmer Fudd, shotgun in hand.....and a war of semantics between Bugs and Daffy with Bugs winning every time. Only in cartoons, thankfully, can we see someone getting shotgun-blasted in the head five times and keep going! Predicted lable: 0 Actual Lable: 1\n",
            "Reviews: This amusing, sometimes poignant look at the Hollywood detective genre of the 1940's and 1950's stars Robert Sacci as an unnamed former cop who retires, uses his life savings to pay for plastic surgery to transform his image into that of his idol, Humphrey Bogart, then sets up shop as a private eye under the name \"Sam Marlowe\". Robert Sacchi, incidentally, is one of the rare few Bogart impersonators who got the lisp exactly right; more to the point, the body and facial language are there. For awhile, \"Sam\"'s only client is his landlady, who wants him to find her undersized boyfriend, and his only conversational foil is his secretary, simply called \"Dutchess\" (Misty Rowe), who in his own words, \"looked like Marilyn Monroe and made about as much sense as Gracie Allen\", and has a passion for banana splits. Then he encounters Elsa (Olivia Hussey), the plain, sweet, virginal daughter of a retired props-master who has been murdered for no discernible reason. In the process of investigating the murder, Sam shortly runs across: the Gene Tierney lookalike daughter (Michelle Phillips) of Anastas, an avaricious, obscenely wealthy Greek shipping tycoon (Victor Buono, turning in a creditable Sidney Greenstreet), his hapless, long-suffering second wife (Yvonne deCarlo, who manages to play a variety of put-upon emotions without saying a word), his two smarmy henchmen (Herbert Lom, channelling Peter Lorre, and Jay Robinson, doing a reasonably accurate Lionel Atwill), and Anastas' vicious, amoral Middle-Eastern potentate (Franco Nero) who comes complete with a glamorus and bafflingly loyal mistress (Sybil Danning), all of whom would give anything to acquire the \"Eyes of Alexander\", two huge, perfectly matched star sapphires. When Elsa is murdered, Marlowe's interest in solving the case becomes personal, and he sets out through a labyrinth of Los Angeles landmarks, including the Hollywood Bowl, the scatological and esoteric attractions of Hollywood Boulevard, and Santa Catalina Island in pursuit of the rocks, determined to get at them before either of the two wealthy competitors. Throw in cameos by Mike Mazurki and assorted others, the traditional dumb-but-sympathetic ally on the police force, and a plethora of nicely drawn character turns that provide dimension to practically all players, and despite an unfortunate title song, you have, to my mind, a thoroughly enjoyable movie experience. Predicted lable: 0 Actual Lable: 1\n",
            "Reviews: Obviously, a number of agents didn't see beyond dollar signs when they signed up their clients for this 117-minute *omage* to the courtesan complex.<br /><br />Sure, the film could have been alright, had the $1 million been left out of it. Seriously. The amount of the check doesn't matter,prostitution is still prostitution and no amount of \"love conquers all\" can change the fact that no marriage vows ever meant to imply \"for richer for poorer, for pimping as in fidelity\". Picture the story otherwise, though: 2 kids, flat broke, borderline \"desperate\" and completely stupid. They collide with wealthy business man. Kids' marriage is strained by imperfect times and the fact that the husband is something of a loser. Enter Mr. Tuxedo, oozing charm and stability -- a virtual magnet for the ticking biological clock -- and with him the wife's temptation, tensions, suspense. Whom will she choose? Maybe, under those conditions, I could actually care. As-is, frankly, Redford's selfish and manipulative playboy winds up the sympathetic character. A woman who will sell herself is just about what a guy deserves who will pimp out his wife. The indecent proposition makes the husband a TOTAL loser, deficient in every positive male characteristic, and makes the wife a cheap strumpet seduced by money rather than confused by another potential love, a woman devoid of moral center and self-respect.<br /><br />All the impressive talent (acting, directing, cinematography) wasted on this film -- and it was an impressive amount -- couldn't save it from its splashy-but-too-trashy $1 million pitch line. If I see this turkey at one more bridal shower, I'm going to roast it! (Or maybe cross it with Titanic and pitch the tape in the ocean!) Predicted lable: 1 Actual Lable: 0\n",
            "Reviews: This film has the language, the style and the attitude down ... plus greats rides from Occy (a world champ) and the great Jerry Lopez. John Philbin as Turtle has the surf pidgin down, and the surfing scenes are still the best ever. A true classic that can be seen many times. Nia Peeples is a babe, and Laird Hamilton shows the early stuff that has made him the world's number one extreme surfer. Predicted lable: 1 Actual Lable: 0\n",
            "Reviews: This is the sequel to Octopus.<br /><br />Pff... OK. A lot of stock footage, but pretty good. I'm surprised that they actually had a giant robot octopus that actually didn't look that bad! I was actually quite surprised by that.<br /><br />The movie overall was just OK fun. It never explained how the octopus got so big, and isn't linked it anyway to the first. But it was still fun.<br /><br />The ending me and my friend laughed at. Basically, after blowing the octopus up once, the two main characters launch a bomb, and five explosions, most stock footage, appear on screen! We joked that they went to the dollar store and bought a 'five missiles in one' toy! Believe me, it has to be seen to believe! Overall just stupid fun. Worth giving a chance, buying if it's cheap. Predicted lable: 1 Actual Lable: 0\n"
          ]
        }
      ]
    },
    {
      "cell_type": "markdown",
      "source": [
        "## Analysis of Results\n",
        "\n",
        "1.   Compare the performance of DistilBERT in IMDB with Logistic Regression and RNN performance from previous assignments.\n",
        "\n",
        "<table>\n",
        "    <tbody>\n",
        "        <tr><td>Model</td><td>Accuracy</td></tr>\n",
        "        <tr><td>DistilBERT</td><td>0.89</td></tr>\n",
        "        <tr><td>Logistic Regression</td><td>0.84</td></tr>\n",
        "        <tr><td>RNN</td><td>0.86</td></tr>\n",
        "    </tbody>\n",
        "</table>\n",
        "\n",
        "2.   [5111] Error analysis:\n",
        "  \n",
        "  * Look at a sample of reviews that were misclassified by DistilBERT, try to determine if there is a common type of errors that it makes. <br>\n",
        "a. The misclassified reviews contain a tone of sarcasm\n",
        "b. They contain words that are usually used a positive/negative purpose and are used for the opposite.\n",
        "  * [**Bonus**] Elaborate on how the model performance could be improved. [**Bigger Bonus**] Write code that leads to improved performance.\n",
        "  * Look at a sample of reviews that were misclassified by Logistic Regression but corectly classified by DistilBERT, elaborate on why you think DistilBERT was able to do better."
      ],
      "metadata": {
        "id": "xL_1z5igUEDt"
      }
    },
    {
      "cell_type": "markdown",
      "source": [
        "\n",
        "\n",
        "---\n",
        "\n",
        "## Bonus: Sentiment Analysis of Rotten Tomatoes Reviews\n",
        "\n",
        "Evaluate the model on the development portion of the Rotten Tomatoes dataset. Do a similar analysis as done for the IMDB dataset."
      ],
      "metadata": {
        "id": "ev4dWSriVQDe"
      }
    },
    {
      "cell_type": "code",
      "source": [
        "# Only the development portion will be used.\n",
        "url_train = \"https://webpages.charlotte.edu/rbunescu/courses/itcs4111/hw09/rt/train.txt\"\n",
        "url_test = \"https://webpages.charlotte.edu/rbunescu/courses/itcs4111/hw09/rt/test-blind.txt\"\n",
        "url_dev = \"https://webpages.charlotte.edu/rbunescu/courses/itcs4111/hw09/rt/dev.txt\"\n",
        "\n",
        "# YOUR CODE HERE\n",
        "data_files = {\"train\": url_train, \"test\": url_test, \"dev\": url_dev}\n",
        "dataset = load_dataset('text', data_files = data_files, encoding = 'cp1252')\n",
        "\n",
        "del dataset['train']\n",
        "del dataset['test']\n",
        "#dataset\n",
        "\n",
        "reviews, labels = read_examples(dataset['dev'],0)"
      ],
      "metadata": {
        "id": "ppNmJdMpTwC8",
        "colab": {
          "base_uri": "https://localhost:8080/",
          "height": 104,
          "referenced_widgets": [
            "4486b8845aef4d1dac15e02acef0d2cf",
            "d317e2734cb444eba757b695f9bba696",
            "a8f5a1b433424d2280a64e8f1fa7022a",
            "f562ef0756bd452995529f43b2e444ff",
            "c813499a97924a95b3e70f8f138a11b4",
            "92eb720d6a0340298806fcd1d1c18e91",
            "1907794d17404f0a93ab71d4ddb4d979",
            "0cd1b7e27908483c865370a4d157f125",
            "78412c5d895d4fa8beaba4cc2a5826ef",
            "74b6acb1b8f44ef6ab358ba7fecf95d8",
            "4569f5a130394d0d8f0d82c116a6ddfa"
          ]
        },
        "outputId": "4d579f56-9046-4242-8208-f8c725689b59"
      },
      "execution_count": 12,
      "outputs": [
        {
          "output_type": "stream",
          "name": "stderr",
          "text": [
            "Using custom data configuration default-e4392d669705ee0b\n",
            "Reusing dataset text (/root/.cache/huggingface/datasets/text/default-e4392d669705ee0b/0.0.0/4b86d314f7236db91f0a0f5cda32d4375445e64c5eda2692655dd99c2dac68e8)\n"
          ]
        },
        {
          "output_type": "display_data",
          "data": {
            "text/plain": [
              "  0%|          | 0/3 [00:00<?, ?it/s]"
            ],
            "application/vnd.jupyter.widget-view+json": {
              "version_major": 2,
              "version_minor": 0,
              "model_id": "4486b8845aef4d1dac15e02acef0d2cf"
            }
          },
          "metadata": {}
        }
      ]
    },
    {
      "cell_type": "code",
      "source": [
        "slabels, predictions = model()\n",
        "print('Accuracy = ', compute_accuracy(slabels, predictions))"
      ],
      "metadata": {
        "colab": {
          "base_uri": "https://localhost:8080/"
        },
        "id": "M0Zs66lgR9jV",
        "outputId": "3bada8eb-ec1e-4272-d53b-3346a3693347"
      },
      "execution_count": 13,
      "outputs": [
        {
          "output_type": "stream",
          "name": "stdout",
          "text": [
            "{0: 'NEGATIVE', 1: 'POSITIVE'}\n",
            "Processed 10 reviews.\n",
            "Processed 20 reviews.\n",
            "Processed 30 reviews.\n",
            "Processed 40 reviews.\n",
            "Processed 50 reviews.\n",
            "Processed 60 reviews.\n",
            "Processed 70 reviews.\n",
            "Processed 80 reviews.\n",
            "Processed 90 reviews.\n",
            "Processed 100 reviews.\n",
            "Accuracy =  0.86\n"
          ]
        }
      ]
    },
    {
      "cell_type": "markdown",
      "source": [
        "\n",
        "\n",
        "---\n",
        "\n",
        "# Named Entity Recognition\n",
        "\n"
      ],
      "metadata": {
        "id": "SNYkSseKey_6"
      }
    },
    {
      "cell_type": "markdown",
      "source": [
        "Run the HuggingFace NER Transformer on the examples from the Theory section. Below is sample code adapted from the HuggingFace course section on [Transformers what they can do?](https://huggingface.co/course/chapter1/3?fw=pt)."
      ],
      "metadata": {
        "id": "Jlm_XLUvi01P"
      }
    },
    {
      "cell_type": "code",
      "source": [
        "from transformers import pipeline\n",
        "\n",
        "ner = pipeline(\"ner\", grouped_entities = True)\n",
        "ner(\"UNC Charlotte is a public research university in North Carolina.\")\n",
        "\n",
        "# YOUR CODE HERE"
      ],
      "metadata": {
        "id": "wUXf53qDh1YC",
        "colab": {
          "base_uri": "https://localhost:8080/",
          "height": 396,
          "referenced_widgets": [
            "666c1b20fba643ab838fd66527ebe9a4",
            "12a8866a1f754ff5beeeae22219231e4",
            "f4774ec442eb4b9eb6c56a373f4558cf",
            "f36b66387feb4a44be0114a467a7b8a0",
            "331f5d101e0341a794a331f25821bcf2",
            "cfd2061e40644c8789115bae45e26e09",
            "5a9ad05435e54ddab40d0a050ceb7eee",
            "ea7308bebb4d4d22a4f351cee9ebcff1",
            "90ad8c26ccd249f2ad66e253c508493e",
            "e46c1548c7ef44be8bfc6eb260cfcd1f",
            "242dba8506414b1ca6181c4c3020bb06",
            "c061567991ea454c9d88793cdea913f0",
            "9d0720d17adb4314bd9e787b1c6d9f07",
            "894624c07722430eb46ee2539f37adef",
            "bee1a0f09cdd4a75b7b9cf6778997a47",
            "b441032c3a5c43cf9a5340cc91263085",
            "911ab9d62e2947e7a6d6cd0e9920e6d4",
            "4e5b883b0a5b4e4797f0c5c2a3a8b7b0",
            "45cfc8c615ee4f8a955e412a04ca869e",
            "4685d8d8d0ad4aad9e93f4086d0ddf5d",
            "f9d6104dc7304f28b15e905034569035",
            "fb2524f9b262486fb911c5c65d2f1c7a",
            "8a65b7eb5b2442b3bcfd12d635ebea43",
            "efdbc99d6ba24dfe968037b6da4e1cfc",
            "e04403e1f8ea472e8238d253094c0483",
            "21569ed7fa6543b5b885c58a7f2e9aae",
            "ed5f2ba2f80741fd9ef483f01dcedd9b",
            "789a20fff29b4a4aad803dc77e2e0b9f",
            "9870090569bf47c18cae9e30242c2fec",
            "e4581167cd5b4552aea6973df6c4f487",
            "c9fe0965dc574191b465b34776678d8c",
            "849f82b7d6684da7ae9895a947074744",
            "072b8a16af024b04a949f7f8c1a68c2b",
            "7beb4489b72f404e97fe63672e8e2ebe",
            "d7facf2b240540b2a670001c394f7e6e",
            "781d15ca53c64b2baf12f72fa07a19fa",
            "861d232ec23547208677a9e3423a2a0b",
            "1720abeaf4234e1cab7e01f828db9e18",
            "91c2c00fbda1477385b9d6e7b6046db4",
            "3962746faacd41a8ac67ad9b1a57a36d",
            "c380601a611a41c4ba859f9e81c0be18",
            "eacad05b822540bd985741571b470c73",
            "6e728ae973054be7932a8292494f8053",
            "a95851d83bf2426ab910b54845a503e3"
          ]
        },
        "outputId": "f8d47687-0b59-460a-ffda-3cefbdb38828"
      },
      "execution_count": 14,
      "outputs": [
        {
          "output_type": "stream",
          "name": "stderr",
          "text": [
            "No model was supplied, defaulted to dbmdz/bert-large-cased-finetuned-conll03-english (https://huggingface.co/dbmdz/bert-large-cased-finetuned-conll03-english)\n"
          ]
        },
        {
          "output_type": "display_data",
          "data": {
            "text/plain": [
              "Downloading:   0%|          | 0.00/998 [00:00<?, ?B/s]"
            ],
            "application/vnd.jupyter.widget-view+json": {
              "version_major": 2,
              "version_minor": 0,
              "model_id": "666c1b20fba643ab838fd66527ebe9a4"
            }
          },
          "metadata": {}
        },
        {
          "output_type": "display_data",
          "data": {
            "text/plain": [
              "Downloading:   0%|          | 0.00/1.24G [00:00<?, ?B/s]"
            ],
            "application/vnd.jupyter.widget-view+json": {
              "version_major": 2,
              "version_minor": 0,
              "model_id": "c061567991ea454c9d88793cdea913f0"
            }
          },
          "metadata": {}
        },
        {
          "output_type": "display_data",
          "data": {
            "text/plain": [
              "Downloading:   0%|          | 0.00/60.0 [00:00<?, ?B/s]"
            ],
            "application/vnd.jupyter.widget-view+json": {
              "version_major": 2,
              "version_minor": 0,
              "model_id": "8a65b7eb5b2442b3bcfd12d635ebea43"
            }
          },
          "metadata": {}
        },
        {
          "output_type": "display_data",
          "data": {
            "text/plain": [
              "Downloading:   0%|          | 0.00/208k [00:00<?, ?B/s]"
            ],
            "application/vnd.jupyter.widget-view+json": {
              "version_major": 2,
              "version_minor": 0,
              "model_id": "7beb4489b72f404e97fe63672e8e2ebe"
            }
          },
          "metadata": {}
        },
        {
          "output_type": "stream",
          "name": "stderr",
          "text": [
            "/usr/local/lib/python3.7/dist-packages/transformers/pipelines/token_classification.py:136: UserWarning: `grouped_entities` is deprecated and will be removed in version v5.0.0, defaulted to `aggregation_strategy=\"AggregationStrategy.SIMPLE\"` instead.\n",
            "  f'`grouped_entities` is deprecated and will be removed in version v5.0.0, defaulted to `aggregation_strategy=\"{aggregation_strategy}\"` instead.'\n"
          ]
        },
        {
          "output_type": "execute_result",
          "data": {
            "text/plain": [
              "[{'end': 13,\n",
              "  'entity_group': 'ORG',\n",
              "  'score': 0.9821411,\n",
              "  'start': 0,\n",
              "  'word': 'UNC Charlotte'},\n",
              " {'end': 63,\n",
              "  'entity_group': 'LOC',\n",
              "  'score': 0.99887604,\n",
              "  'start': 49,\n",
              "  'word': 'North Carolina'}]"
            ]
          },
          "metadata": {},
          "execution_count": 14
        }
      ]
    },
    {
      "cell_type": "code",
      "source": [
        "ner('The third mate was Flask, a native of Tisbury, in Martha’s Vineyard')"
      ],
      "metadata": {
        "colab": {
          "base_uri": "https://localhost:8080/"
        },
        "id": "kWiI4r1zb5Fr",
        "outputId": "59b11d24-a101-4f45-d3ce-2f8634489809"
      },
      "execution_count": 16,
      "outputs": [
        {
          "output_type": "execute_result",
          "data": {
            "text/plain": [
              "[{'end': 24,\n",
              "  'entity_group': 'PER',\n",
              "  'score': 0.99570006,\n",
              "  'start': 19,\n",
              "  'word': 'Flask'},\n",
              " {'end': 45,\n",
              "  'entity_group': 'LOC',\n",
              "  'score': 0.89198345,\n",
              "  'start': 38,\n",
              "  'word': 'Tisbury'},\n",
              " {'end': 67,\n",
              "  'entity_group': 'LOC',\n",
              "  'score': 0.97118497,\n",
              "  'start': 50,\n",
              "  'word': 'Martha ’ s Vineyard'}]"
            ]
          },
          "metadata": {},
          "execution_count": 16
        }
      ]
    },
    {
      "cell_type": "code",
      "source": [
        "ner('Its official Nintendo announced today that they Will release the Nintendo 3DS in north America march 27.')"
      ],
      "metadata": {
        "colab": {
          "base_uri": "https://localhost:8080/"
        },
        "id": "MUYf91jVb6BR",
        "outputId": "49546b26-f84e-4649-a4c5-76df5de38892"
      },
      "execution_count": 17,
      "outputs": [
        {
          "output_type": "execute_result",
          "data": {
            "text/plain": [
              "[{'end': 21,\n",
              "  'entity_group': 'ORG',\n",
              "  'score': 0.9988274,\n",
              "  'start': 13,\n",
              "  'word': 'Nintendo'},\n",
              " {'end': 77,\n",
              "  'entity_group': 'MISC',\n",
              "  'score': 0.9949834,\n",
              "  'start': 65,\n",
              "  'word': 'Nintendo 3DS'},\n",
              " {'end': 94,\n",
              "  'entity_group': 'LOC',\n",
              "  'score': 0.99817383,\n",
              "  'start': 87,\n",
              "  'word': 'America'}]"
            ]
          },
          "metadata": {},
          "execution_count": 17
        }
      ]
    },
    {
      "cell_type": "code",
      "source": [
        "ner('Jessica Reif, a media analyst at Merrill Lynch & Co., said, \"If they can get up and running with exclusive programming within six months, it doesnt set the venture back that far.\"')"
      ],
      "metadata": {
        "colab": {
          "base_uri": "https://localhost:8080/"
        },
        "id": "Gwxb5sUlbV8T",
        "outputId": "579f2dc1-882f-4fb3-9b55-4648670245ba"
      },
      "execution_count": 15,
      "outputs": [
        {
          "output_type": "execute_result",
          "data": {
            "text/plain": [
              "[{'end': 12,\n",
              "  'entity_group': 'PER',\n",
              "  'score': 0.9985828,\n",
              "  'start': 0,\n",
              "  'word': 'Jessica Reif'},\n",
              " {'end': 52,\n",
              "  'entity_group': 'ORG',\n",
              "  'score': 0.99609566,\n",
              "  'start': 33,\n",
              "  'word': 'Merrill Lynch & Co.'}]"
            ]
          },
          "metadata": {},
          "execution_count": 15
        }
      ]
    },
    {
      "cell_type": "markdown",
      "source": [
        "## Bonus: NER on CoNLL Text\n",
        "\n"
      ],
      "metadata": {
        "id": "IFoEWhpLDnT7"
      }
    },
    {
      "cell_type": "markdown",
      "source": [
        "In this bonus portion, evaluate the performance of the default Transformer model on the development portion of the CoNLL named entity dataset, and compare it against the performance of CRFs from a previous assignment.\n",
        "\n",
        "To complete this exercise, you may consider reusing code from the CRF assignment and/or NER code from the [Token Classification](https://huggingface.co/course/chapter7/2?fw=pt) section of the HuggingFace course. Similar to the sentiment analysis portion, you may need to run the NER Transformer on small batches of sentences at a time so that Colab does not run out of memory."
      ],
      "metadata": {
        "id": "ht_Klrd0jL4v"
      }
    },
    {
      "cell_type": "code",
      "source": [
        "# Only the development portion will be used.\n",
        "url_train = \"https://webpages.charlotte.edu/rbunescu/courses/itcs4111/hw09/ner/eng.train\"\n",
        "url_test = \"https://webpages.charlotte.edu/rbunescu/courses/itcs4111/hw09/ner/eng.testb.blind\"\n",
        "url_dev = \"https://webpages.charlotte.edu/rbunescu/courses/itcs4111/hw09/ner/eng.testa\"\n",
        "\n",
        "# YOUR CODE HERE\n",
        "\n",
        "\n",
        "\n"
      ],
      "metadata": {
        "id": "flh8JbDzhNRm"
      },
      "execution_count": null,
      "outputs": []
    },
    {
      "cell_type": "markdown",
      "source": [
        "# Bonus: Zero-shot Classification\n",
        "\n",
        "Zero-shot classification refers to using a model to classify text into labels for which the model was not explicitly trained. The example below, adapted from the HuggingFace course, shows how to use the default Transformer classifier to compute probabilities for new textual labels."
      ],
      "metadata": {
        "id": "8ysPCb_ikRx8"
      }
    },
    {
      "cell_type": "code",
      "source": [
        "from transformers import pipeline\n",
        "\n",
        "classifier = pipeline(\"zero-shot-classification\")\n",
        "classifier(\n",
        "    \"This is a computer science course about Natural Language Processing and Machine Learning.\",\n",
        "    candidate_labels=[\"education\", \"politics\", \"business\"],\n",
        ")"
      ],
      "metadata": {
        "id": "ClgANeJ_l8Ut"
      },
      "execution_count": null,
      "outputs": []
    },
    {
      "cell_type": "markdown",
      "source": [
        "Create or use an existing corpus that has at least 2 textual labels and 200 examples and evaluate the accuracy of the default Transformer model on text classification in the zero-shot setting. If in assignment 5 you created a text classification corpus, you can evaluate the Transformer model on that corpus."
      ],
      "metadata": {
        "id": "3YL-x3xQmHT1"
      }
    },
    {
      "cell_type": "code",
      "source": [
        "# YOUR CODE HERE\n",
        "\n",
        "\n",
        "\n"
      ],
      "metadata": {
        "id": "WS_6ZiT6m-V1"
      },
      "execution_count": null,
      "outputs": []
    },
    {
      "cell_type": "markdown",
      "source": [
        "# Bonus: Anything extra goes here"
      ],
      "metadata": {
        "id": "3oNwvbyEnGyB"
      }
    },
    {
      "cell_type": "code",
      "source": [
        "# YOUR CODE HERE\n",
        "\n",
        "\n",
        "\n"
      ],
      "metadata": {
        "id": "4Y9nBc0unLUr"
      },
      "execution_count": null,
      "outputs": []
    }
  ]
}